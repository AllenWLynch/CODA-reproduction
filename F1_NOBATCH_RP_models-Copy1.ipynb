{
 "cells": [
  {
   "cell_type": "code",
   "execution_count": 1,
   "id": "c68ce275-5e90-4989-8882-335561d21c7c",
   "metadata": {},
   "outputs": [],
   "source": [
    "import disentangler as dt\n",
    "from disentangler.dependencies import *"
   ]
  },
  {
   "cell_type": "code",
   "execution_count": 2,
   "id": "b0730f04-4510-4751-a070-4c093a5337a0",
   "metadata": {},
   "outputs": [
    {
     "name": "stderr",
     "output_type": "stream",
     "text": [
      "INFO:mira.topic_model.base:Moving model to CPU for inference.\n",
      "INFO:mira.topic_model.base:Moving model to device: cpu\n",
      "/liulab/alynch/projects/batcheffect-env/lib/python3.7/site-packages/sklearn/base.py:334: UserWarning: Trying to unpickle estimator StandardScaler from version 0.24.2 when using version 0.23.2. This might lead to breaking code or invalid results. Use at your own risk.\n",
      "  UserWarning)\n",
      "/liulab/alynch/projects/batcheffect-env/lib/python3.7/site-packages/sklearn/base.py:334: UserWarning: Trying to unpickle estimator OneHotEncoder from version 0.24.2 when using version 0.23.2. This might lead to breaking code or invalid results. Use at your own risk.\n",
      "  UserWarning)\n",
      "INFO:mira.topic_model.base:Moving model to CPU for inference.\n",
      "INFO:mira.topic_model.base:Moving model to device: cpu\n"
     ]
    }
   ],
   "source": [
    "rna_model = mira.topics.load_model(dt.bonemarrow.config.MIRA_RNA_NO_CORRECTION)\n",
    "atac_model = mira.topics.load_model(dt.bonemarrow.config.MIRA_ATAC_NO_CORRECTION)"
   ]
  },
  {
   "cell_type": "code",
   "execution_count": 3,
   "id": "b9c25ec1-d883-45f0-8a20-25b918cfb0ac",
   "metadata": {},
   "outputs": [],
   "source": [
    "rna_data, atac_data = dt.bonemarrow.utils.load_GEX_data(), dt.bonemarrow.utils.load_ATAC_data()"
   ]
  },
  {
   "cell_type": "code",
   "execution_count": 4,
   "id": "6efccd87-ef73-4ea6-8e4e-1ca395981a67",
   "metadata": {},
   "outputs": [
    {
     "data": {
      "application/vnd.jupyter.widget-view+json": {
       "model_id": "102a488ba7f947b2b86a5432ffd29284",
       "version_major": 2,
       "version_minor": 0
      },
      "text/plain": [
       "Predicting latent vars:   0%|          | 0/263 [00:00<?, ?it/s]"
      ]
     },
     "metadata": {},
     "output_type": "display_data"
    },
    {
     "name": "stderr",
     "output_type": "stream",
     "text": [
      "INFO:mira.adata_interface.core:Added key to obsm: X_topic_compositions\n",
      "INFO:mira.adata_interface.topic_model:Added cols: topic_0, topic_1, topic_2, topic_3, topic_4, topic_5, topic_6, topic_7, topic_8, topic_9, topic_10, topic_11, topic_12, topic_13, topic_14, topic_15, topic_16, topic_17, topic_18, topic_19, topic_20, topic_21, topic_22, topic_23, topic_24, topic_25, topic_26, topic_27, topic_28, topic_29, topic_30\n",
      "INFO:mira.adata_interface.core:Added key to varm: topic_feature_compositions\n",
      "INFO:mira.adata_interface.core:Added key to varm: topic_feature_activations\n"
     ]
    },
    {
     "data": {
      "application/vnd.jupyter.widget-view+json": {
       "model_id": "43ce3fe80f374914b485623ac2c2a6cd",
       "version_major": 2,
       "version_minor": 0
      },
      "text/plain": [
       "Predicting latent vars:   0%|          | 0/247 [00:00<?, ?it/s]"
      ]
     },
     "metadata": {},
     "output_type": "display_data"
    },
    {
     "name": "stderr",
     "output_type": "stream",
     "text": [
      "INFO:mira.adata_interface.core:Added key to obsm: X_topic_compositions\n",
      "INFO:mira.adata_interface.topic_model:Added cols: topic_0, topic_1, topic_2, topic_3, topic_4, topic_5, topic_6, topic_7, topic_8, topic_9, topic_10, topic_11, topic_12, topic_13, topic_14, topic_15, topic_16, topic_17, topic_18, topic_19, topic_20, topic_21, topic_22, topic_23, topic_24, topic_25\n",
      "INFO:mira.adata_interface.core:Added key to varm: topic_feature_compositions\n",
      "INFO:mira.adata_interface.core:Added key to varm: topic_feature_activations\n"
     ]
    }
   ],
   "source": [
    "atac_model.predict(atac_data)\n",
    "rna_model.predict(rna_data)"
   ]
  },
  {
   "cell_type": "code",
   "execution_count": 5,
   "id": "139d31eb-abb5-48f1-8d31-c46865e159f3",
   "metadata": {},
   "outputs": [
    {
     "name": "stderr",
     "output_type": "stream",
     "text": [
      "INFO:mira.adata_interface.topic_model:Fetching key X_topic_compositions from obsm\n",
      "INFO:mira.adata_interface.core:Added key to obsm: X_umap_features\n",
      "INFO:mira.adata_interface.topic_model:Fetching key X_topic_compositions from obsm\n",
      "INFO:mira.adata_interface.core:Added key to obsm: X_umap_features\n"
     ]
    }
   ],
   "source": [
    "atac_model.get_umap_features(atac_data, box_cox=0.2)\n",
    "rna_model.get_umap_features(rna_data, box_cox=0.2)"
   ]
  },
  {
   "cell_type": "code",
   "execution_count": 6,
   "id": "069a8c96-719d-443a-a3d6-3aab84a15381",
   "metadata": {},
   "outputs": [
    {
     "name": "stderr",
     "output_type": "stream",
     "text": [
      "WARNING:mira.adata_interface.utils:Some cells are not shared between views. Returned adatas will be subset copies\n",
      "INFO:mira.adata_interface.utils:61127 out of 69076 cells shared between datasets (88%).\n",
      "INFO:mira.adata_interface.utils:Key added to obsm: X_joint_umap_features\n"
     ]
    }
   ],
   "source": [
    "rna_data, atac_data = mira.utils.make_joint_representation(rna_data, atac_data)"
   ]
  },
  {
   "cell_type": "code",
   "execution_count": 7,
   "id": "5e448ed0-84ae-4f8a-85bb-73c71b753350",
   "metadata": {},
   "outputs": [],
   "source": [
    "rp_args = dict(\n",
    "    expr_adata = rna_data,\n",
    "    atac_adata = atac_data,\n",
    ")"
   ]
  },
  {
   "cell_type": "code",
   "execution_count": 8,
   "id": "c7d9e90a-b3c5-499f-b5b9-01abbbd984c7",
   "metadata": {},
   "outputs": [],
   "source": [
    "atac_data.var[['chr','start','end']] = \\\n",
    "    list(map(list, atac_data.var_names.str.split('-')))"
   ]
  },
  {
   "cell_type": "code",
   "execution_count": 9,
   "id": "f5afac43-b585-4853-a08f-1e49e7a02f7f",
   "metadata": {},
   "outputs": [
    {
     "name": "stderr",
     "output_type": "stream",
     "text": [
      "WARNING:mira.tools.connect_genes_peaks:22 regions encounted from unknown chromsomes: GL000205.2,GL000195.1,GL000219.1,KI270726.1,KI270713.1\n",
      "INFO:mira.tools.connect_genes_peaks:Finding peak intersections with promoters ...\n",
      "INFO:mira.tools.connect_genes_peaks:Calculating distances between peaks and TSS ...\n",
      "INFO:mira.tools.connect_genes_peaks:Masking other genes' promoters ...\n",
      "INFO:mira.adata_interface.rp_model:Added key to var: distance_to_TSS\n",
      "INFO:mira.adata_interface.rp_model:Added key to uns: distance_to_TSS_genes\n"
     ]
    }
   ],
   "source": [
    "mira.tl.get_distance_to_TSS(atac_data,\n",
    "                            tss_data = 'data/bonemarrow/hg38_tss_data.bed12.filtered',\n",
    "                            genome_file= 'data/bonemarrow/hg38.chrom.sizes'\n",
    "                           )"
   ]
  },
  {
   "cell_type": "code",
   "execution_count": 14,
   "id": "62293b06-d2dc-4b46-9efc-69f8bfe0c54b",
   "metadata": {},
   "outputs": [],
   "source": [
    "litemodel = mira.rp.LITE_Model(\n",
    "    expr_model=rna_model,\n",
    "    accessibility_model=atac_model,\n",
    "    genes=np.intersect1d(rna_model.features, atac_data.uns['distance_to_TSS_genes'])[1951:],\n",
    "    counts_layer='counts',\n",
    ")"
   ]
  },
  {
   "cell_type": "code",
   "execution_count": 15,
   "id": "55152cf3-b4a1-47b9-aaa5-9dfbeba17b5d",
   "metadata": {},
   "outputs": [],
   "source": [
    "!mkdir -p data/bonemarrow/rp/litemodels_NOBATCH"
   ]
  },
  {
   "cell_type": "code",
   "execution_count": 16,
   "id": "47d57140-4b41-4a1e-ae33-b0c46c82be5a",
   "metadata": {},
   "outputs": [
    {
     "data": {
      "application/vnd.jupyter.widget-view+json": {
       "model_id": "4ce2d2e5e3fd4fb1afac438e73a73644",
       "version_major": 2,
       "version_minor": 0
      },
      "text/plain": [
       "Fitting models:   0%|          | 0/891 [00:00<?, ?it/s]"
      ]
     },
     "metadata": {},
     "output_type": "display_data"
    },
    {
     "name": "stderr",
     "output_type": "stream",
     "text": [
      "WARNING:mira.rp_model.rp_model:SCART1 model failed to fit.\n",
      "WARNING:mira.rp_model.rp_model:SEMA5A model failed to fit.\n",
      "WARNING:mira.rp_model.rp_model:SGCD model failed to fit.\n",
      "WARNING:mira.rp_model.rp_model:SLC4A10 model failed to fit.\n",
      "WARNING:mira.rp_model.rp_model:THEMIS model failed to fit.\n",
      "WARNING:mira.rp_model.rp_model:TSHZ2 model failed to fit.\n",
      "WARNING:mira.rp_model.rp_model:TTN model failed to fit.\n",
      "WARNING:mira.rp_model.rp_model:XACT model failed to fit.\n",
      "WARNING:mira.rp_model.rp_model:ZBTB20-AS5 model failed to fit.\n",
      "WARNING:mira.rp_model.rp_model:ZMAT4 model failed to fit.\n"
     ]
    },
    {
     "data": {
      "text/plain": [
       "<mira.rp_model.rp_model.LITE_Model at 0x2aab6f683f90>"
      ]
     },
     "execution_count": 16,
     "metadata": {},
     "output_type": "execute_result"
    }
   ],
   "source": [
    "litemodel.fit(**rp_args, callback=mira.rp.SaveCallback('data/bonemarrow/rp/litemodels_NOBATCH/'))"
   ]
  }
 ],
 "metadata": {
  "kernelspec": {
   "display_name": "batcheffect-env",
   "language": "python",
   "name": "batcheffect-env"
  },
  "language_info": {
   "codemirror_mode": {
    "name": "ipython",
    "version": 3
   },
   "file_extension": ".py",
   "mimetype": "text/x-python",
   "name": "python",
   "nbconvert_exporter": "python",
   "pygments_lexer": "ipython3",
   "version": "3.7.12"
  }
 },
 "nbformat": 4,
 "nbformat_minor": 5
}
