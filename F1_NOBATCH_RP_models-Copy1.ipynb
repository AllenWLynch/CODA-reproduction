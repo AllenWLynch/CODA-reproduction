{
 "cells": [
  {
   "cell_type": "markdown",
   "id": "7f8c0b46-d1ac-4758-bef8-a9e0493bf536",
   "metadata": {},
   "source": [
    "## Training of non-corrected models"
   ]
  },
  {
   "cell_type": "code",
   "execution_count": 1,
   "id": "c68ce275-5e90-4989-8882-335561d21c7c",
   "metadata": {},
   "outputs": [],
   "source": [
    "import disentangler as dt\n",
    "from disentangler.dependencies import *"
   ]
  },
  {
   "cell_type": "code",
   "execution_count": 2,
   "id": "b0730f04-4510-4751-a070-4c093a5337a0",
   "metadata": {},
   "outputs": [
    {
     "name": "stderr",
     "output_type": "stream",
     "text": [
      "/liulab/alynch/projects/batcheffect-env/lib/python3.7/site-packages/sklearn/base.py:338: UserWarning: Trying to unpickle estimator StandardScaler from version 0.23.2 when using version 1.0.2. This might lead to breaking code or invalid results. Use at your own risk. For more info please refer to:\n",
      "https://scikit-learn.org/stable/modules/model_persistence.html#security-maintainability-limitations\n",
      "  UserWarning,\n",
      "/liulab/alynch/projects/batcheffect-env/lib/python3.7/site-packages/sklearn/base.py:338: UserWarning: Trying to unpickle estimator OneHotEncoder from version 0.23.2 when using version 1.0.2. This might lead to breaking code or invalid results. Use at your own risk. For more info please refer to:\n",
      "https://scikit-learn.org/stable/modules/model_persistence.html#security-maintainability-limitations\n",
      "  UserWarning,\n",
      "INFO:mira.topic_model.base:Moving model to CPU for inference.\n",
      "INFO:mira.topic_model.base:Moving model to device: cpu\n",
      "/liulab/alynch/projects/batcheffect-env/lib/python3.7/site-packages/sklearn/base.py:338: UserWarning: Trying to unpickle estimator StandardScaler from version 0.24.2 when using version 1.0.2. This might lead to breaking code or invalid results. Use at your own risk. For more info please refer to:\n",
      "https://scikit-learn.org/stable/modules/model_persistence.html#security-maintainability-limitations\n",
      "  UserWarning,\n",
      "/liulab/alynch/projects/batcheffect-env/lib/python3.7/site-packages/sklearn/base.py:338: UserWarning: Trying to unpickle estimator OneHotEncoder from version 0.24.2 when using version 1.0.2. This might lead to breaking code or invalid results. Use at your own risk. For more info please refer to:\n",
      "https://scikit-learn.org/stable/modules/model_persistence.html#security-maintainability-limitations\n",
      "  UserWarning,\n",
      "INFO:mira.topic_model.base:Moving model to CPU for inference.\n",
      "INFO:mira.topic_model.base:Moving model to device: cpu\n"
     ]
    }
   ],
   "source": [
    "rna_model = mira.topics.load_model(dt.bonemarrow.config.MIRA_RNA_NO_CORRECTION)\n",
    "atac_model = mira.topics.load_model(dt.bonemarrow.config.MIRA_ATAC_NO_CORRECTION)"
   ]
  },
  {
   "cell_type": "code",
   "execution_count": 3,
   "id": "b9c25ec1-d883-45f0-8a20-25b918cfb0ac",
   "metadata": {},
   "outputs": [],
   "source": [
    "rna_data, atac_data = dt.bonemarrow.utils.load_GEX_data(), dt.bonemarrow.utils.load_ATAC_data()"
   ]
  },
  {
   "cell_type": "code",
   "execution_count": 4,
   "id": "6efccd87-ef73-4ea6-8e4e-1ca395981a67",
   "metadata": {},
   "outputs": [
    {
     "data": {
      "application/vnd.jupyter.widget-view+json": {
       "model_id": "bd9b83186c67473c9eb370a9e9ababb1",
       "version_major": 2,
       "version_minor": 0
      },
      "text/plain": [
       "Predicting latent vars:   0%|          | 0/263 [00:00<?, ?it/s]"
      ]
     },
     "metadata": {},
     "output_type": "display_data"
    },
    {
     "name": "stderr",
     "output_type": "stream",
     "text": [
      "INFO:mira.adata_interface.core:Added key to obsm: X_topic_compositions\n",
      "INFO:mira.adata_interface.topic_model:Added cols: topic_0, topic_1, topic_2, topic_3, topic_4, topic_5, topic_6, topic_7, topic_8, topic_9, topic_10, topic_11, topic_12, topic_13, topic_14, topic_15, topic_16, topic_17, topic_18, topic_19, topic_20, topic_21, topic_22, topic_23, topic_24, topic_25, topic_26, topic_27, topic_28, topic_29, topic_30\n",
      "INFO:mira.adata_interface.core:Added key to varm: topic_feature_compositions\n",
      "INFO:mira.adata_interface.core:Added key to varm: topic_feature_activations\n"
     ]
    },
    {
     "data": {
      "application/vnd.jupyter.widget-view+json": {
       "model_id": "9252ba4faefb4508bf9faa99d4cab581",
       "version_major": 2,
       "version_minor": 0
      },
      "text/plain": [
       "Predicting latent vars:   0%|          | 0/247 [00:00<?, ?it/s]"
      ]
     },
     "metadata": {},
     "output_type": "display_data"
    },
    {
     "name": "stderr",
     "output_type": "stream",
     "text": [
      "INFO:mira.adata_interface.core:Added key to obsm: X_topic_compositions\n",
      "INFO:mira.adata_interface.topic_model:Added cols: topic_0, topic_1, topic_2, topic_3, topic_4, topic_5, topic_6, topic_7, topic_8, topic_9, topic_10, topic_11, topic_12, topic_13, topic_14, topic_15, topic_16, topic_17, topic_18, topic_19, topic_20, topic_21, topic_22, topic_23, topic_24, topic_25\n",
      "INFO:mira.adata_interface.core:Added key to varm: topic_feature_compositions\n",
      "INFO:mira.adata_interface.core:Added key to varm: topic_feature_activations\n"
     ]
    }
   ],
   "source": [
    "atac_model.predict(atac_data)\n",
    "rna_model.predict(rna_data)"
   ]
  },
  {
   "cell_type": "markdown",
   "id": "ee76496c-e1d9-490a-94ed-33a5713f5dfe",
   "metadata": {},
   "source": [
    "atac_model.get_umap_features(atac_data, box_cox=0.2)\n",
    "rna_model.get_umap_features(rna_data, box_cox=0.2)\n",
    "\n",
    "rna_data, atac_data = mira.utils.make_joint_representation(rna_data, atac_data)"
   ]
  },
  {
   "cell_type": "code",
   "execution_count": 5,
   "id": "c86da03b-590b-4417-822f-2df6976848ed",
   "metadata": {},
   "outputs": [
    {
     "name": "stderr",
     "output_type": "stream",
     "text": [
      "WARNING:mira.tools.connect_genes_peaks:22 regions encounted from unknown chromsomes: GL000205.2,GL000195.1,GL000219.1,KI270726.1,KI270713.1\n",
      "INFO:mira.tools.connect_genes_peaks:Finding peak intersections with promoters ...\n",
      "INFO:mira.tools.connect_genes_peaks:Calculating distances between peaks and TSS ...\n",
      "INFO:mira.tools.connect_genes_peaks:Masking other genes' promoters ...\n",
      "INFO:mira.adata_interface.rp_model:Added key to var: distance_to_TSS\n",
      "INFO:mira.adata_interface.rp_model:Added key to uns: distance_to_TSS_genes\n"
     ]
    }
   ],
   "source": [
    "shared_cells = np.intersect1d(rna_data.obs_names, atac_data.obs_names)\n",
    "\n",
    "rna_data, atac_data = rna_data[shared_cells].copy(), atac_data[shared_cells].copy()\n",
    "\n",
    "atac_data.var[['chr','start','end']] = \\\n",
    "    list(map(list, atac_data.var_names.str.split('-')))\n",
    "\n",
    "mira.tl.get_distance_to_TSS(atac_data,\n",
    "                            tss_data = 'data/bonemarrow/hg38_tss_data.bed12.filtered',\n",
    "                            genome_file= 'data/bonemarrow/hg38.chrom.sizes'\n",
    "                           )"
   ]
  },
  {
   "cell_type": "code",
   "execution_count": 6,
   "id": "40e76e5d-8d55-4e8c-a5f9-303c8441d14d",
   "metadata": {},
   "outputs": [],
   "source": [
    "from sklearn.model_selection import train_test_split\n",
    "import os\n",
    "\n",
    "batch_splits = {}\n",
    "for i, batch in enumerate(sorted(rna_data.obs.batch.cat.categories)):\n",
    "    train_bc, test_bc = train_test_split(rna_data[rna_data.obs.batch == batch].obs_names, random_state = i)\n",
    "    batch_splits[batch] = (train_bc, test_bc)"
   ]
  },
  {
   "cell_type": "markdown",
   "id": "f1d0afde-454a-4ebe-84f0-8281294bd13e",
   "metadata": {},
   "source": [
    "## Train on subbatches"
   ]
  },
  {
   "cell_type": "markdown",
   "id": "aa5d94aa-d078-4529-9d62-e36bc3f40f73",
   "metadata": {},
   "source": [
    "!rm -rf data/bonemarrow/rp/litemodels_NOBATCH/batches/"
   ]
  },
  {
   "cell_type": "code",
   "execution_count": 11,
   "id": "55152cf3-b4a1-47b9-aaa5-9dfbeba17b5d",
   "metadata": {},
   "outputs": [],
   "source": [
    "!mkdir -p data/bonemarrow/rp/litemodels_NOBATCH/\n",
    "!mkdir -p data/bonemarrow/rp/litemodels_NOBATCH/batches/"
   ]
  },
  {
   "cell_type": "code",
   "execution_count": 23,
   "id": "bb977b66-68ad-4bbd-bad7-163bcc277c20",
   "metadata": {},
   "outputs": [],
   "source": [
    "remaining_batches = set(batch_splits.keys())#.difference('s1d1  s1d2  s1d3  s2d1  s2d4  s2d5  s3d10  s3d3  s3d6  s3d7  s4d1'.split('  '))"
   ]
  },
  {
   "cell_type": "code",
   "execution_count": 19,
   "id": "af667fd6-5f54-4b24-b47b-624f845a028c",
   "metadata": {},
   "outputs": [],
   "source": [
    "for batch, (train, test) in {k: v for k, v in batch_splits.items() if k in remaining_batches}.items():\n",
    "    \n",
    "    print(batch, len(train), len(test))\n",
    "    \n",
    "    litemodel = mira.rp.LITE_Model(\n",
    "        expr_model=rna_model,\n",
    "        accessibility_model=atac_model,\n",
    "        genes=np.intersect1d(rna_model.features, atac_data.uns['distance_to_TSS_genes']),\n",
    "        counts_layer='counts',\n",
    "    )\n",
    "    \n",
    "    rp_args = dict(\n",
    "        expr_adata = rna_data[train].copy(),\n",
    "        atac_adata = atac_data[train].copy()\n",
    "    )\n",
    "    "
   ]
  },
  {
   "cell_type": "code",
   "execution_count": 22,
   "id": "2c04810a-f858-4c52-a1af-a68518a6fb52",
   "metadata": {},
   "outputs": [
    {
     "name": "stderr",
     "output_type": "stream",
     "text": [
      "INFO:mira.adata_interface.topic_model:Fetching key X_topic_compositions from obsm\n"
     ]
    },
    {
     "data": {
      "application/vnd.jupyter.widget-view+json": {
       "model_id": "8d4aa1d99c4247818097d28898b0d7c3",
       "version_major": 2,
       "version_minor": 0
      },
      "text/plain": [
       "Calculating softmax summary data:   0%|          | 0/10 [00:00<?, ?it/s]"
      ]
     },
     "metadata": {},
     "output_type": "display_data"
    },
    {
     "name": "stderr",
     "output_type": "stream",
     "text": [
      "INFO:mira.adata_interface.core:Added cols to obs: softmax_denom\n",
      "INFO:mira.adata_interface.topic_model:Fetching key X_topic_compositions from obsm\n"
     ]
    },
    {
     "data": {
      "application/vnd.jupyter.widget-view+json": {
       "model_id": "d70444393f744b7da4cf73c98e24f349",
       "version_major": 2,
       "version_minor": 0
      },
      "text/plain": [
       "Calculating softmax summary data:   0%|          | 0/49 [00:00<?, ?it/s]"
      ]
     },
     "metadata": {},
     "output_type": "display_data"
    },
    {
     "name": "stderr",
     "output_type": "stream",
     "text": [
      "INFO:mira.adata_interface.core:Added cols to obs: softmax_denom\n"
     ]
    },
    {
     "data": {
      "application/vnd.jupyter.widget-view+json": {
       "model_id": "787401c978014249a6d7981c859fbf07",
       "version_major": 2,
       "version_minor": 0
      },
      "text/plain": [
       "Fitting models:   0%|          | 0/2842 [00:00<?, ?it/s]"
      ]
     },
     "metadata": {},
     "output_type": "display_data"
    },
    {
     "name": "stderr",
     "output_type": "stream",
     "text": [
      "WARNING:mira.rp_model.rp_model:SLC4A10 model failed to fit.\n",
      "WARNING:mira.rp_model.rp_model:TSHZ2 model failed to fit.\n",
      "WARNING:mira.rp_model.rp_model:TTN model failed to fit.\n"
     ]
    },
    {
     "data": {
      "text/plain": [
       "<mira.rp_model.rp_model.LITE_Model at 0x2aab7c55cfd0>"
      ]
     },
     "execution_count": 22,
     "metadata": {},
     "output_type": "execute_result"
    }
   ],
   "source": [
    "    rna_model._get_softmax_denom(rp_args['expr_adata'], batch_size=500)\n",
    "    atac_model._get_softmax_denom(rp_args['atac_adata'], batch_size=100)\n",
    "     \n",
    "    savedir = os.path.join('data/bonemarrow/rp/litemodels_NOBATCH/batches/', batch)\n",
    "    \n",
    "    if not os.path.exists(savedir):\n",
    "        os.mkdir(savedir)\n",
    "        \n",
    "    litemodel.fit(**rp_args, n_workers = 1,\n",
    "                  callback=mira.rp.SaveCallback(savedir + '/'),\n",
    "                 )"
   ]
  },
  {
   "cell_type": "markdown",
   "id": "535d732f-3feb-44a2-b5b7-9bf4da912b16",
   "metadata": {},
   "source": [
    "## Train on all batches"
   ]
  },
  {
   "cell_type": "code",
   "execution_count": 80,
   "id": "39a77186-45e4-4842-8d0f-59309a8583a3",
   "metadata": {},
   "outputs": [],
   "source": [
    "all_train = set([t for batch, (train, test) in batch_splits.items() for t in train])\n",
    "all_test = set([t for batch, (train, test) in batch_splits.items() for t in test])\n",
    "\n",
    "all_train = list(all_train)\n",
    "\n",
    "len(all_train), len(all_test), len(all_train.intersection(all_test))\n",
    "\n",
    "litemodel = mira.rp.LITE_Model(\n",
    "        expr_model=rna_model,\n",
    "        accessibility_model=atac_model,\n",
    "        genes=np.intersect1d(rna_model.features, atac_data.uns['distance_to_TSS_genes']),\n",
    "        counts_layer='counts',\n",
    "    )\n",
    "    \n",
    "rp_args = dict(\n",
    "    expr_adata = rna_data[all_train].copy(),\n",
    "    atac_adata = atac_data[all_train].copy()\n",
    ")\n",
    "\n",
    "savedir = os.path.join('data/bonemarrow/rp/litemodels_NOBATCH/batches/', 'all')\n",
    "\n",
    "if not os.path.exists(savedir):\n",
    "    os.mkdir(savedir)\n",
    "\n",
    "litemodel.fit(**rp_args, n_workers = 8,\n",
    "              callback=mira.rp.SaveCallback(savedir + '/'),\n",
    "             )"
   ]
  },
  {
   "cell_type": "markdown",
   "id": "42b1cd24-b3f1-4620-a4ec-4a4a076110ec",
   "metadata": {},
   "source": [
    "## ISD without correction"
   ]
  },
  {
   "cell_type": "code",
   "execution_count": 7,
   "id": "ab057d38-c827-4cb0-ba63-6a2900f2f204",
   "metadata": {},
   "outputs": [
    {
     "name": "stderr",
     "output_type": "stream",
     "text": [
      "INFO:mira.adata_interface.core:Added cols to obs: model_read_scale\n",
      "INFO:mira.adata_interface.topic_model:Fetching key X_topic_compositions from obsm\n"
     ]
    },
    {
     "data": {
      "application/vnd.jupyter.widget-view+json": {
       "model_id": "1f8cc4eab5944313ad45df285b6e4805",
       "version_major": 2,
       "version_minor": 0
      },
      "text/plain": [
       "Calculating softmax summary data:   0%|          | 0/60 [00:00<?, ?it/s]"
      ]
     },
     "metadata": {},
     "output_type": "display_data"
    },
    {
     "name": "stderr",
     "output_type": "stream",
     "text": [
      "INFO:mira.adata_interface.core:Added cols to obs: softmax_denom\n",
      "INFO:mira.adata_interface.topic_model:Fetching key X_topic_compositions from obsm\n"
     ]
    },
    {
     "data": {
      "application/vnd.jupyter.widget-view+json": {
       "model_id": "c0a36f31b00d4a1692bd3573deeedd03",
       "version_major": 2,
       "version_minor": 0
      },
      "text/plain": [
       "Calculating softmax summary data:   0%|          | 0/60 [00:00<?, ?it/s]"
      ]
     },
     "metadata": {},
     "output_type": "display_data"
    },
    {
     "name": "stderr",
     "output_type": "stream",
     "text": [
      "INFO:mira.adata_interface.core:Added cols to obs: softmax_denom\n"
     ]
    },
    {
     "data": {
      "application/vnd.jupyter.widget-view+json": {
       "model_id": "28d57be5b04d421b8166eddf472a76ec",
       "version_major": 2,
       "version_minor": 0
      },
      "text/plain": [
       "Predicting expression:   0%|          | 0/2811 [00:00<?, ?it/s]"
      ]
     },
     "metadata": {},
     "output_type": "display_data"
    },
    {
     "name": "stderr",
     "output_type": "stream",
     "text": [
      "/liulab/alynch/projects/batcheffect-env/lib/python3.7/site-packages/pyro/util.py:367: UserWarning: Found plate statements in guide but not model: {'spans', 'upstream-downstream'}\n",
      "  guide_vars - model_vars\n",
      "/liulab/alynch/projects/multiomics/BatchEffect/MIRA/mira/rp_model/rp_model.py:837: UserWarning: To copy construct from a tensor, it is recommended to use sourceTensor.clone().detach() or sourceTensor.clone().detach().requires_grad_(True), rather than torch.tensor(sourceTensor).\n",
      "  return torch.tensor(X, requires_grad=False)\n",
      "INFO:mira.adata_interface.core:Added layer: LITE_prediction\n",
      "INFO:mira.adata_interface.core:Added layer: LITE_logp\n"
     ]
    }
   ],
   "source": [
    "litemodel = mira.rp.LITE_Model.load_dir(\n",
    "    expr_model=rna_model,\n",
    "    accessibility_model=atac_model,\n",
    "    counts_layer='counts',\n",
    "    prefix = 'data/bonemarrow/rp/litemodels_NOBATCH/batches/all/'\n",
    ")\n",
    "\n",
    "all_train = list(set([t for batch, (train, test) in batch_splits.items() for t in train]))\n",
    "all_test = list(set([t for batch, (train, test) in batch_splits.items() for t in test]))\n",
    "\n",
    "rp_args = dict(\n",
    "    expr_adata = rna_data[all_test].copy(),\n",
    "    atac_adata = atac_data[all_test].copy()\n",
    ")\n",
    "\n",
    "litemodel.predict(**rp_args, n_workers=1)"
   ]
  },
  {
   "cell_type": "code",
   "execution_count": 8,
   "id": "864e5016-4b14-459d-86dd-4a6fd2ac1ce1",
   "metadata": {},
   "outputs": [
    {
     "name": "stderr",
     "output_type": "stream",
     "text": [
      "INFO:mira.tools.motif_scan:Getting peak sequences ...\n",
      "116490it [00:02, 56861.42it/s]\n",
      "INFO:mira.tools.motif_scan:Scanning peaks for motif hits with p >= 0.0001 ...\n",
      "INFO:mira.tools.motif_scan:Building motif background models ...\n",
      "INFO:mira.tools.motif_scan:Starting scan ...\n",
      "INFO:mira.tools.motif_scan:Found 1000000 motif hits ...\n",
      "INFO:mira.tools.motif_scan:Found 2000000 motif hits ...\n",
      "INFO:mira.tools.motif_scan:Found 3000000 motif hits ...\n",
      "INFO:mira.tools.motif_scan:Found 4000000 motif hits ...\n",
      "INFO:mira.tools.motif_scan:Found 5000000 motif hits ...\n",
      "INFO:mira.tools.motif_scan:Found 6000000 motif hits ...\n",
      "INFO:mira.tools.motif_scan:Found 7000000 motif hits ...\n",
      "INFO:mira.tools.motif_scan:Found 8000000 motif hits ...\n",
      "INFO:mira.tools.motif_scan:Found 9000000 motif hits ...\n",
      "INFO:mira.tools.motif_scan:Found 10000000 motif hits ...\n",
      "INFO:mira.tools.motif_scan:Found 11000000 motif hits ...\n",
      "INFO:mira.tools.motif_scan:Found 12000000 motif hits ...\n",
      "INFO:mira.tools.motif_scan:Found 13000000 motif hits ...\n",
      "INFO:mira.tools.motif_scan:Found 14000000 motif hits ...\n",
      "INFO:mira.tools.motif_scan:Found 15000000 motif hits ...\n",
      "INFO:mira.tools.motif_scan:Found 16000000 motif hits ...\n",
      "INFO:mira.tools.motif_scan:Found 17000000 motif hits ...\n",
      "INFO:mira.tools.motif_scan:Found 18000000 motif hits ...\n",
      "INFO:mira.tools.motif_scan:Found 19000000 motif hits ...\n",
      "INFO:mira.tools.motif_scan:Found 20000000 motif hits ...\n",
      "INFO:mira.tools.motif_scan:Found 21000000 motif hits ...\n",
      "INFO:mira.tools.motif_scan:Found 22000000 motif hits ...\n",
      "INFO:mira.tools.motif_scan:Found 23000000 motif hits ...\n",
      "INFO:mira.tools.motif_scan:Found 24000000 motif hits ...\n",
      "INFO:mira.tools.motif_scan:Found 25000000 motif hits ...\n",
      "INFO:mira.tools.motif_scan:Found 26000000 motif hits ...\n",
      "INFO:mira.tools.motif_scan:Found 27000000 motif hits ...\n",
      "INFO:mira.tools.motif_scan:Found 28000000 motif hits ...\n",
      "INFO:mira.tools.motif_scan:Found 29000000 motif hits ...\n",
      "INFO:mira.tools.motif_scan:Found 30000000 motif hits ...\n",
      "INFO:mira.tools.motif_scan:Found 31000000 motif hits ...\n",
      "INFO:mira.tools.motif_scan:Found 32000000 motif hits ...\n",
      "INFO:mira.tools.motif_scan:Found 33000000 motif hits ...\n",
      "INFO:mira.tools.motif_scan:Found 34000000 motif hits ...\n",
      "INFO:mira.tools.motif_scan:Found 35000000 motif hits ...\n",
      "INFO:mira.tools.motif_scan:Found 36000000 motif hits ...\n",
      "INFO:mira.tools.motif_scan:Found 37000000 motif hits ...\n",
      "INFO:mira.tools.motif_scan:Found 38000000 motif hits ...\n",
      "INFO:mira.tools.motif_scan:Found 39000000 motif hits ...\n",
      "INFO:mira.tools.motif_scan:Found 40000000 motif hits ...\n",
      "INFO:mira.tools.motif_scan:Found 41000000 motif hits ...\n",
      "INFO:mira.tools.motif_scan:Found 42000000 motif hits ...\n",
      "INFO:mira.tools.motif_scan:Found 43000000 motif hits ...\n",
      "INFO:mira.tools.motif_scan:Found 44000000 motif hits ...\n",
      "INFO:mira.tools.motif_scan:Found 45000000 motif hits ...\n",
      "INFO:mira.tools.motif_scan:Found 46000000 motif hits ...\n",
      "INFO:mira.tools.motif_scan:Found 47000000 motif hits ...\n",
      "INFO:mira.tools.motif_scan:Found 48000000 motif hits ...\n",
      "INFO:mira.tools.motif_scan:Found 49000000 motif hits ...\n",
      "INFO:mira.tools.motif_scan:Found 50000000 motif hits ...\n",
      "INFO:mira.tools.motif_scan:Found 51000000 motif hits ...\n",
      "INFO:mira.tools.motif_scan:Found 52000000 motif hits ...\n",
      "INFO:mira.tools.motif_scan:Formatting hits matrix ...\n",
      "INFO:mira.adata_interface.regulators:Added key to varm: motifs_hits\n",
      "INFO:mira.adata_interface.regulators:Added key to uns: motifs\n"
     ]
    }
   ],
   "source": [
    "mira.tl.get_motif_hits_in_peaks(atac_data, genome_fasta='../DataAnalyses/mira-datasets/hg38.fa')"
   ]
  },
  {
   "cell_type": "code",
   "execution_count": 9,
   "id": "912525a8-b64f-4706-9880-94337214b6ab",
   "metadata": {},
   "outputs": [
    {
     "name": "stderr",
     "output_type": "stream",
     "text": [
      "INFO:mira.adata_interface.core:Added cols to obs: model_read_scale\n",
      "INFO:mira.adata_interface.topic_model:Fetching key X_topic_compositions from obsm\n"
     ]
    },
    {
     "data": {
      "application/vnd.jupyter.widget-view+json": {
       "model_id": "7f78ad8fe8f74cb3b786f5a36870c285",
       "version_major": 2,
       "version_minor": 0
      },
      "text/plain": [
       "Calculating softmax summary data:   0%|          | 0/60 [00:00<?, ?it/s]"
      ]
     },
     "metadata": {},
     "output_type": "display_data"
    },
    {
     "name": "stderr",
     "output_type": "stream",
     "text": [
      "INFO:mira.adata_interface.core:Added cols to obs: softmax_denom\n",
      "INFO:mira.adata_interface.topic_model:Fetching key X_topic_compositions from obsm\n"
     ]
    },
    {
     "data": {
      "application/vnd.jupyter.widget-view+json": {
       "model_id": "a6508b435d7d49889bad0fc802fbcd08",
       "version_major": 2,
       "version_minor": 0
      },
      "text/plain": [
       "Calculating softmax summary data:   0%|          | 0/60 [00:00<?, ?it/s]"
      ]
     },
     "metadata": {},
     "output_type": "display_data"
    },
    {
     "name": "stderr",
     "output_type": "stream",
     "text": [
      "INFO:mira.adata_interface.core:Added cols to obs: softmax_denom\n"
     ]
    },
    {
     "data": {
      "application/vnd.jupyter.widget-view+json": {
       "model_id": "7d52d69180e544409b9a23e95d4d4d47",
       "version_major": 2,
       "version_minor": 0
      },
      "text/plain": [
       "Predicting TF influence:   0%|          | 0/2811 [00:00<?, ?it/s]"
      ]
     },
     "metadata": {},
     "output_type": "display_data"
    },
    {
     "name": "stderr",
     "output_type": "stream",
     "text": [
      "INFO:mira.adata_interface.rp_model:Appending to expression adata:\n",
      "INFO:mira.adata_interface.rp_model:Added key to varm: 'motifs-prob_deletion')\n",
      "INFO:mira.adata_interface.rp_model:Added key to layers: motifs-informative_samples\n",
      "INFO:mira.adata_interface.rp_model:Added key to uns: motifs\n"
     ]
    }
   ],
   "source": [
    "rp_args = dict(\n",
    "    expr_adata = rna_data[all_test].copy(),\n",
    "    atac_adata = atac_data[all_test].copy()\n",
    ")\n",
    "\n",
    "litemodel.probabilistic_isd(**rp_args)\n",
    "\n",
    "rp_args['expr_adata'].write_h5ad('data/bonemarrow/rp/not_corrected_ISD.h5ad')"
   ]
  },
  {
   "cell_type": "markdown",
   "id": "b59d01a1-b775-4e60-ab9c-7ee8a2a78bbc",
   "metadata": {},
   "source": [
    "## Calculating liklihoods on test data"
   ]
  },
  {
   "cell_type": "code",
   "execution_count": 7,
   "id": "a67d7ac9-f051-4ec0-8f06-37d98b1b0eb7",
   "metadata": {},
   "outputs": [],
   "source": [
    "uncalced_batches = [('s4d8', 's1d1'),\n",
    " ('s2d5', 's1d2'),\n",
    " ('s4d1', 's1d2'),\n",
    " ('s2d4', 's1d3'),\n",
    " ('s2d5', 's1d3'),\n",
    " ('s3d7', 's1d3'),\n",
    " ('s4d1', 's1d3'),\n",
    " ('s2d5', 's2d4'),\n",
    " ('s2d5', 's3d10'),\n",
    " ('s2d5', 's3d6'),\n",
    " ('s3d10', 's3d7'),\n",
    " ('s1d3', 's4d1'),\n",
    " ('s2d1', 's4d1'),\n",
    " ('s2d4', 's4d1'),\n",
    " ('s2d5', 's4d1'),\n",
    " ('s3d10', 's4d1'),\n",
    " ('s1d1', 's4d8'),\n",
    " ('s1d3', 's4d8'),\n",
    " ('s2d1', 's4d8'),\n",
    " ('s2d4', 's4d8'),\n",
    " ('s2d5', 's4d8'),\n",
    " ('s3d10', 's4d8'),\n",
    " ('s3d3', 's4d8'),\n",
    " ('s1d1', 's4d9'),\n",
    " ('s1d2', 's4d9'),\n",
    " ('s1d3', 's4d9'),\n",
    " ('s2d1', 's4d9'),\n",
    " ('s2d4', 's4d9'),\n",
    " ('s2d5', 's4d9'),\n",
    " ('s3d10', 's4d9'),\n",
    " ('s3d3', 's4d9'),\n",
    " ('s3d6', 's4d9'),\n",
    " ('s3d7', 's4d9'),\n",
    " ('s4d1', 's4d9'),\n",
    " ('s4d8', 's4d9')]"
   ]
  },
  {
   "cell_type": "code",
   "execution_count": 8,
   "id": "62cc8952-4e72-43e6-9a07-77236d34d9ea",
   "metadata": {},
   "outputs": [],
   "source": [
    "batches = list(batch_splits.keys())"
   ]
  },
  {
   "cell_type": "code",
   "execution_count": 9,
   "id": "ab8e8703-71ac-43fd-9908-1de102332744",
   "metadata": {},
   "outputs": [],
   "source": [
    "combos = [(train_batch, test_batch) for train_batch in batches + ['all'] for test_batch in batches]"
   ]
  },
  {
   "cell_type": "code",
   "execution_count": 10,
   "id": "2b222b60-95f0-4855-9ff3-042d39b96949",
   "metadata": {},
   "outputs": [
    {
     "data": {
      "application/vnd.jupyter.widget-view+json": {
       "model_id": "76cf5440b5184e5bab167decd86f9a16",
       "version_major": 2,
       "version_minor": 0
      },
      "text/plain": [
       "Predicting latent vars:   0%|          | 0/6 [00:00<?, ?it/s]"
      ]
     },
     "metadata": {},
     "output_type": "display_data"
    },
    {
     "name": "stderr",
     "output_type": "stream",
     "text": [
      "INFO:mira.adata_interface.core:Added key to obsm: X_topic_compositions\n",
      "INFO:mira.adata_interface.topic_model:Added cols: topic_0, topic_1, topic_2, topic_3, topic_4, topic_5, topic_6, topic_7, topic_8, topic_9, topic_10, topic_11, topic_12, topic_13, topic_14, topic_15, topic_16, topic_17, topic_18, topic_19, topic_20, topic_21, topic_22, topic_23, topic_24, topic_25\n",
      "INFO:mira.adata_interface.core:Added key to varm: topic_feature_compositions\n",
      "INFO:mira.adata_interface.core:Added key to varm: topic_feature_activations\n"
     ]
    },
    {
     "data": {
      "application/vnd.jupyter.widget-view+json": {
       "model_id": "21b9160541fa487bab14e1585d6441db",
       "version_major": 2,
       "version_minor": 0
      },
      "text/plain": [
       "Predicting latent vars:   0%|          | 0/6 [00:00<?, ?it/s]"
      ]
     },
     "metadata": {},
     "output_type": "display_data"
    },
    {
     "name": "stderr",
     "output_type": "stream",
     "text": [
      "INFO:mira.adata_interface.core:Added key to obsm: X_topic_compositions\n",
      "INFO:mira.adata_interface.topic_model:Added cols: topic_0, topic_1, topic_2, topic_3, topic_4, topic_5, topic_6, topic_7, topic_8, topic_9, topic_10, topic_11, topic_12, topic_13, topic_14, topic_15, topic_16, topic_17, topic_18, topic_19, topic_20, topic_21, topic_22, topic_23, topic_24, topic_25, topic_26, topic_27, topic_28, topic_29, topic_30\n",
      "INFO:mira.adata_interface.core:Added key to varm: topic_feature_compositions\n",
      "INFO:mira.adata_interface.core:Added key to varm: topic_feature_activations\n",
      "INFO:mira.adata_interface.core:Added cols to obs: model_read_scale\n",
      "INFO:mira.adata_interface.topic_model:Fetching key X_topic_compositions from obsm\n"
     ]
    },
    {
     "data": {
      "application/vnd.jupyter.widget-view+json": {
       "model_id": "64f8449480fa4b37a8b3da3275c40892",
       "version_major": 2,
       "version_minor": 0
      },
      "text/plain": [
       "Calculating softmax summary data:   0%|          | 0/6 [00:00<?, ?it/s]"
      ]
     },
     "metadata": {},
     "output_type": "display_data"
    },
    {
     "name": "stderr",
     "output_type": "stream",
     "text": [
      "INFO:mira.adata_interface.core:Added cols to obs: softmax_denom\n",
      "INFO:mira.adata_interface.topic_model:Fetching key X_topic_compositions from obsm\n"
     ]
    },
    {
     "data": {
      "application/vnd.jupyter.widget-view+json": {
       "model_id": "6f5d1b54222445c2acc48101972aba43",
       "version_major": 2,
       "version_minor": 0
      },
      "text/plain": [
       "Calculating softmax summary data:   0%|          | 0/6 [00:00<?, ?it/s]"
      ]
     },
     "metadata": {},
     "output_type": "display_data"
    },
    {
     "name": "stderr",
     "output_type": "stream",
     "text": [
      "INFO:mira.adata_interface.core:Added cols to obs: softmax_denom\n"
     ]
    },
    {
     "data": {
      "application/vnd.jupyter.widget-view+json": {
       "model_id": "eccb9cfab266483bae5fa91929e9c327",
       "version_major": 2,
       "version_minor": 0
      },
      "text/plain": [
       "Predicting expression:   0%|          | 0/2836 [00:00<?, ?it/s]"
      ]
     },
     "metadata": {},
     "output_type": "display_data"
    },
    {
     "name": "stderr",
     "output_type": "stream",
     "text": [
      "/liulab/alynch/projects/batcheffect-env/lib/python3.7/site-packages/pyro/util.py:367: UserWarning: Found plate statements in guide but not model: {'upstream-downstream', 'spans'}\n",
      "  guide_vars - model_vars\n",
      "/liulab/alynch/projects/multiomics/BatchEffect/MIRA/mira/rp_model/rp_model.py:837: UserWarning: To copy construct from a tensor, it is recommended to use sourceTensor.clone().detach() or sourceTensor.clone().detach().requires_grad_(True), rather than torch.tensor(sourceTensor).\n",
      "  return torch.tensor(X, requires_grad=False)\n",
      "INFO:mira.adata_interface.core:Added layer: LITE_prediction\n",
      "INFO:mira.adata_interface.core:Added layer: LITE_logp\n"
     ]
    },
    {
     "name": "stdout",
     "output_type": "stream",
     "text": [
      "s4d8 s1d1\n"
     ]
    },
    {
     "data": {
      "application/vnd.jupyter.widget-view+json": {
       "model_id": "dc9d3ce80aee4869a422d6adc3501766",
       "version_major": 2,
       "version_minor": 0
      },
      "text/plain": [
       "Predicting latent vars:   0%|          | 0/7 [00:00<?, ?it/s]"
      ]
     },
     "metadata": {},
     "output_type": "display_data"
    },
    {
     "name": "stderr",
     "output_type": "stream",
     "text": [
      "INFO:mira.adata_interface.core:Added key to obsm: X_topic_compositions\n",
      "INFO:mira.adata_interface.topic_model:Added cols: topic_0, topic_1, topic_2, topic_3, topic_4, topic_5, topic_6, topic_7, topic_8, topic_9, topic_10, topic_11, topic_12, topic_13, topic_14, topic_15, topic_16, topic_17, topic_18, topic_19, topic_20, topic_21, topic_22, topic_23, topic_24, topic_25\n",
      "INFO:mira.adata_interface.core:Added key to varm: topic_feature_compositions\n",
      "INFO:mira.adata_interface.core:Added key to varm: topic_feature_activations\n"
     ]
    },
    {
     "data": {
      "application/vnd.jupyter.widget-view+json": {
       "model_id": "4402bf9108804de3972d4dc79327689f",
       "version_major": 2,
       "version_minor": 0
      },
      "text/plain": [
       "Predicting latent vars:   0%|          | 0/7 [00:00<?, ?it/s]"
      ]
     },
     "metadata": {},
     "output_type": "display_data"
    },
    {
     "name": "stderr",
     "output_type": "stream",
     "text": [
      "INFO:mira.adata_interface.core:Added key to obsm: X_topic_compositions\n",
      "INFO:mira.adata_interface.topic_model:Added cols: topic_0, topic_1, topic_2, topic_3, topic_4, topic_5, topic_6, topic_7, topic_8, topic_9, topic_10, topic_11, topic_12, topic_13, topic_14, topic_15, topic_16, topic_17, topic_18, topic_19, topic_20, topic_21, topic_22, topic_23, topic_24, topic_25, topic_26, topic_27, topic_28, topic_29, topic_30\n",
      "INFO:mira.adata_interface.core:Added key to varm: topic_feature_compositions\n",
      "INFO:mira.adata_interface.core:Added key to varm: topic_feature_activations\n",
      "INFO:mira.adata_interface.core:Added cols to obs: model_read_scale\n",
      "INFO:mira.adata_interface.topic_model:Fetching key X_topic_compositions from obsm\n"
     ]
    },
    {
     "data": {
      "application/vnd.jupyter.widget-view+json": {
       "model_id": "23b4caab0c12491283a53057b47304f6",
       "version_major": 2,
       "version_minor": 0
      },
      "text/plain": [
       "Calculating softmax summary data:   0%|          | 0/7 [00:00<?, ?it/s]"
      ]
     },
     "metadata": {},
     "output_type": "display_data"
    },
    {
     "name": "stderr",
     "output_type": "stream",
     "text": [
      "INFO:mira.adata_interface.core:Added cols to obs: softmax_denom\n",
      "INFO:mira.adata_interface.topic_model:Fetching key X_topic_compositions from obsm\n"
     ]
    },
    {
     "data": {
      "application/vnd.jupyter.widget-view+json": {
       "model_id": "41aee496b3214b3db19e404ecfe44d49",
       "version_major": 2,
       "version_minor": 0
      },
      "text/plain": [
       "Calculating softmax summary data:   0%|          | 0/7 [00:00<?, ?it/s]"
      ]
     },
     "metadata": {},
     "output_type": "display_data"
    },
    {
     "name": "stderr",
     "output_type": "stream",
     "text": [
      "INFO:mira.adata_interface.core:Added cols to obs: softmax_denom\n"
     ]
    },
    {
     "data": {
      "application/vnd.jupyter.widget-view+json": {
       "model_id": "172c37c6f8e54d0ba0fad7970be0a770",
       "version_major": 2,
       "version_minor": 0
      },
      "text/plain": [
       "Predicting expression:   0%|          | 0/2829 [00:00<?, ?it/s]"
      ]
     },
     "metadata": {},
     "output_type": "display_data"
    },
    {
     "name": "stderr",
     "output_type": "stream",
     "text": [
      "/liulab/alynch/projects/batcheffect-env/lib/python3.7/site-packages/pyro/util.py:367: UserWarning: Found plate statements in guide but not model: {'upstream-downstream', 'spans'}\n",
      "  guide_vars - model_vars\n",
      "/liulab/alynch/projects/multiomics/BatchEffect/MIRA/mira/rp_model/rp_model.py:837: UserWarning: To copy construct from a tensor, it is recommended to use sourceTensor.clone().detach() or sourceTensor.clone().detach().requires_grad_(True), rather than torch.tensor(sourceTensor).\n",
      "  return torch.tensor(X, requires_grad=False)\n",
      "INFO:mira.adata_interface.core:Added layer: LITE_prediction\n",
      "INFO:mira.adata_interface.core:Added layer: LITE_logp\n"
     ]
    },
    {
     "name": "stdout",
     "output_type": "stream",
     "text": [
      "s2d5 s1d2\n"
     ]
    },
    {
     "data": {
      "application/vnd.jupyter.widget-view+json": {
       "model_id": "cd4a5b3eca6b4c46a5765ad3bf820311",
       "version_major": 2,
       "version_minor": 0
      },
      "text/plain": [
       "Predicting latent vars:   0%|          | 0/7 [00:00<?, ?it/s]"
      ]
     },
     "metadata": {},
     "output_type": "display_data"
    },
    {
     "name": "stderr",
     "output_type": "stream",
     "text": [
      "INFO:mira.adata_interface.core:Added key to obsm: X_topic_compositions\n",
      "INFO:mira.adata_interface.topic_model:Added cols: topic_0, topic_1, topic_2, topic_3, topic_4, topic_5, topic_6, topic_7, topic_8, topic_9, topic_10, topic_11, topic_12, topic_13, topic_14, topic_15, topic_16, topic_17, topic_18, topic_19, topic_20, topic_21, topic_22, topic_23, topic_24, topic_25\n",
      "INFO:mira.adata_interface.core:Added key to varm: topic_feature_compositions\n",
      "INFO:mira.adata_interface.core:Added key to varm: topic_feature_activations\n"
     ]
    },
    {
     "data": {
      "application/vnd.jupyter.widget-view+json": {
       "model_id": "699ce7808c7d4fcba50b5066e94c2121",
       "version_major": 2,
       "version_minor": 0
      },
      "text/plain": [
       "Predicting latent vars:   0%|          | 0/7 [00:00<?, ?it/s]"
      ]
     },
     "metadata": {},
     "output_type": "display_data"
    },
    {
     "name": "stderr",
     "output_type": "stream",
     "text": [
      "INFO:mira.adata_interface.core:Added key to obsm: X_topic_compositions\n",
      "INFO:mira.adata_interface.topic_model:Added cols: topic_0, topic_1, topic_2, topic_3, topic_4, topic_5, topic_6, topic_7, topic_8, topic_9, topic_10, topic_11, topic_12, topic_13, topic_14, topic_15, topic_16, topic_17, topic_18, topic_19, topic_20, topic_21, topic_22, topic_23, topic_24, topic_25, topic_26, topic_27, topic_28, topic_29, topic_30\n",
      "INFO:mira.adata_interface.core:Added key to varm: topic_feature_compositions\n",
      "INFO:mira.adata_interface.core:Added key to varm: topic_feature_activations\n",
      "INFO:mira.adata_interface.core:Added cols to obs: model_read_scale\n",
      "INFO:mira.adata_interface.topic_model:Fetching key X_topic_compositions from obsm\n"
     ]
    },
    {
     "data": {
      "application/vnd.jupyter.widget-view+json": {
       "model_id": "59767ec17c3f4681ae3d8d26099022f5",
       "version_major": 2,
       "version_minor": 0
      },
      "text/plain": [
       "Calculating softmax summary data:   0%|          | 0/7 [00:00<?, ?it/s]"
      ]
     },
     "metadata": {},
     "output_type": "display_data"
    },
    {
     "name": "stderr",
     "output_type": "stream",
     "text": [
      "INFO:mira.adata_interface.core:Added cols to obs: softmax_denom\n",
      "INFO:mira.adata_interface.topic_model:Fetching key X_topic_compositions from obsm\n"
     ]
    },
    {
     "data": {
      "application/vnd.jupyter.widget-view+json": {
       "model_id": "5a1ea2fbde39411cb0355e18d0a19f18",
       "version_major": 2,
       "version_minor": 0
      },
      "text/plain": [
       "Calculating softmax summary data:   0%|          | 0/7 [00:00<?, ?it/s]"
      ]
     },
     "metadata": {},
     "output_type": "display_data"
    },
    {
     "name": "stderr",
     "output_type": "stream",
     "text": [
      "INFO:mira.adata_interface.core:Added cols to obs: softmax_denom\n"
     ]
    },
    {
     "data": {
      "application/vnd.jupyter.widget-view+json": {
       "model_id": "cd12696383b44952b5dd09acfba357fa",
       "version_major": 2,
       "version_minor": 0
      },
      "text/plain": [
       "Predicting expression:   0%|          | 0/2839 [00:00<?, ?it/s]"
      ]
     },
     "metadata": {},
     "output_type": "display_data"
    },
    {
     "name": "stderr",
     "output_type": "stream",
     "text": [
      "/liulab/alynch/projects/batcheffect-env/lib/python3.7/site-packages/pyro/util.py:367: UserWarning: Found plate statements in guide but not model: {'upstream-downstream', 'spans'}\n",
      "  guide_vars - model_vars\n",
      "/liulab/alynch/projects/multiomics/BatchEffect/MIRA/mira/rp_model/rp_model.py:837: UserWarning: To copy construct from a tensor, it is recommended to use sourceTensor.clone().detach() or sourceTensor.clone().detach().requires_grad_(True), rather than torch.tensor(sourceTensor).\n",
      "  return torch.tensor(X, requires_grad=False)\n",
      "INFO:mira.adata_interface.core:Added layer: LITE_prediction\n",
      "INFO:mira.adata_interface.core:Added layer: LITE_logp\n"
     ]
    },
    {
     "name": "stdout",
     "output_type": "stream",
     "text": [
      "s4d1 s1d2\n"
     ]
    },
    {
     "data": {
      "application/vnd.jupyter.widget-view+json": {
       "model_id": "ee44d3070724453884ed261dd63a92b8",
       "version_major": 2,
       "version_minor": 0
      },
      "text/plain": [
       "Predicting latent vars:   0%|          | 0/5 [00:00<?, ?it/s]"
      ]
     },
     "metadata": {},
     "output_type": "display_data"
    },
    {
     "name": "stderr",
     "output_type": "stream",
     "text": [
      "INFO:mira.adata_interface.core:Added key to obsm: X_topic_compositions\n",
      "INFO:mira.adata_interface.topic_model:Added cols: topic_0, topic_1, topic_2, topic_3, topic_4, topic_5, topic_6, topic_7, topic_8, topic_9, topic_10, topic_11, topic_12, topic_13, topic_14, topic_15, topic_16, topic_17, topic_18, topic_19, topic_20, topic_21, topic_22, topic_23, topic_24, topic_25\n",
      "INFO:mira.adata_interface.core:Added key to varm: topic_feature_compositions\n",
      "INFO:mira.adata_interface.core:Added key to varm: topic_feature_activations\n"
     ]
    },
    {
     "data": {
      "application/vnd.jupyter.widget-view+json": {
       "model_id": "776afe4451c64e65a83307cd503ef337",
       "version_major": 2,
       "version_minor": 0
      },
      "text/plain": [
       "Predicting latent vars:   0%|          | 0/5 [00:00<?, ?it/s]"
      ]
     },
     "metadata": {},
     "output_type": "display_data"
    },
    {
     "name": "stderr",
     "output_type": "stream",
     "text": [
      "INFO:mira.adata_interface.core:Added key to obsm: X_topic_compositions\n",
      "INFO:mira.adata_interface.topic_model:Added cols: topic_0, topic_1, topic_2, topic_3, topic_4, topic_5, topic_6, topic_7, topic_8, topic_9, topic_10, topic_11, topic_12, topic_13, topic_14, topic_15, topic_16, topic_17, topic_18, topic_19, topic_20, topic_21, topic_22, topic_23, topic_24, topic_25, topic_26, topic_27, topic_28, topic_29, topic_30\n",
      "INFO:mira.adata_interface.core:Added key to varm: topic_feature_compositions\n",
      "INFO:mira.adata_interface.core:Added key to varm: topic_feature_activations\n",
      "INFO:mira.adata_interface.core:Added cols to obs: model_read_scale\n",
      "INFO:mira.adata_interface.topic_model:Fetching key X_topic_compositions from obsm\n"
     ]
    },
    {
     "data": {
      "application/vnd.jupyter.widget-view+json": {
       "model_id": "939988ff023e4140a71ff1ccd9758e43",
       "version_major": 2,
       "version_minor": 0
      },
      "text/plain": [
       "Calculating softmax summary data:   0%|          | 0/5 [00:00<?, ?it/s]"
      ]
     },
     "metadata": {},
     "output_type": "display_data"
    },
    {
     "name": "stderr",
     "output_type": "stream",
     "text": [
      "INFO:mira.adata_interface.core:Added cols to obs: softmax_denom\n",
      "INFO:mira.adata_interface.topic_model:Fetching key X_topic_compositions from obsm\n"
     ]
    },
    {
     "data": {
      "application/vnd.jupyter.widget-view+json": {
       "model_id": "3bc51b1970b44568a07238031667c264",
       "version_major": 2,
       "version_minor": 0
      },
      "text/plain": [
       "Calculating softmax summary data:   0%|          | 0/5 [00:00<?, ?it/s]"
      ]
     },
     "metadata": {},
     "output_type": "display_data"
    },
    {
     "name": "stderr",
     "output_type": "stream",
     "text": [
      "INFO:mira.adata_interface.core:Added cols to obs: softmax_denom\n"
     ]
    },
    {
     "data": {
      "application/vnd.jupyter.widget-view+json": {
       "model_id": "a021aeb506cb4068b9e6ba0a7cbfd733",
       "version_major": 2,
       "version_minor": 0
      },
      "text/plain": [
       "Predicting expression:   0%|          | 0/2835 [00:00<?, ?it/s]"
      ]
     },
     "metadata": {},
     "output_type": "display_data"
    },
    {
     "name": "stderr",
     "output_type": "stream",
     "text": [
      "/liulab/alynch/projects/batcheffect-env/lib/python3.7/site-packages/pyro/util.py:367: UserWarning: Found plate statements in guide but not model: {'upstream-downstream', 'spans'}\n",
      "  guide_vars - model_vars\n",
      "/liulab/alynch/projects/multiomics/BatchEffect/MIRA/mira/rp_model/rp_model.py:837: UserWarning: To copy construct from a tensor, it is recommended to use sourceTensor.clone().detach() or sourceTensor.clone().detach().requires_grad_(True), rather than torch.tensor(sourceTensor).\n",
      "  return torch.tensor(X, requires_grad=False)\n",
      "INFO:mira.adata_interface.core:Added layer: LITE_prediction\n",
      "INFO:mira.adata_interface.core:Added layer: LITE_logp\n"
     ]
    },
    {
     "name": "stdout",
     "output_type": "stream",
     "text": [
      "s2d4 s1d3\n"
     ]
    },
    {
     "data": {
      "application/vnd.jupyter.widget-view+json": {
       "model_id": "2caa213f05004c058f2d03b91bfc600a",
       "version_major": 2,
       "version_minor": 0
      },
      "text/plain": [
       "Predicting latent vars:   0%|          | 0/5 [00:00<?, ?it/s]"
      ]
     },
     "metadata": {},
     "output_type": "display_data"
    },
    {
     "name": "stderr",
     "output_type": "stream",
     "text": [
      "INFO:mira.adata_interface.core:Added key to obsm: X_topic_compositions\n",
      "INFO:mira.adata_interface.topic_model:Added cols: topic_0, topic_1, topic_2, topic_3, topic_4, topic_5, topic_6, topic_7, topic_8, topic_9, topic_10, topic_11, topic_12, topic_13, topic_14, topic_15, topic_16, topic_17, topic_18, topic_19, topic_20, topic_21, topic_22, topic_23, topic_24, topic_25\n",
      "INFO:mira.adata_interface.core:Added key to varm: topic_feature_compositions\n",
      "INFO:mira.adata_interface.core:Added key to varm: topic_feature_activations\n"
     ]
    },
    {
     "data": {
      "application/vnd.jupyter.widget-view+json": {
       "model_id": "5df6ae1248674358bbf2744d302c6b7d",
       "version_major": 2,
       "version_minor": 0
      },
      "text/plain": [
       "Predicting latent vars:   0%|          | 0/5 [00:00<?, ?it/s]"
      ]
     },
     "metadata": {},
     "output_type": "display_data"
    },
    {
     "name": "stderr",
     "output_type": "stream",
     "text": [
      "INFO:mira.adata_interface.core:Added key to obsm: X_topic_compositions\n",
      "INFO:mira.adata_interface.topic_model:Added cols: topic_0, topic_1, topic_2, topic_3, topic_4, topic_5, topic_6, topic_7, topic_8, topic_9, topic_10, topic_11, topic_12, topic_13, topic_14, topic_15, topic_16, topic_17, topic_18, topic_19, topic_20, topic_21, topic_22, topic_23, topic_24, topic_25, topic_26, topic_27, topic_28, topic_29, topic_30\n",
      "INFO:mira.adata_interface.core:Added key to varm: topic_feature_compositions\n",
      "INFO:mira.adata_interface.core:Added key to varm: topic_feature_activations\n",
      "INFO:mira.adata_interface.core:Added cols to obs: model_read_scale\n",
      "INFO:mira.adata_interface.topic_model:Fetching key X_topic_compositions from obsm\n"
     ]
    },
    {
     "data": {
      "application/vnd.jupyter.widget-view+json": {
       "model_id": "a0b5c4ea5e044f439a2f14605ab701c4",
       "version_major": 2,
       "version_minor": 0
      },
      "text/plain": [
       "Calculating softmax summary data:   0%|          | 0/5 [00:00<?, ?it/s]"
      ]
     },
     "metadata": {},
     "output_type": "display_data"
    },
    {
     "name": "stderr",
     "output_type": "stream",
     "text": [
      "INFO:mira.adata_interface.core:Added cols to obs: softmax_denom\n",
      "INFO:mira.adata_interface.topic_model:Fetching key X_topic_compositions from obsm\n"
     ]
    },
    {
     "data": {
      "application/vnd.jupyter.widget-view+json": {
       "model_id": "57bff603d1e24a6eadbd0d71d2ade19c",
       "version_major": 2,
       "version_minor": 0
      },
      "text/plain": [
       "Calculating softmax summary data:   0%|          | 0/5 [00:00<?, ?it/s]"
      ]
     },
     "metadata": {},
     "output_type": "display_data"
    },
    {
     "name": "stderr",
     "output_type": "stream",
     "text": [
      "INFO:mira.adata_interface.core:Added cols to obs: softmax_denom\n"
     ]
    },
    {
     "data": {
      "application/vnd.jupyter.widget-view+json": {
       "model_id": "0da1b3fbb9324ef993e385065b926380",
       "version_major": 2,
       "version_minor": 0
      },
      "text/plain": [
       "Predicting expression:   0%|          | 0/2829 [00:00<?, ?it/s]"
      ]
     },
     "metadata": {},
     "output_type": "display_data"
    },
    {
     "name": "stderr",
     "output_type": "stream",
     "text": [
      "/liulab/alynch/projects/batcheffect-env/lib/python3.7/site-packages/pyro/util.py:367: UserWarning: Found plate statements in guide but not model: {'upstream-downstream', 'spans'}\n",
      "  guide_vars - model_vars\n",
      "/liulab/alynch/projects/multiomics/BatchEffect/MIRA/mira/rp_model/rp_model.py:837: UserWarning: To copy construct from a tensor, it is recommended to use sourceTensor.clone().detach() or sourceTensor.clone().detach().requires_grad_(True), rather than torch.tensor(sourceTensor).\n",
      "  return torch.tensor(X, requires_grad=False)\n",
      "INFO:mira.adata_interface.core:Added layer: LITE_prediction\n",
      "INFO:mira.adata_interface.core:Added layer: LITE_logp\n"
     ]
    },
    {
     "name": "stdout",
     "output_type": "stream",
     "text": [
      "s2d5 s1d3\n"
     ]
    },
    {
     "data": {
      "application/vnd.jupyter.widget-view+json": {
       "model_id": "87abd89558ab4ca1b3f62045ee133b84",
       "version_major": 2,
       "version_minor": 0
      },
      "text/plain": [
       "Predicting latent vars:   0%|          | 0/5 [00:00<?, ?it/s]"
      ]
     },
     "metadata": {},
     "output_type": "display_data"
    },
    {
     "name": "stderr",
     "output_type": "stream",
     "text": [
      "INFO:mira.adata_interface.core:Added key to obsm: X_topic_compositions\n",
      "INFO:mira.adata_interface.topic_model:Added cols: topic_0, topic_1, topic_2, topic_3, topic_4, topic_5, topic_6, topic_7, topic_8, topic_9, topic_10, topic_11, topic_12, topic_13, topic_14, topic_15, topic_16, topic_17, topic_18, topic_19, topic_20, topic_21, topic_22, topic_23, topic_24, topic_25\n",
      "INFO:mira.adata_interface.core:Added key to varm: topic_feature_compositions\n",
      "INFO:mira.adata_interface.core:Added key to varm: topic_feature_activations\n"
     ]
    },
    {
     "data": {
      "application/vnd.jupyter.widget-view+json": {
       "model_id": "cecac79817b54b6eb37e12d26bc998cc",
       "version_major": 2,
       "version_minor": 0
      },
      "text/plain": [
       "Predicting latent vars:   0%|          | 0/5 [00:00<?, ?it/s]"
      ]
     },
     "metadata": {},
     "output_type": "display_data"
    },
    {
     "name": "stderr",
     "output_type": "stream",
     "text": [
      "INFO:mira.adata_interface.core:Added key to obsm: X_topic_compositions\n",
      "INFO:mira.adata_interface.topic_model:Added cols: topic_0, topic_1, topic_2, topic_3, topic_4, topic_5, topic_6, topic_7, topic_8, topic_9, topic_10, topic_11, topic_12, topic_13, topic_14, topic_15, topic_16, topic_17, topic_18, topic_19, topic_20, topic_21, topic_22, topic_23, topic_24, topic_25, topic_26, topic_27, topic_28, topic_29, topic_30\n",
      "INFO:mira.adata_interface.core:Added key to varm: topic_feature_compositions\n",
      "INFO:mira.adata_interface.core:Added key to varm: topic_feature_activations\n",
      "INFO:mira.adata_interface.core:Added cols to obs: model_read_scale\n",
      "INFO:mira.adata_interface.topic_model:Fetching key X_topic_compositions from obsm\n"
     ]
    },
    {
     "data": {
      "application/vnd.jupyter.widget-view+json": {
       "model_id": "2311be2bcfa7477baed3abaf56daf930",
       "version_major": 2,
       "version_minor": 0
      },
      "text/plain": [
       "Calculating softmax summary data:   0%|          | 0/5 [00:00<?, ?it/s]"
      ]
     },
     "metadata": {},
     "output_type": "display_data"
    },
    {
     "name": "stderr",
     "output_type": "stream",
     "text": [
      "INFO:mira.adata_interface.core:Added cols to obs: softmax_denom\n",
      "INFO:mira.adata_interface.topic_model:Fetching key X_topic_compositions from obsm\n"
     ]
    },
    {
     "data": {
      "application/vnd.jupyter.widget-view+json": {
       "model_id": "f11818c1903545219d8a7a4cf6a36832",
       "version_major": 2,
       "version_minor": 0
      },
      "text/plain": [
       "Calculating softmax summary data:   0%|          | 0/5 [00:00<?, ?it/s]"
      ]
     },
     "metadata": {},
     "output_type": "display_data"
    },
    {
     "name": "stderr",
     "output_type": "stream",
     "text": [
      "INFO:mira.adata_interface.core:Added cols to obs: softmax_denom\n"
     ]
    },
    {
     "data": {
      "application/vnd.jupyter.widget-view+json": {
       "model_id": "b7454d09ec9e479ab810bbaa97401530",
       "version_major": 2,
       "version_minor": 0
      },
      "text/plain": [
       "Predicting expression:   0%|          | 0/2839 [00:00<?, ?it/s]"
      ]
     },
     "metadata": {},
     "output_type": "display_data"
    },
    {
     "name": "stderr",
     "output_type": "stream",
     "text": [
      "/liulab/alynch/projects/batcheffect-env/lib/python3.7/site-packages/pyro/util.py:367: UserWarning: Found plate statements in guide but not model: {'upstream-downstream', 'spans'}\n",
      "  guide_vars - model_vars\n",
      "/liulab/alynch/projects/multiomics/BatchEffect/MIRA/mira/rp_model/rp_model.py:837: UserWarning: To copy construct from a tensor, it is recommended to use sourceTensor.clone().detach() or sourceTensor.clone().detach().requires_grad_(True), rather than torch.tensor(sourceTensor).\n",
      "  return torch.tensor(X, requires_grad=False)\n",
      "INFO:mira.adata_interface.core:Added layer: LITE_prediction\n",
      "INFO:mira.adata_interface.core:Added layer: LITE_logp\n"
     ]
    },
    {
     "name": "stdout",
     "output_type": "stream",
     "text": [
      "s3d7 s1d3\n"
     ]
    },
    {
     "data": {
      "application/vnd.jupyter.widget-view+json": {
       "model_id": "a168b68b826f427d89d37d5c8525916c",
       "version_major": 2,
       "version_minor": 0
      },
      "text/plain": [
       "Predicting latent vars:   0%|          | 0/5 [00:00<?, ?it/s]"
      ]
     },
     "metadata": {},
     "output_type": "display_data"
    },
    {
     "name": "stderr",
     "output_type": "stream",
     "text": [
      "INFO:mira.adata_interface.core:Added key to obsm: X_topic_compositions\n",
      "INFO:mira.adata_interface.topic_model:Added cols: topic_0, topic_1, topic_2, topic_3, topic_4, topic_5, topic_6, topic_7, topic_8, topic_9, topic_10, topic_11, topic_12, topic_13, topic_14, topic_15, topic_16, topic_17, topic_18, topic_19, topic_20, topic_21, topic_22, topic_23, topic_24, topic_25\n",
      "INFO:mira.adata_interface.core:Added key to varm: topic_feature_compositions\n",
      "INFO:mira.adata_interface.core:Added key to varm: topic_feature_activations\n"
     ]
    },
    {
     "data": {
      "application/vnd.jupyter.widget-view+json": {
       "model_id": "4aa4f451db3746758e0b2074a2a9d4df",
       "version_major": 2,
       "version_minor": 0
      },
      "text/plain": [
       "Predicting latent vars:   0%|          | 0/5 [00:00<?, ?it/s]"
      ]
     },
     "metadata": {},
     "output_type": "display_data"
    },
    {
     "name": "stderr",
     "output_type": "stream",
     "text": [
      "INFO:mira.adata_interface.core:Added key to obsm: X_topic_compositions\n",
      "INFO:mira.adata_interface.topic_model:Added cols: topic_0, topic_1, topic_2, topic_3, topic_4, topic_5, topic_6, topic_7, topic_8, topic_9, topic_10, topic_11, topic_12, topic_13, topic_14, topic_15, topic_16, topic_17, topic_18, topic_19, topic_20, topic_21, topic_22, topic_23, topic_24, topic_25, topic_26, topic_27, topic_28, topic_29, topic_30\n",
      "INFO:mira.adata_interface.core:Added key to varm: topic_feature_compositions\n",
      "INFO:mira.adata_interface.core:Added key to varm: topic_feature_activations\n",
      "INFO:mira.adata_interface.core:Added cols to obs: model_read_scale\n",
      "INFO:mira.adata_interface.topic_model:Fetching key X_topic_compositions from obsm\n"
     ]
    },
    {
     "data": {
      "application/vnd.jupyter.widget-view+json": {
       "model_id": "6878508b7ce542899cf460901488916b",
       "version_major": 2,
       "version_minor": 0
      },
      "text/plain": [
       "Calculating softmax summary data:   0%|          | 0/5 [00:00<?, ?it/s]"
      ]
     },
     "metadata": {},
     "output_type": "display_data"
    },
    {
     "name": "stderr",
     "output_type": "stream",
     "text": [
      "INFO:mira.adata_interface.core:Added cols to obs: softmax_denom\n",
      "INFO:mira.adata_interface.topic_model:Fetching key X_topic_compositions from obsm\n"
     ]
    },
    {
     "data": {
      "application/vnd.jupyter.widget-view+json": {
       "model_id": "15eb0a4e6e7f4459b163b6dac0914721",
       "version_major": 2,
       "version_minor": 0
      },
      "text/plain": [
       "Calculating softmax summary data:   0%|          | 0/5 [00:00<?, ?it/s]"
      ]
     },
     "metadata": {},
     "output_type": "display_data"
    },
    {
     "name": "stderr",
     "output_type": "stream",
     "text": [
      "INFO:mira.adata_interface.core:Added cols to obs: softmax_denom\n"
     ]
    },
    {
     "data": {
      "application/vnd.jupyter.widget-view+json": {
       "model_id": "c40875dc924844ad8b1ac0f6683acaa1",
       "version_major": 2,
       "version_minor": 0
      },
      "text/plain": [
       "Predicting expression:   0%|          | 0/2839 [00:00<?, ?it/s]"
      ]
     },
     "metadata": {},
     "output_type": "display_data"
    },
    {
     "name": "stderr",
     "output_type": "stream",
     "text": [
      "/liulab/alynch/projects/batcheffect-env/lib/python3.7/site-packages/pyro/util.py:367: UserWarning: Found plate statements in guide but not model: {'upstream-downstream', 'spans'}\n",
      "  guide_vars - model_vars\n",
      "/liulab/alynch/projects/multiomics/BatchEffect/MIRA/mira/rp_model/rp_model.py:837: UserWarning: To copy construct from a tensor, it is recommended to use sourceTensor.clone().detach() or sourceTensor.clone().detach().requires_grad_(True), rather than torch.tensor(sourceTensor).\n",
      "  return torch.tensor(X, requires_grad=False)\n",
      "INFO:mira.adata_interface.core:Added layer: LITE_prediction\n",
      "INFO:mira.adata_interface.core:Added layer: LITE_logp\n"
     ]
    },
    {
     "name": "stdout",
     "output_type": "stream",
     "text": [
      "s4d1 s1d3\n"
     ]
    },
    {
     "data": {
      "application/vnd.jupyter.widget-view+json": {
       "model_id": "fd0242d613b64fd5a1f87f7932529203",
       "version_major": 2,
       "version_minor": 0
      },
      "text/plain": [
       "Predicting latent vars:   0%|          | 0/6 [00:00<?, ?it/s]"
      ]
     },
     "metadata": {},
     "output_type": "display_data"
    },
    {
     "name": "stderr",
     "output_type": "stream",
     "text": [
      "INFO:mira.adata_interface.core:Added key to obsm: X_topic_compositions\n",
      "INFO:mira.adata_interface.topic_model:Added cols: topic_0, topic_1, topic_2, topic_3, topic_4, topic_5, topic_6, topic_7, topic_8, topic_9, topic_10, topic_11, topic_12, topic_13, topic_14, topic_15, topic_16, topic_17, topic_18, topic_19, topic_20, topic_21, topic_22, topic_23, topic_24, topic_25\n",
      "INFO:mira.adata_interface.core:Added key to varm: topic_feature_compositions\n",
      "INFO:mira.adata_interface.core:Added key to varm: topic_feature_activations\n"
     ]
    },
    {
     "data": {
      "application/vnd.jupyter.widget-view+json": {
       "model_id": "f70cf1ab10e94f8bafa80ee2634e36ac",
       "version_major": 2,
       "version_minor": 0
      },
      "text/plain": [
       "Predicting latent vars:   0%|          | 0/6 [00:00<?, ?it/s]"
      ]
     },
     "metadata": {},
     "output_type": "display_data"
    },
    {
     "name": "stderr",
     "output_type": "stream",
     "text": [
      "INFO:mira.adata_interface.core:Added key to obsm: X_topic_compositions\n",
      "INFO:mira.adata_interface.topic_model:Added cols: topic_0, topic_1, topic_2, topic_3, topic_4, topic_5, topic_6, topic_7, topic_8, topic_9, topic_10, topic_11, topic_12, topic_13, topic_14, topic_15, topic_16, topic_17, topic_18, topic_19, topic_20, topic_21, topic_22, topic_23, topic_24, topic_25, topic_26, topic_27, topic_28, topic_29, topic_30\n",
      "INFO:mira.adata_interface.core:Added key to varm: topic_feature_compositions\n",
      "INFO:mira.adata_interface.core:Added key to varm: topic_feature_activations\n",
      "INFO:mira.adata_interface.core:Added cols to obs: model_read_scale\n",
      "INFO:mira.adata_interface.topic_model:Fetching key X_topic_compositions from obsm\n"
     ]
    },
    {
     "data": {
      "application/vnd.jupyter.widget-view+json": {
       "model_id": "75722558d1ab4676812464bfa4019c18",
       "version_major": 2,
       "version_minor": 0
      },
      "text/plain": [
       "Calculating softmax summary data:   0%|          | 0/6 [00:00<?, ?it/s]"
      ]
     },
     "metadata": {},
     "output_type": "display_data"
    },
    {
     "name": "stderr",
     "output_type": "stream",
     "text": [
      "INFO:mira.adata_interface.core:Added cols to obs: softmax_denom\n",
      "INFO:mira.adata_interface.topic_model:Fetching key X_topic_compositions from obsm\n"
     ]
    },
    {
     "data": {
      "application/vnd.jupyter.widget-view+json": {
       "model_id": "02dbfc5f92364cea92ab9f8a6f83f211",
       "version_major": 2,
       "version_minor": 0
      },
      "text/plain": [
       "Calculating softmax summary data:   0%|          | 0/6 [00:00<?, ?it/s]"
      ]
     },
     "metadata": {},
     "output_type": "display_data"
    },
    {
     "name": "stderr",
     "output_type": "stream",
     "text": [
      "INFO:mira.adata_interface.core:Added cols to obs: softmax_denom\n"
     ]
    },
    {
     "data": {
      "application/vnd.jupyter.widget-view+json": {
       "model_id": "1322e8749e594de9a485afac1cf4a106",
       "version_major": 2,
       "version_minor": 0
      },
      "text/plain": [
       "Predicting expression:   0%|          | 0/2829 [00:00<?, ?it/s]"
      ]
     },
     "metadata": {},
     "output_type": "display_data"
    },
    {
     "name": "stderr",
     "output_type": "stream",
     "text": [
      "/liulab/alynch/projects/batcheffect-env/lib/python3.7/site-packages/pyro/util.py:367: UserWarning: Found plate statements in guide but not model: {'upstream-downstream', 'spans'}\n",
      "  guide_vars - model_vars\n",
      "/liulab/alynch/projects/multiomics/BatchEffect/MIRA/mira/rp_model/rp_model.py:837: UserWarning: To copy construct from a tensor, it is recommended to use sourceTensor.clone().detach() or sourceTensor.clone().detach().requires_grad_(True), rather than torch.tensor(sourceTensor).\n",
      "  return torch.tensor(X, requires_grad=False)\n",
      "INFO:mira.adata_interface.core:Added layer: LITE_prediction\n",
      "INFO:mira.adata_interface.core:Added layer: LITE_logp\n"
     ]
    },
    {
     "name": "stdout",
     "output_type": "stream",
     "text": [
      "s2d5 s2d4\n"
     ]
    },
    {
     "data": {
      "application/vnd.jupyter.widget-view+json": {
       "model_id": "b4037a2713444ba8bb006d7bb6395233",
       "version_major": 2,
       "version_minor": 0
      },
      "text/plain": [
       "Predicting latent vars:   0%|          | 0/7 [00:00<?, ?it/s]"
      ]
     },
     "metadata": {},
     "output_type": "display_data"
    },
    {
     "name": "stderr",
     "output_type": "stream",
     "text": [
      "INFO:mira.adata_interface.core:Added key to obsm: X_topic_compositions\n",
      "INFO:mira.adata_interface.topic_model:Added cols: topic_0, topic_1, topic_2, topic_3, topic_4, topic_5, topic_6, topic_7, topic_8, topic_9, topic_10, topic_11, topic_12, topic_13, topic_14, topic_15, topic_16, topic_17, topic_18, topic_19, topic_20, topic_21, topic_22, topic_23, topic_24, topic_25\n",
      "INFO:mira.adata_interface.core:Added key to varm: topic_feature_compositions\n",
      "INFO:mira.adata_interface.core:Added key to varm: topic_feature_activations\n"
     ]
    },
    {
     "data": {
      "application/vnd.jupyter.widget-view+json": {
       "model_id": "dfe69b67615b44909c7f6b29fec0e677",
       "version_major": 2,
       "version_minor": 0
      },
      "text/plain": [
       "Predicting latent vars:   0%|          | 0/7 [00:00<?, ?it/s]"
      ]
     },
     "metadata": {},
     "output_type": "display_data"
    },
    {
     "name": "stderr",
     "output_type": "stream",
     "text": [
      "INFO:mira.adata_interface.core:Added key to obsm: X_topic_compositions\n",
      "INFO:mira.adata_interface.topic_model:Added cols: topic_0, topic_1, topic_2, topic_3, topic_4, topic_5, topic_6, topic_7, topic_8, topic_9, topic_10, topic_11, topic_12, topic_13, topic_14, topic_15, topic_16, topic_17, topic_18, topic_19, topic_20, topic_21, topic_22, topic_23, topic_24, topic_25, topic_26, topic_27, topic_28, topic_29, topic_30\n",
      "INFO:mira.adata_interface.core:Added key to varm: topic_feature_compositions\n",
      "INFO:mira.adata_interface.core:Added key to varm: topic_feature_activations\n",
      "INFO:mira.adata_interface.core:Added cols to obs: model_read_scale\n",
      "INFO:mira.adata_interface.topic_model:Fetching key X_topic_compositions from obsm\n"
     ]
    },
    {
     "data": {
      "application/vnd.jupyter.widget-view+json": {
       "model_id": "10f6e461ebb54e5d9b4f7ba873036a1f",
       "version_major": 2,
       "version_minor": 0
      },
      "text/plain": [
       "Calculating softmax summary data:   0%|          | 0/7 [00:00<?, ?it/s]"
      ]
     },
     "metadata": {},
     "output_type": "display_data"
    },
    {
     "name": "stderr",
     "output_type": "stream",
     "text": [
      "INFO:mira.adata_interface.core:Added cols to obs: softmax_denom\n",
      "INFO:mira.adata_interface.topic_model:Fetching key X_topic_compositions from obsm\n"
     ]
    },
    {
     "data": {
      "application/vnd.jupyter.widget-view+json": {
       "model_id": "e533b6acff884300846fc665d67b9daa",
       "version_major": 2,
       "version_minor": 0
      },
      "text/plain": [
       "Calculating softmax summary data:   0%|          | 0/7 [00:00<?, ?it/s]"
      ]
     },
     "metadata": {},
     "output_type": "display_data"
    },
    {
     "name": "stderr",
     "output_type": "stream",
     "text": [
      "INFO:mira.adata_interface.core:Added cols to obs: softmax_denom\n"
     ]
    },
    {
     "data": {
      "application/vnd.jupyter.widget-view+json": {
       "model_id": "c30c0297c57d4e56a516429a800f9975",
       "version_major": 2,
       "version_minor": 0
      },
      "text/plain": [
       "Predicting expression:   0%|          | 0/2829 [00:00<?, ?it/s]"
      ]
     },
     "metadata": {},
     "output_type": "display_data"
    },
    {
     "name": "stderr",
     "output_type": "stream",
     "text": [
      "/liulab/alynch/projects/batcheffect-env/lib/python3.7/site-packages/pyro/util.py:367: UserWarning: Found plate statements in guide but not model: {'upstream-downstream', 'spans'}\n",
      "  guide_vars - model_vars\n",
      "/liulab/alynch/projects/multiomics/BatchEffect/MIRA/mira/rp_model/rp_model.py:837: UserWarning: To copy construct from a tensor, it is recommended to use sourceTensor.clone().detach() or sourceTensor.clone().detach().requires_grad_(True), rather than torch.tensor(sourceTensor).\n",
      "  return torch.tensor(X, requires_grad=False)\n",
      "INFO:mira.adata_interface.core:Added layer: LITE_prediction\n",
      "INFO:mira.adata_interface.core:Added layer: LITE_logp\n"
     ]
    },
    {
     "name": "stdout",
     "output_type": "stream",
     "text": [
      "s2d5 s3d10\n"
     ]
    },
    {
     "data": {
      "application/vnd.jupyter.widget-view+json": {
       "model_id": "73b4b4fd75f944b9a22152ebde78dc3d",
       "version_major": 2,
       "version_minor": 0
      },
      "text/plain": [
       "Predicting latent vars:   0%|          | 0/2 [00:00<?, ?it/s]"
      ]
     },
     "metadata": {},
     "output_type": "display_data"
    },
    {
     "name": "stderr",
     "output_type": "stream",
     "text": [
      "INFO:mira.adata_interface.core:Added key to obsm: X_topic_compositions\n",
      "INFO:mira.adata_interface.topic_model:Added cols: topic_0, topic_1, topic_2, topic_3, topic_4, topic_5, topic_6, topic_7, topic_8, topic_9, topic_10, topic_11, topic_12, topic_13, topic_14, topic_15, topic_16, topic_17, topic_18, topic_19, topic_20, topic_21, topic_22, topic_23, topic_24, topic_25\n",
      "INFO:mira.adata_interface.core:Added key to varm: topic_feature_compositions\n",
      "INFO:mira.adata_interface.core:Added key to varm: topic_feature_activations\n"
     ]
    },
    {
     "data": {
      "application/vnd.jupyter.widget-view+json": {
       "model_id": "d50e6f26891e49158e79dd1afd2f313e",
       "version_major": 2,
       "version_minor": 0
      },
      "text/plain": [
       "Predicting latent vars:   0%|          | 0/2 [00:00<?, ?it/s]"
      ]
     },
     "metadata": {},
     "output_type": "display_data"
    },
    {
     "name": "stderr",
     "output_type": "stream",
     "text": [
      "INFO:mira.adata_interface.core:Added key to obsm: X_topic_compositions\n",
      "INFO:mira.adata_interface.topic_model:Added cols: topic_0, topic_1, topic_2, topic_3, topic_4, topic_5, topic_6, topic_7, topic_8, topic_9, topic_10, topic_11, topic_12, topic_13, topic_14, topic_15, topic_16, topic_17, topic_18, topic_19, topic_20, topic_21, topic_22, topic_23, topic_24, topic_25, topic_26, topic_27, topic_28, topic_29, topic_30\n",
      "INFO:mira.adata_interface.core:Added key to varm: topic_feature_compositions\n",
      "INFO:mira.adata_interface.core:Added key to varm: topic_feature_activations\n",
      "INFO:mira.adata_interface.core:Added cols to obs: model_read_scale\n",
      "INFO:mira.adata_interface.topic_model:Fetching key X_topic_compositions from obsm\n"
     ]
    },
    {
     "data": {
      "application/vnd.jupyter.widget-view+json": {
       "model_id": "db310613a1874a0081c2e230ffe1cb88",
       "version_major": 2,
       "version_minor": 0
      },
      "text/plain": [
       "Calculating softmax summary data:   0%|          | 0/2 [00:00<?, ?it/s]"
      ]
     },
     "metadata": {},
     "output_type": "display_data"
    },
    {
     "name": "stderr",
     "output_type": "stream",
     "text": [
      "INFO:mira.adata_interface.core:Added cols to obs: softmax_denom\n",
      "INFO:mira.adata_interface.topic_model:Fetching key X_topic_compositions from obsm\n"
     ]
    },
    {
     "data": {
      "application/vnd.jupyter.widget-view+json": {
       "model_id": "406d63205d7f4c16ab1379c0bdafd8da",
       "version_major": 2,
       "version_minor": 0
      },
      "text/plain": [
       "Calculating softmax summary data:   0%|          | 0/2 [00:00<?, ?it/s]"
      ]
     },
     "metadata": {},
     "output_type": "display_data"
    },
    {
     "name": "stderr",
     "output_type": "stream",
     "text": [
      "INFO:mira.adata_interface.core:Added cols to obs: softmax_denom\n"
     ]
    },
    {
     "data": {
      "application/vnd.jupyter.widget-view+json": {
       "model_id": "e0703db9089a47fcbb2cd0e080f957b2",
       "version_major": 2,
       "version_minor": 0
      },
      "text/plain": [
       "Predicting expression:   0%|          | 0/2829 [00:00<?, ?it/s]"
      ]
     },
     "metadata": {},
     "output_type": "display_data"
    },
    {
     "name": "stderr",
     "output_type": "stream",
     "text": [
      "/liulab/alynch/projects/batcheffect-env/lib/python3.7/site-packages/pyro/util.py:367: UserWarning: Found plate statements in guide but not model: {'upstream-downstream', 'spans'}\n",
      "  guide_vars - model_vars\n",
      "/liulab/alynch/projects/multiomics/BatchEffect/MIRA/mira/rp_model/rp_model.py:837: UserWarning: To copy construct from a tensor, it is recommended to use sourceTensor.clone().detach() or sourceTensor.clone().detach().requires_grad_(True), rather than torch.tensor(sourceTensor).\n",
      "  return torch.tensor(X, requires_grad=False)\n",
      "INFO:mira.adata_interface.core:Added layer: LITE_prediction\n",
      "INFO:mira.adata_interface.core:Added layer: LITE_logp\n"
     ]
    },
    {
     "name": "stdout",
     "output_type": "stream",
     "text": [
      "s2d5 s3d6\n"
     ]
    },
    {
     "data": {
      "application/vnd.jupyter.widget-view+json": {
       "model_id": "e695f3d00e474eb4a6f4b93a95c3339e",
       "version_major": 2,
       "version_minor": 0
      },
      "text/plain": [
       "Predicting latent vars:   0%|          | 0/2 [00:00<?, ?it/s]"
      ]
     },
     "metadata": {},
     "output_type": "display_data"
    },
    {
     "name": "stderr",
     "output_type": "stream",
     "text": [
      "INFO:mira.adata_interface.core:Added key to obsm: X_topic_compositions\n",
      "INFO:mira.adata_interface.topic_model:Added cols: topic_0, topic_1, topic_2, topic_3, topic_4, topic_5, topic_6, topic_7, topic_8, topic_9, topic_10, topic_11, topic_12, topic_13, topic_14, topic_15, topic_16, topic_17, topic_18, topic_19, topic_20, topic_21, topic_22, topic_23, topic_24, topic_25\n",
      "INFO:mira.adata_interface.core:Added key to varm: topic_feature_compositions\n",
      "INFO:mira.adata_interface.core:Added key to varm: topic_feature_activations\n"
     ]
    },
    {
     "data": {
      "application/vnd.jupyter.widget-view+json": {
       "model_id": "ff78e9f4bf85442d82ca18fb5059d974",
       "version_major": 2,
       "version_minor": 0
      },
      "text/plain": [
       "Predicting latent vars:   0%|          | 0/2 [00:00<?, ?it/s]"
      ]
     },
     "metadata": {},
     "output_type": "display_data"
    },
    {
     "name": "stderr",
     "output_type": "stream",
     "text": [
      "INFO:mira.adata_interface.core:Added key to obsm: X_topic_compositions\n",
      "INFO:mira.adata_interface.topic_model:Added cols: topic_0, topic_1, topic_2, topic_3, topic_4, topic_5, topic_6, topic_7, topic_8, topic_9, topic_10, topic_11, topic_12, topic_13, topic_14, topic_15, topic_16, topic_17, topic_18, topic_19, topic_20, topic_21, topic_22, topic_23, topic_24, topic_25, topic_26, topic_27, topic_28, topic_29, topic_30\n",
      "INFO:mira.adata_interface.core:Added key to varm: topic_feature_compositions\n",
      "INFO:mira.adata_interface.core:Added key to varm: topic_feature_activations\n",
      "INFO:mira.adata_interface.core:Added cols to obs: model_read_scale\n",
      "INFO:mira.adata_interface.topic_model:Fetching key X_topic_compositions from obsm\n"
     ]
    },
    {
     "data": {
      "application/vnd.jupyter.widget-view+json": {
       "model_id": "bd86673f2bf64af991e7f100170282e7",
       "version_major": 2,
       "version_minor": 0
      },
      "text/plain": [
       "Calculating softmax summary data:   0%|          | 0/2 [00:00<?, ?it/s]"
      ]
     },
     "metadata": {},
     "output_type": "display_data"
    },
    {
     "name": "stderr",
     "output_type": "stream",
     "text": [
      "INFO:mira.adata_interface.core:Added cols to obs: softmax_denom\n",
      "INFO:mira.adata_interface.topic_model:Fetching key X_topic_compositions from obsm\n"
     ]
    },
    {
     "data": {
      "application/vnd.jupyter.widget-view+json": {
       "model_id": "ea27d95490ec490eba7aefda1be8b82b",
       "version_major": 2,
       "version_minor": 0
      },
      "text/plain": [
       "Calculating softmax summary data:   0%|          | 0/2 [00:00<?, ?it/s]"
      ]
     },
     "metadata": {},
     "output_type": "display_data"
    },
    {
     "name": "stderr",
     "output_type": "stream",
     "text": [
      "INFO:mira.adata_interface.core:Added cols to obs: softmax_denom\n"
     ]
    },
    {
     "data": {
      "application/vnd.jupyter.widget-view+json": {
       "model_id": "312e1b4bbc044d2785b8bbb9e54ea4c9",
       "version_major": 2,
       "version_minor": 0
      },
      "text/plain": [
       "Predicting expression:   0%|          | 0/2827 [00:00<?, ?it/s]"
      ]
     },
     "metadata": {},
     "output_type": "display_data"
    },
    {
     "name": "stderr",
     "output_type": "stream",
     "text": [
      "/liulab/alynch/projects/batcheffect-env/lib/python3.7/site-packages/pyro/util.py:367: UserWarning: Found plate statements in guide but not model: {'upstream-downstream', 'spans'}\n",
      "  guide_vars - model_vars\n",
      "/liulab/alynch/projects/multiomics/BatchEffect/MIRA/mira/rp_model/rp_model.py:837: UserWarning: To copy construct from a tensor, it is recommended to use sourceTensor.clone().detach() or sourceTensor.clone().detach().requires_grad_(True), rather than torch.tensor(sourceTensor).\n",
      "  return torch.tensor(X, requires_grad=False)\n",
      "INFO:mira.adata_interface.core:Added layer: LITE_prediction\n",
      "INFO:mira.adata_interface.core:Added layer: LITE_logp\n"
     ]
    },
    {
     "name": "stdout",
     "output_type": "stream",
     "text": [
      "s3d10 s3d7\n"
     ]
    },
    {
     "data": {
      "application/vnd.jupyter.widget-view+json": {
       "model_id": "52b1198efc954950950551b46f464250",
       "version_major": 2,
       "version_minor": 0
      },
      "text/plain": [
       "Predicting latent vars:   0%|          | 0/7 [00:00<?, ?it/s]"
      ]
     },
     "metadata": {},
     "output_type": "display_data"
    },
    {
     "name": "stderr",
     "output_type": "stream",
     "text": [
      "INFO:mira.adata_interface.core:Added key to obsm: X_topic_compositions\n",
      "INFO:mira.adata_interface.topic_model:Added cols: topic_0, topic_1, topic_2, topic_3, topic_4, topic_5, topic_6, topic_7, topic_8, topic_9, topic_10, topic_11, topic_12, topic_13, topic_14, topic_15, topic_16, topic_17, topic_18, topic_19, topic_20, topic_21, topic_22, topic_23, topic_24, topic_25\n",
      "INFO:mira.adata_interface.core:Added key to varm: topic_feature_compositions\n",
      "INFO:mira.adata_interface.core:Added key to varm: topic_feature_activations\n"
     ]
    },
    {
     "data": {
      "application/vnd.jupyter.widget-view+json": {
       "model_id": "21ba1f7829ce49f4b89f2aae58ec8094",
       "version_major": 2,
       "version_minor": 0
      },
      "text/plain": [
       "Predicting latent vars:   0%|          | 0/7 [00:00<?, ?it/s]"
      ]
     },
     "metadata": {},
     "output_type": "display_data"
    },
    {
     "name": "stderr",
     "output_type": "stream",
     "text": [
      "INFO:mira.adata_interface.core:Added key to obsm: X_topic_compositions\n",
      "INFO:mira.adata_interface.topic_model:Added cols: topic_0, topic_1, topic_2, topic_3, topic_4, topic_5, topic_6, topic_7, topic_8, topic_9, topic_10, topic_11, topic_12, topic_13, topic_14, topic_15, topic_16, topic_17, topic_18, topic_19, topic_20, topic_21, topic_22, topic_23, topic_24, topic_25, topic_26, topic_27, topic_28, topic_29, topic_30\n",
      "INFO:mira.adata_interface.core:Added key to varm: topic_feature_compositions\n",
      "INFO:mira.adata_interface.core:Added key to varm: topic_feature_activations\n",
      "INFO:mira.adata_interface.core:Added cols to obs: model_read_scale\n",
      "INFO:mira.adata_interface.topic_model:Fetching key X_topic_compositions from obsm\n"
     ]
    },
    {
     "data": {
      "application/vnd.jupyter.widget-view+json": {
       "model_id": "404e72a924434042ace772df61c637f5",
       "version_major": 2,
       "version_minor": 0
      },
      "text/plain": [
       "Calculating softmax summary data:   0%|          | 0/7 [00:00<?, ?it/s]"
      ]
     },
     "metadata": {},
     "output_type": "display_data"
    },
    {
     "name": "stderr",
     "output_type": "stream",
     "text": [
      "INFO:mira.adata_interface.core:Added cols to obs: softmax_denom\n",
      "INFO:mira.adata_interface.topic_model:Fetching key X_topic_compositions from obsm\n"
     ]
    },
    {
     "data": {
      "application/vnd.jupyter.widget-view+json": {
       "model_id": "2543d93f775f4856b4d2b3aea29440b1",
       "version_major": 2,
       "version_minor": 0
      },
      "text/plain": [
       "Calculating softmax summary data:   0%|          | 0/7 [00:00<?, ?it/s]"
      ]
     },
     "metadata": {},
     "output_type": "display_data"
    },
    {
     "name": "stderr",
     "output_type": "stream",
     "text": [
      "INFO:mira.adata_interface.core:Added cols to obs: softmax_denom\n"
     ]
    },
    {
     "data": {
      "application/vnd.jupyter.widget-view+json": {
       "model_id": "7938c2aa6bcd4f98881434b191e0144b",
       "version_major": 2,
       "version_minor": 0
      },
      "text/plain": [
       "Predicting expression:   0%|          | 0/2833 [00:00<?, ?it/s]"
      ]
     },
     "metadata": {},
     "output_type": "display_data"
    },
    {
     "name": "stderr",
     "output_type": "stream",
     "text": [
      "/liulab/alynch/projects/batcheffect-env/lib/python3.7/site-packages/pyro/util.py:367: UserWarning: Found plate statements in guide but not model: {'upstream-downstream', 'spans'}\n",
      "  guide_vars - model_vars\n",
      "/liulab/alynch/projects/multiomics/BatchEffect/MIRA/mira/rp_model/rp_model.py:837: UserWarning: To copy construct from a tensor, it is recommended to use sourceTensor.clone().detach() or sourceTensor.clone().detach().requires_grad_(True), rather than torch.tensor(sourceTensor).\n",
      "  return torch.tensor(X, requires_grad=False)\n",
      "INFO:mira.adata_interface.core:Added layer: LITE_prediction\n",
      "INFO:mira.adata_interface.core:Added layer: LITE_logp\n"
     ]
    },
    {
     "name": "stdout",
     "output_type": "stream",
     "text": [
      "s1d3 s4d1\n"
     ]
    },
    {
     "data": {
      "application/vnd.jupyter.widget-view+json": {
       "model_id": "50c7e9b89373449bb09220636da7fb7a",
       "version_major": 2,
       "version_minor": 0
      },
      "text/plain": [
       "Predicting latent vars:   0%|          | 0/7 [00:00<?, ?it/s]"
      ]
     },
     "metadata": {},
     "output_type": "display_data"
    },
    {
     "name": "stderr",
     "output_type": "stream",
     "text": [
      "INFO:mira.adata_interface.core:Added key to obsm: X_topic_compositions\n",
      "INFO:mira.adata_interface.topic_model:Added cols: topic_0, topic_1, topic_2, topic_3, topic_4, topic_5, topic_6, topic_7, topic_8, topic_9, topic_10, topic_11, topic_12, topic_13, topic_14, topic_15, topic_16, topic_17, topic_18, topic_19, topic_20, topic_21, topic_22, topic_23, topic_24, topic_25\n",
      "INFO:mira.adata_interface.core:Added key to varm: topic_feature_compositions\n",
      "INFO:mira.adata_interface.core:Added key to varm: topic_feature_activations\n"
     ]
    },
    {
     "data": {
      "application/vnd.jupyter.widget-view+json": {
       "model_id": "0eea899c46074c50817abd7e18dc4b92",
       "version_major": 2,
       "version_minor": 0
      },
      "text/plain": [
       "Predicting latent vars:   0%|          | 0/7 [00:00<?, ?it/s]"
      ]
     },
     "metadata": {},
     "output_type": "display_data"
    },
    {
     "name": "stderr",
     "output_type": "stream",
     "text": [
      "INFO:mira.adata_interface.core:Added key to obsm: X_topic_compositions\n",
      "INFO:mira.adata_interface.topic_model:Added cols: topic_0, topic_1, topic_2, topic_3, topic_4, topic_5, topic_6, topic_7, topic_8, topic_9, topic_10, topic_11, topic_12, topic_13, topic_14, topic_15, topic_16, topic_17, topic_18, topic_19, topic_20, topic_21, topic_22, topic_23, topic_24, topic_25, topic_26, topic_27, topic_28, topic_29, topic_30\n",
      "INFO:mira.adata_interface.core:Added key to varm: topic_feature_compositions\n",
      "INFO:mira.adata_interface.core:Added key to varm: topic_feature_activations\n",
      "INFO:mira.adata_interface.core:Added cols to obs: model_read_scale\n",
      "INFO:mira.adata_interface.topic_model:Fetching key X_topic_compositions from obsm\n"
     ]
    },
    {
     "data": {
      "application/vnd.jupyter.widget-view+json": {
       "model_id": "bc80824514c241d6998fcab86d41e580",
       "version_major": 2,
       "version_minor": 0
      },
      "text/plain": [
       "Calculating softmax summary data:   0%|          | 0/7 [00:00<?, ?it/s]"
      ]
     },
     "metadata": {},
     "output_type": "display_data"
    },
    {
     "name": "stderr",
     "output_type": "stream",
     "text": [
      "INFO:mira.adata_interface.core:Added cols to obs: softmax_denom\n",
      "INFO:mira.adata_interface.topic_model:Fetching key X_topic_compositions from obsm\n"
     ]
    },
    {
     "data": {
      "application/vnd.jupyter.widget-view+json": {
       "model_id": "e702e444ff074c458883b6262cebfca6",
       "version_major": 2,
       "version_minor": 0
      },
      "text/plain": [
       "Calculating softmax summary data:   0%|          | 0/7 [00:00<?, ?it/s]"
      ]
     },
     "metadata": {},
     "output_type": "display_data"
    },
    {
     "name": "stderr",
     "output_type": "stream",
     "text": [
      "INFO:mira.adata_interface.core:Added cols to obs: softmax_denom\n"
     ]
    },
    {
     "data": {
      "application/vnd.jupyter.widget-view+json": {
       "model_id": "e0edb6aa0be44f43847deda3d1ac56bf",
       "version_major": 2,
       "version_minor": 0
      },
      "text/plain": [
       "Predicting expression:   0%|          | 0/2837 [00:00<?, ?it/s]"
      ]
     },
     "metadata": {},
     "output_type": "display_data"
    },
    {
     "name": "stderr",
     "output_type": "stream",
     "text": [
      "/liulab/alynch/projects/batcheffect-env/lib/python3.7/site-packages/pyro/util.py:367: UserWarning: Found plate statements in guide but not model: {'upstream-downstream', 'spans'}\n",
      "  guide_vars - model_vars\n",
      "/liulab/alynch/projects/multiomics/BatchEffect/MIRA/mira/rp_model/rp_model.py:837: UserWarning: To copy construct from a tensor, it is recommended to use sourceTensor.clone().detach() or sourceTensor.clone().detach().requires_grad_(True), rather than torch.tensor(sourceTensor).\n",
      "  return torch.tensor(X, requires_grad=False)\n",
      "INFO:mira.adata_interface.core:Added layer: LITE_prediction\n",
      "INFO:mira.adata_interface.core:Added layer: LITE_logp\n"
     ]
    },
    {
     "name": "stdout",
     "output_type": "stream",
     "text": [
      "s2d1 s4d1\n"
     ]
    },
    {
     "data": {
      "application/vnd.jupyter.widget-view+json": {
       "model_id": "64f2106d5f3a4a9e993e7cc98e0b6650",
       "version_major": 2,
       "version_minor": 0
      },
      "text/plain": [
       "Predicting latent vars:   0%|          | 0/7 [00:00<?, ?it/s]"
      ]
     },
     "metadata": {},
     "output_type": "display_data"
    },
    {
     "name": "stderr",
     "output_type": "stream",
     "text": [
      "INFO:mira.adata_interface.core:Added key to obsm: X_topic_compositions\n",
      "INFO:mira.adata_interface.topic_model:Added cols: topic_0, topic_1, topic_2, topic_3, topic_4, topic_5, topic_6, topic_7, topic_8, topic_9, topic_10, topic_11, topic_12, topic_13, topic_14, topic_15, topic_16, topic_17, topic_18, topic_19, topic_20, topic_21, topic_22, topic_23, topic_24, topic_25\n",
      "INFO:mira.adata_interface.core:Added key to varm: topic_feature_compositions\n",
      "INFO:mira.adata_interface.core:Added key to varm: topic_feature_activations\n"
     ]
    },
    {
     "data": {
      "application/vnd.jupyter.widget-view+json": {
       "model_id": "b5e9ac9afb9e40c58544e033ee25e2d1",
       "version_major": 2,
       "version_minor": 0
      },
      "text/plain": [
       "Predicting latent vars:   0%|          | 0/7 [00:00<?, ?it/s]"
      ]
     },
     "metadata": {},
     "output_type": "display_data"
    },
    {
     "name": "stderr",
     "output_type": "stream",
     "text": [
      "INFO:mira.adata_interface.core:Added key to obsm: X_topic_compositions\n",
      "INFO:mira.adata_interface.topic_model:Added cols: topic_0, topic_1, topic_2, topic_3, topic_4, topic_5, topic_6, topic_7, topic_8, topic_9, topic_10, topic_11, topic_12, topic_13, topic_14, topic_15, topic_16, topic_17, topic_18, topic_19, topic_20, topic_21, topic_22, topic_23, topic_24, topic_25, topic_26, topic_27, topic_28, topic_29, topic_30\n",
      "INFO:mira.adata_interface.core:Added key to varm: topic_feature_compositions\n",
      "INFO:mira.adata_interface.core:Added key to varm: topic_feature_activations\n",
      "INFO:mira.adata_interface.core:Added cols to obs: model_read_scale\n",
      "INFO:mira.adata_interface.topic_model:Fetching key X_topic_compositions from obsm\n"
     ]
    },
    {
     "data": {
      "application/vnd.jupyter.widget-view+json": {
       "model_id": "ae3a68facad14e42bb3ddcc8d674ce76",
       "version_major": 2,
       "version_minor": 0
      },
      "text/plain": [
       "Calculating softmax summary data:   0%|          | 0/7 [00:00<?, ?it/s]"
      ]
     },
     "metadata": {},
     "output_type": "display_data"
    },
    {
     "name": "stderr",
     "output_type": "stream",
     "text": [
      "INFO:mira.adata_interface.core:Added cols to obs: softmax_denom\n",
      "INFO:mira.adata_interface.topic_model:Fetching key X_topic_compositions from obsm\n"
     ]
    },
    {
     "data": {
      "application/vnd.jupyter.widget-view+json": {
       "model_id": "490988a870204f3ebb468167e3754be6",
       "version_major": 2,
       "version_minor": 0
      },
      "text/plain": [
       "Calculating softmax summary data:   0%|          | 0/7 [00:00<?, ?it/s]"
      ]
     },
     "metadata": {},
     "output_type": "display_data"
    },
    {
     "name": "stderr",
     "output_type": "stream",
     "text": [
      "INFO:mira.adata_interface.core:Added cols to obs: softmax_denom\n"
     ]
    },
    {
     "data": {
      "application/vnd.jupyter.widget-view+json": {
       "model_id": "dab3a847fcdf4b98ba936315767bcdad",
       "version_major": 2,
       "version_minor": 0
      },
      "text/plain": [
       "Predicting expression:   0%|          | 0/2835 [00:00<?, ?it/s]"
      ]
     },
     "metadata": {},
     "output_type": "display_data"
    },
    {
     "name": "stderr",
     "output_type": "stream",
     "text": [
      "/liulab/alynch/projects/batcheffect-env/lib/python3.7/site-packages/pyro/util.py:367: UserWarning: Found plate statements in guide but not model: {'upstream-downstream', 'spans'}\n",
      "  guide_vars - model_vars\n",
      "/liulab/alynch/projects/multiomics/BatchEffect/MIRA/mira/rp_model/rp_model.py:837: UserWarning: To copy construct from a tensor, it is recommended to use sourceTensor.clone().detach() or sourceTensor.clone().detach().requires_grad_(True), rather than torch.tensor(sourceTensor).\n",
      "  return torch.tensor(X, requires_grad=False)\n",
      "INFO:mira.adata_interface.core:Added layer: LITE_prediction\n",
      "INFO:mira.adata_interface.core:Added layer: LITE_logp\n"
     ]
    },
    {
     "name": "stdout",
     "output_type": "stream",
     "text": [
      "s2d4 s4d1\n"
     ]
    },
    {
     "data": {
      "application/vnd.jupyter.widget-view+json": {
       "model_id": "789f028bb17c4338b325176021639dd4",
       "version_major": 2,
       "version_minor": 0
      },
      "text/plain": [
       "Predicting latent vars:   0%|          | 0/7 [00:00<?, ?it/s]"
      ]
     },
     "metadata": {},
     "output_type": "display_data"
    },
    {
     "name": "stderr",
     "output_type": "stream",
     "text": [
      "INFO:mira.adata_interface.core:Added key to obsm: X_topic_compositions\n",
      "INFO:mira.adata_interface.topic_model:Added cols: topic_0, topic_1, topic_2, topic_3, topic_4, topic_5, topic_6, topic_7, topic_8, topic_9, topic_10, topic_11, topic_12, topic_13, topic_14, topic_15, topic_16, topic_17, topic_18, topic_19, topic_20, topic_21, topic_22, topic_23, topic_24, topic_25\n",
      "INFO:mira.adata_interface.core:Added key to varm: topic_feature_compositions\n",
      "INFO:mira.adata_interface.core:Added key to varm: topic_feature_activations\n"
     ]
    },
    {
     "data": {
      "application/vnd.jupyter.widget-view+json": {
       "model_id": "9765e0f6eb2649439d740833cde6e18a",
       "version_major": 2,
       "version_minor": 0
      },
      "text/plain": [
       "Predicting latent vars:   0%|          | 0/7 [00:00<?, ?it/s]"
      ]
     },
     "metadata": {},
     "output_type": "display_data"
    },
    {
     "name": "stderr",
     "output_type": "stream",
     "text": [
      "INFO:mira.adata_interface.core:Added key to obsm: X_topic_compositions\n",
      "INFO:mira.adata_interface.topic_model:Added cols: topic_0, topic_1, topic_2, topic_3, topic_4, topic_5, topic_6, topic_7, topic_8, topic_9, topic_10, topic_11, topic_12, topic_13, topic_14, topic_15, topic_16, topic_17, topic_18, topic_19, topic_20, topic_21, topic_22, topic_23, topic_24, topic_25, topic_26, topic_27, topic_28, topic_29, topic_30\n",
      "INFO:mira.adata_interface.core:Added key to varm: topic_feature_compositions\n",
      "INFO:mira.adata_interface.core:Added key to varm: topic_feature_activations\n",
      "INFO:mira.adata_interface.core:Added cols to obs: model_read_scale\n",
      "INFO:mira.adata_interface.topic_model:Fetching key X_topic_compositions from obsm\n"
     ]
    },
    {
     "data": {
      "application/vnd.jupyter.widget-view+json": {
       "model_id": "3890c332c6374a3582a3a47095ab729b",
       "version_major": 2,
       "version_minor": 0
      },
      "text/plain": [
       "Calculating softmax summary data:   0%|          | 0/7 [00:00<?, ?it/s]"
      ]
     },
     "metadata": {},
     "output_type": "display_data"
    },
    {
     "name": "stderr",
     "output_type": "stream",
     "text": [
      "INFO:mira.adata_interface.core:Added cols to obs: softmax_denom\n",
      "INFO:mira.adata_interface.topic_model:Fetching key X_topic_compositions from obsm\n"
     ]
    },
    {
     "data": {
      "application/vnd.jupyter.widget-view+json": {
       "model_id": "2fa4bd796126425eaeb4a069010c8840",
       "version_major": 2,
       "version_minor": 0
      },
      "text/plain": [
       "Calculating softmax summary data:   0%|          | 0/7 [00:00<?, ?it/s]"
      ]
     },
     "metadata": {},
     "output_type": "display_data"
    },
    {
     "name": "stderr",
     "output_type": "stream",
     "text": [
      "INFO:mira.adata_interface.core:Added cols to obs: softmax_denom\n"
     ]
    },
    {
     "data": {
      "application/vnd.jupyter.widget-view+json": {
       "model_id": "2c9e8b238e92447da20acaa4fa8fd858",
       "version_major": 2,
       "version_minor": 0
      },
      "text/plain": [
       "Predicting expression:   0%|          | 0/2829 [00:00<?, ?it/s]"
      ]
     },
     "metadata": {},
     "output_type": "display_data"
    },
    {
     "name": "stderr",
     "output_type": "stream",
     "text": [
      "/liulab/alynch/projects/batcheffect-env/lib/python3.7/site-packages/pyro/util.py:367: UserWarning: Found plate statements in guide but not model: {'upstream-downstream', 'spans'}\n",
      "  guide_vars - model_vars\n",
      "/liulab/alynch/projects/multiomics/BatchEffect/MIRA/mira/rp_model/rp_model.py:837: UserWarning: To copy construct from a tensor, it is recommended to use sourceTensor.clone().detach() or sourceTensor.clone().detach().requires_grad_(True), rather than torch.tensor(sourceTensor).\n",
      "  return torch.tensor(X, requires_grad=False)\n",
      "INFO:mira.adata_interface.core:Added layer: LITE_prediction\n",
      "INFO:mira.adata_interface.core:Added layer: LITE_logp\n"
     ]
    },
    {
     "name": "stdout",
     "output_type": "stream",
     "text": [
      "s2d5 s4d1\n"
     ]
    },
    {
     "data": {
      "application/vnd.jupyter.widget-view+json": {
       "model_id": "6134e64eae074426abdeadb13b637be1",
       "version_major": 2,
       "version_minor": 0
      },
      "text/plain": [
       "Predicting latent vars:   0%|          | 0/7 [00:00<?, ?it/s]"
      ]
     },
     "metadata": {},
     "output_type": "display_data"
    },
    {
     "name": "stderr",
     "output_type": "stream",
     "text": [
      "INFO:mira.adata_interface.core:Added key to obsm: X_topic_compositions\n",
      "INFO:mira.adata_interface.topic_model:Added cols: topic_0, topic_1, topic_2, topic_3, topic_4, topic_5, topic_6, topic_7, topic_8, topic_9, topic_10, topic_11, topic_12, topic_13, topic_14, topic_15, topic_16, topic_17, topic_18, topic_19, topic_20, topic_21, topic_22, topic_23, topic_24, topic_25\n",
      "INFO:mira.adata_interface.core:Added key to varm: topic_feature_compositions\n",
      "INFO:mira.adata_interface.core:Added key to varm: topic_feature_activations\n"
     ]
    },
    {
     "data": {
      "application/vnd.jupyter.widget-view+json": {
       "model_id": "859e66559d364cfca022245762f3ebf7",
       "version_major": 2,
       "version_minor": 0
      },
      "text/plain": [
       "Predicting latent vars:   0%|          | 0/7 [00:00<?, ?it/s]"
      ]
     },
     "metadata": {},
     "output_type": "display_data"
    },
    {
     "name": "stderr",
     "output_type": "stream",
     "text": [
      "INFO:mira.adata_interface.core:Added key to obsm: X_topic_compositions\n",
      "INFO:mira.adata_interface.topic_model:Added cols: topic_0, topic_1, topic_2, topic_3, topic_4, topic_5, topic_6, topic_7, topic_8, topic_9, topic_10, topic_11, topic_12, topic_13, topic_14, topic_15, topic_16, topic_17, topic_18, topic_19, topic_20, topic_21, topic_22, topic_23, topic_24, topic_25, topic_26, topic_27, topic_28, topic_29, topic_30\n",
      "INFO:mira.adata_interface.core:Added key to varm: topic_feature_compositions\n",
      "INFO:mira.adata_interface.core:Added key to varm: topic_feature_activations\n",
      "INFO:mira.adata_interface.core:Added cols to obs: model_read_scale\n",
      "INFO:mira.adata_interface.topic_model:Fetching key X_topic_compositions from obsm\n"
     ]
    },
    {
     "data": {
      "application/vnd.jupyter.widget-view+json": {
       "model_id": "8d3afffdfe624bf6b53f94adec93819c",
       "version_major": 2,
       "version_minor": 0
      },
      "text/plain": [
       "Calculating softmax summary data:   0%|          | 0/7 [00:00<?, ?it/s]"
      ]
     },
     "metadata": {},
     "output_type": "display_data"
    },
    {
     "name": "stderr",
     "output_type": "stream",
     "text": [
      "INFO:mira.adata_interface.core:Added cols to obs: softmax_denom\n",
      "INFO:mira.adata_interface.topic_model:Fetching key X_topic_compositions from obsm\n"
     ]
    },
    {
     "data": {
      "application/vnd.jupyter.widget-view+json": {
       "model_id": "eb2fe8570f3e40b3a49b4eb6d6975d71",
       "version_major": 2,
       "version_minor": 0
      },
      "text/plain": [
       "Calculating softmax summary data:   0%|          | 0/7 [00:00<?, ?it/s]"
      ]
     },
     "metadata": {},
     "output_type": "display_data"
    },
    {
     "name": "stderr",
     "output_type": "stream",
     "text": [
      "INFO:mira.adata_interface.core:Added cols to obs: softmax_denom\n"
     ]
    },
    {
     "data": {
      "application/vnd.jupyter.widget-view+json": {
       "model_id": "ffa7985ad2154de194e07891663ac50a",
       "version_major": 2,
       "version_minor": 0
      },
      "text/plain": [
       "Predicting expression:   0%|          | 0/2827 [00:00<?, ?it/s]"
      ]
     },
     "metadata": {},
     "output_type": "display_data"
    },
    {
     "name": "stderr",
     "output_type": "stream",
     "text": [
      "/liulab/alynch/projects/batcheffect-env/lib/python3.7/site-packages/pyro/util.py:367: UserWarning: Found plate statements in guide but not model: {'upstream-downstream', 'spans'}\n",
      "  guide_vars - model_vars\n",
      "/liulab/alynch/projects/multiomics/BatchEffect/MIRA/mira/rp_model/rp_model.py:837: UserWarning: To copy construct from a tensor, it is recommended to use sourceTensor.clone().detach() or sourceTensor.clone().detach().requires_grad_(True), rather than torch.tensor(sourceTensor).\n",
      "  return torch.tensor(X, requires_grad=False)\n",
      "INFO:mira.adata_interface.core:Added layer: LITE_prediction\n",
      "INFO:mira.adata_interface.core:Added layer: LITE_logp\n"
     ]
    },
    {
     "name": "stdout",
     "output_type": "stream",
     "text": [
      "s3d10 s4d1\n"
     ]
    },
    {
     "data": {
      "application/vnd.jupyter.widget-view+json": {
       "model_id": "2e93ee7a2dd44b99810a60cec560e0cc",
       "version_major": 2,
       "version_minor": 0
      },
      "text/plain": [
       "Predicting latent vars:   0%|          | 0/7 [00:00<?, ?it/s]"
      ]
     },
     "metadata": {},
     "output_type": "display_data"
    },
    {
     "name": "stderr",
     "output_type": "stream",
     "text": [
      "INFO:mira.adata_interface.core:Added key to obsm: X_topic_compositions\n",
      "INFO:mira.adata_interface.topic_model:Added cols: topic_0, topic_1, topic_2, topic_3, topic_4, topic_5, topic_6, topic_7, topic_8, topic_9, topic_10, topic_11, topic_12, topic_13, topic_14, topic_15, topic_16, topic_17, topic_18, topic_19, topic_20, topic_21, topic_22, topic_23, topic_24, topic_25\n",
      "INFO:mira.adata_interface.core:Added key to varm: topic_feature_compositions\n",
      "INFO:mira.adata_interface.core:Added key to varm: topic_feature_activations\n"
     ]
    },
    {
     "data": {
      "application/vnd.jupyter.widget-view+json": {
       "model_id": "05c7611210174cecbfd6be6c71acf851",
       "version_major": 2,
       "version_minor": 0
      },
      "text/plain": [
       "Predicting latent vars:   0%|          | 0/7 [00:00<?, ?it/s]"
      ]
     },
     "metadata": {},
     "output_type": "display_data"
    },
    {
     "name": "stderr",
     "output_type": "stream",
     "text": [
      "INFO:mira.adata_interface.core:Added key to obsm: X_topic_compositions\n",
      "INFO:mira.adata_interface.topic_model:Added cols: topic_0, topic_1, topic_2, topic_3, topic_4, topic_5, topic_6, topic_7, topic_8, topic_9, topic_10, topic_11, topic_12, topic_13, topic_14, topic_15, topic_16, topic_17, topic_18, topic_19, topic_20, topic_21, topic_22, topic_23, topic_24, topic_25, topic_26, topic_27, topic_28, topic_29, topic_30\n",
      "INFO:mira.adata_interface.core:Added key to varm: topic_feature_compositions\n",
      "INFO:mira.adata_interface.core:Added key to varm: topic_feature_activations\n",
      "INFO:mira.adata_interface.core:Added cols to obs: model_read_scale\n",
      "INFO:mira.adata_interface.topic_model:Fetching key X_topic_compositions from obsm\n"
     ]
    },
    {
     "data": {
      "application/vnd.jupyter.widget-view+json": {
       "model_id": "fdd45c4b8f974d8e8c7a4cd46fbc4803",
       "version_major": 2,
       "version_minor": 0
      },
      "text/plain": [
       "Calculating softmax summary data:   0%|          | 0/7 [00:00<?, ?it/s]"
      ]
     },
     "metadata": {},
     "output_type": "display_data"
    },
    {
     "name": "stderr",
     "output_type": "stream",
     "text": [
      "INFO:mira.adata_interface.core:Added cols to obs: softmax_denom\n",
      "INFO:mira.adata_interface.topic_model:Fetching key X_topic_compositions from obsm\n"
     ]
    },
    {
     "data": {
      "application/vnd.jupyter.widget-view+json": {
       "model_id": "03a37b978d644ca5abd168c99dfb2847",
       "version_major": 2,
       "version_minor": 0
      },
      "text/plain": [
       "Calculating softmax summary data:   0%|          | 0/7 [00:00<?, ?it/s]"
      ]
     },
     "metadata": {},
     "output_type": "display_data"
    },
    {
     "name": "stderr",
     "output_type": "stream",
     "text": [
      "INFO:mira.adata_interface.core:Added cols to obs: softmax_denom\n"
     ]
    },
    {
     "data": {
      "application/vnd.jupyter.widget-view+json": {
       "model_id": "098eeaba53694c53b8296e789806d0f4",
       "version_major": 2,
       "version_minor": 0
      },
      "text/plain": [
       "Predicting expression:   0%|          | 0/2837 [00:00<?, ?it/s]"
      ]
     },
     "metadata": {},
     "output_type": "display_data"
    },
    {
     "name": "stderr",
     "output_type": "stream",
     "text": [
      "/liulab/alynch/projects/batcheffect-env/lib/python3.7/site-packages/pyro/util.py:367: UserWarning: Found plate statements in guide but not model: {'upstream-downstream', 'spans'}\n",
      "  guide_vars - model_vars\n",
      "/liulab/alynch/projects/multiomics/BatchEffect/MIRA/mira/rp_model/rp_model.py:837: UserWarning: To copy construct from a tensor, it is recommended to use sourceTensor.clone().detach() or sourceTensor.clone().detach().requires_grad_(True), rather than torch.tensor(sourceTensor).\n",
      "  return torch.tensor(X, requires_grad=False)\n",
      "INFO:mira.adata_interface.core:Added layer: LITE_prediction\n",
      "INFO:mira.adata_interface.core:Added layer: LITE_logp\n"
     ]
    },
    {
     "name": "stdout",
     "output_type": "stream",
     "text": [
      "s1d1 s4d8\n"
     ]
    },
    {
     "data": {
      "application/vnd.jupyter.widget-view+json": {
       "model_id": "c8aca1ae3c61447180cc6f148539d503",
       "version_major": 2,
       "version_minor": 0
      },
      "text/plain": [
       "Predicting latent vars:   0%|          | 0/7 [00:00<?, ?it/s]"
      ]
     },
     "metadata": {},
     "output_type": "display_data"
    },
    {
     "name": "stderr",
     "output_type": "stream",
     "text": [
      "INFO:mira.adata_interface.core:Added key to obsm: X_topic_compositions\n",
      "INFO:mira.adata_interface.topic_model:Added cols: topic_0, topic_1, topic_2, topic_3, topic_4, topic_5, topic_6, topic_7, topic_8, topic_9, topic_10, topic_11, topic_12, topic_13, topic_14, topic_15, topic_16, topic_17, topic_18, topic_19, topic_20, topic_21, topic_22, topic_23, topic_24, topic_25\n",
      "INFO:mira.adata_interface.core:Added key to varm: topic_feature_compositions\n",
      "INFO:mira.adata_interface.core:Added key to varm: topic_feature_activations\n"
     ]
    },
    {
     "data": {
      "application/vnd.jupyter.widget-view+json": {
       "model_id": "06dbe53004154e8e8501378ac9ab2871",
       "version_major": 2,
       "version_minor": 0
      },
      "text/plain": [
       "Predicting latent vars:   0%|          | 0/7 [00:00<?, ?it/s]"
      ]
     },
     "metadata": {},
     "output_type": "display_data"
    },
    {
     "name": "stderr",
     "output_type": "stream",
     "text": [
      "INFO:mira.adata_interface.core:Added key to obsm: X_topic_compositions\n",
      "INFO:mira.adata_interface.topic_model:Added cols: topic_0, topic_1, topic_2, topic_3, topic_4, topic_5, topic_6, topic_7, topic_8, topic_9, topic_10, topic_11, topic_12, topic_13, topic_14, topic_15, topic_16, topic_17, topic_18, topic_19, topic_20, topic_21, topic_22, topic_23, topic_24, topic_25, topic_26, topic_27, topic_28, topic_29, topic_30\n",
      "INFO:mira.adata_interface.core:Added key to varm: topic_feature_compositions\n",
      "INFO:mira.adata_interface.core:Added key to varm: topic_feature_activations\n",
      "INFO:mira.adata_interface.core:Added cols to obs: model_read_scale\n",
      "INFO:mira.adata_interface.topic_model:Fetching key X_topic_compositions from obsm\n"
     ]
    },
    {
     "data": {
      "application/vnd.jupyter.widget-view+json": {
       "model_id": "1410d08e47c34eec850f2d5d3f032ab0",
       "version_major": 2,
       "version_minor": 0
      },
      "text/plain": [
       "Calculating softmax summary data:   0%|          | 0/7 [00:00<?, ?it/s]"
      ]
     },
     "metadata": {},
     "output_type": "display_data"
    },
    {
     "name": "stderr",
     "output_type": "stream",
     "text": [
      "INFO:mira.adata_interface.core:Added cols to obs: softmax_denom\n",
      "INFO:mira.adata_interface.topic_model:Fetching key X_topic_compositions from obsm\n"
     ]
    },
    {
     "data": {
      "application/vnd.jupyter.widget-view+json": {
       "model_id": "bcbad92026c94c0e83c5b931aac4cf8b",
       "version_major": 2,
       "version_minor": 0
      },
      "text/plain": [
       "Calculating softmax summary data:   0%|          | 0/7 [00:00<?, ?it/s]"
      ]
     },
     "metadata": {},
     "output_type": "display_data"
    },
    {
     "name": "stderr",
     "output_type": "stream",
     "text": [
      "INFO:mira.adata_interface.core:Added cols to obs: softmax_denom\n"
     ]
    },
    {
     "data": {
      "application/vnd.jupyter.widget-view+json": {
       "model_id": "590b2fe898b74375bbd7340273bf1477",
       "version_major": 2,
       "version_minor": 0
      },
      "text/plain": [
       "Predicting expression:   0%|          | 0/2833 [00:00<?, ?it/s]"
      ]
     },
     "metadata": {},
     "output_type": "display_data"
    },
    {
     "name": "stderr",
     "output_type": "stream",
     "text": [
      "/liulab/alynch/projects/batcheffect-env/lib/python3.7/site-packages/pyro/util.py:367: UserWarning: Found plate statements in guide but not model: {'upstream-downstream', 'spans'}\n",
      "  guide_vars - model_vars\n",
      "/liulab/alynch/projects/multiomics/BatchEffect/MIRA/mira/rp_model/rp_model.py:837: UserWarning: To copy construct from a tensor, it is recommended to use sourceTensor.clone().detach() or sourceTensor.clone().detach().requires_grad_(True), rather than torch.tensor(sourceTensor).\n",
      "  return torch.tensor(X, requires_grad=False)\n",
      "INFO:mira.adata_interface.core:Added layer: LITE_prediction\n",
      "INFO:mira.adata_interface.core:Added layer: LITE_logp\n"
     ]
    },
    {
     "name": "stdout",
     "output_type": "stream",
     "text": [
      "s1d3 s4d8\n"
     ]
    },
    {
     "data": {
      "application/vnd.jupyter.widget-view+json": {
       "model_id": "3fb7da5bba44470ab0032fcffa3aa01a",
       "version_major": 2,
       "version_minor": 0
      },
      "text/plain": [
       "Predicting latent vars:   0%|          | 0/7 [00:00<?, ?it/s]"
      ]
     },
     "metadata": {},
     "output_type": "display_data"
    },
    {
     "name": "stderr",
     "output_type": "stream",
     "text": [
      "INFO:mira.adata_interface.core:Added key to obsm: X_topic_compositions\n",
      "INFO:mira.adata_interface.topic_model:Added cols: topic_0, topic_1, topic_2, topic_3, topic_4, topic_5, topic_6, topic_7, topic_8, topic_9, topic_10, topic_11, topic_12, topic_13, topic_14, topic_15, topic_16, topic_17, topic_18, topic_19, topic_20, topic_21, topic_22, topic_23, topic_24, topic_25\n",
      "INFO:mira.adata_interface.core:Added key to varm: topic_feature_compositions\n",
      "INFO:mira.adata_interface.core:Added key to varm: topic_feature_activations\n"
     ]
    },
    {
     "data": {
      "application/vnd.jupyter.widget-view+json": {
       "model_id": "5934fdc605844cc393afacaaf5e9bfef",
       "version_major": 2,
       "version_minor": 0
      },
      "text/plain": [
       "Predicting latent vars:   0%|          | 0/7 [00:00<?, ?it/s]"
      ]
     },
     "metadata": {},
     "output_type": "display_data"
    },
    {
     "name": "stderr",
     "output_type": "stream",
     "text": [
      "INFO:mira.adata_interface.core:Added key to obsm: X_topic_compositions\n",
      "INFO:mira.adata_interface.topic_model:Added cols: topic_0, topic_1, topic_2, topic_3, topic_4, topic_5, topic_6, topic_7, topic_8, topic_9, topic_10, topic_11, topic_12, topic_13, topic_14, topic_15, topic_16, topic_17, topic_18, topic_19, topic_20, topic_21, topic_22, topic_23, topic_24, topic_25, topic_26, topic_27, topic_28, topic_29, topic_30\n",
      "INFO:mira.adata_interface.core:Added key to varm: topic_feature_compositions\n",
      "INFO:mira.adata_interface.core:Added key to varm: topic_feature_activations\n",
      "INFO:mira.adata_interface.core:Added cols to obs: model_read_scale\n",
      "INFO:mira.adata_interface.topic_model:Fetching key X_topic_compositions from obsm\n"
     ]
    },
    {
     "data": {
      "application/vnd.jupyter.widget-view+json": {
       "model_id": "a7ccb3f94f034179a10fb40c4f2cb986",
       "version_major": 2,
       "version_minor": 0
      },
      "text/plain": [
       "Calculating softmax summary data:   0%|          | 0/7 [00:00<?, ?it/s]"
      ]
     },
     "metadata": {},
     "output_type": "display_data"
    },
    {
     "name": "stderr",
     "output_type": "stream",
     "text": [
      "INFO:mira.adata_interface.core:Added cols to obs: softmax_denom\n",
      "INFO:mira.adata_interface.topic_model:Fetching key X_topic_compositions from obsm\n"
     ]
    },
    {
     "data": {
      "application/vnd.jupyter.widget-view+json": {
       "model_id": "cc9df5637ad749cfbd5d8704b12b5020",
       "version_major": 2,
       "version_minor": 0
      },
      "text/plain": [
       "Calculating softmax summary data:   0%|          | 0/7 [00:00<?, ?it/s]"
      ]
     },
     "metadata": {},
     "output_type": "display_data"
    },
    {
     "name": "stderr",
     "output_type": "stream",
     "text": [
      "INFO:mira.adata_interface.core:Added cols to obs: softmax_denom\n"
     ]
    },
    {
     "data": {
      "application/vnd.jupyter.widget-view+json": {
       "model_id": "e0280d0b9bd9400ea377ae7162302b84",
       "version_major": 2,
       "version_minor": 0
      },
      "text/plain": [
       "Predicting expression:   0%|          | 0/2837 [00:00<?, ?it/s]"
      ]
     },
     "metadata": {},
     "output_type": "display_data"
    },
    {
     "name": "stderr",
     "output_type": "stream",
     "text": [
      "/liulab/alynch/projects/batcheffect-env/lib/python3.7/site-packages/pyro/util.py:367: UserWarning: Found plate statements in guide but not model: {'upstream-downstream', 'spans'}\n",
      "  guide_vars - model_vars\n",
      "/liulab/alynch/projects/multiomics/BatchEffect/MIRA/mira/rp_model/rp_model.py:837: UserWarning: To copy construct from a tensor, it is recommended to use sourceTensor.clone().detach() or sourceTensor.clone().detach().requires_grad_(True), rather than torch.tensor(sourceTensor).\n",
      "  return torch.tensor(X, requires_grad=False)\n",
      "INFO:mira.adata_interface.core:Added layer: LITE_prediction\n",
      "INFO:mira.adata_interface.core:Added layer: LITE_logp\n"
     ]
    },
    {
     "name": "stdout",
     "output_type": "stream",
     "text": [
      "s2d1 s4d8\n"
     ]
    },
    {
     "data": {
      "application/vnd.jupyter.widget-view+json": {
       "model_id": "8fb412f9c01445cf8faad37d35b27c1b",
       "version_major": 2,
       "version_minor": 0
      },
      "text/plain": [
       "Predicting latent vars:   0%|          | 0/7 [00:00<?, ?it/s]"
      ]
     },
     "metadata": {},
     "output_type": "display_data"
    },
    {
     "name": "stderr",
     "output_type": "stream",
     "text": [
      "INFO:mira.adata_interface.core:Added key to obsm: X_topic_compositions\n",
      "INFO:mira.adata_interface.topic_model:Added cols: topic_0, topic_1, topic_2, topic_3, topic_4, topic_5, topic_6, topic_7, topic_8, topic_9, topic_10, topic_11, topic_12, topic_13, topic_14, topic_15, topic_16, topic_17, topic_18, topic_19, topic_20, topic_21, topic_22, topic_23, topic_24, topic_25\n",
      "INFO:mira.adata_interface.core:Added key to varm: topic_feature_compositions\n",
      "INFO:mira.adata_interface.core:Added key to varm: topic_feature_activations\n"
     ]
    },
    {
     "data": {
      "application/vnd.jupyter.widget-view+json": {
       "model_id": "be4b95a841364c8b849fa1a167895755",
       "version_major": 2,
       "version_minor": 0
      },
      "text/plain": [
       "Predicting latent vars:   0%|          | 0/7 [00:00<?, ?it/s]"
      ]
     },
     "metadata": {},
     "output_type": "display_data"
    },
    {
     "name": "stderr",
     "output_type": "stream",
     "text": [
      "INFO:mira.adata_interface.core:Added key to obsm: X_topic_compositions\n",
      "INFO:mira.adata_interface.topic_model:Added cols: topic_0, topic_1, topic_2, topic_3, topic_4, topic_5, topic_6, topic_7, topic_8, topic_9, topic_10, topic_11, topic_12, topic_13, topic_14, topic_15, topic_16, topic_17, topic_18, topic_19, topic_20, topic_21, topic_22, topic_23, topic_24, topic_25, topic_26, topic_27, topic_28, topic_29, topic_30\n",
      "INFO:mira.adata_interface.core:Added key to varm: topic_feature_compositions\n",
      "INFO:mira.adata_interface.core:Added key to varm: topic_feature_activations\n",
      "INFO:mira.adata_interface.core:Added cols to obs: model_read_scale\n",
      "INFO:mira.adata_interface.topic_model:Fetching key X_topic_compositions from obsm\n"
     ]
    },
    {
     "data": {
      "application/vnd.jupyter.widget-view+json": {
       "model_id": "7a3a43125960490c8102c3cd6c73560f",
       "version_major": 2,
       "version_minor": 0
      },
      "text/plain": [
       "Calculating softmax summary data:   0%|          | 0/7 [00:00<?, ?it/s]"
      ]
     },
     "metadata": {},
     "output_type": "display_data"
    },
    {
     "name": "stderr",
     "output_type": "stream",
     "text": [
      "INFO:mira.adata_interface.core:Added cols to obs: softmax_denom\n",
      "INFO:mira.adata_interface.topic_model:Fetching key X_topic_compositions from obsm\n"
     ]
    },
    {
     "data": {
      "application/vnd.jupyter.widget-view+json": {
       "model_id": "17d522ec077d426fb4af995d7fd2bc92",
       "version_major": 2,
       "version_minor": 0
      },
      "text/plain": [
       "Calculating softmax summary data:   0%|          | 0/7 [00:00<?, ?it/s]"
      ]
     },
     "metadata": {},
     "output_type": "display_data"
    },
    {
     "name": "stderr",
     "output_type": "stream",
     "text": [
      "INFO:mira.adata_interface.core:Added cols to obs: softmax_denom\n"
     ]
    },
    {
     "data": {
      "application/vnd.jupyter.widget-view+json": {
       "model_id": "49960cb271bf4a5aaa139bd5c8cef517",
       "version_major": 2,
       "version_minor": 0
      },
      "text/plain": [
       "Predicting expression:   0%|          | 0/2835 [00:00<?, ?it/s]"
      ]
     },
     "metadata": {},
     "output_type": "display_data"
    },
    {
     "name": "stderr",
     "output_type": "stream",
     "text": [
      "/liulab/alynch/projects/batcheffect-env/lib/python3.7/site-packages/pyro/util.py:367: UserWarning: Found plate statements in guide but not model: {'upstream-downstream', 'spans'}\n",
      "  guide_vars - model_vars\n",
      "/liulab/alynch/projects/multiomics/BatchEffect/MIRA/mira/rp_model/rp_model.py:837: UserWarning: To copy construct from a tensor, it is recommended to use sourceTensor.clone().detach() or sourceTensor.clone().detach().requires_grad_(True), rather than torch.tensor(sourceTensor).\n",
      "  return torch.tensor(X, requires_grad=False)\n",
      "INFO:mira.adata_interface.core:Added layer: LITE_prediction\n",
      "INFO:mira.adata_interface.core:Added layer: LITE_logp\n"
     ]
    },
    {
     "name": "stdout",
     "output_type": "stream",
     "text": [
      "s2d4 s4d8\n"
     ]
    },
    {
     "data": {
      "application/vnd.jupyter.widget-view+json": {
       "model_id": "22acd161b7cb49a58a6e8559548d9b71",
       "version_major": 2,
       "version_minor": 0
      },
      "text/plain": [
       "Predicting latent vars:   0%|          | 0/7 [00:00<?, ?it/s]"
      ]
     },
     "metadata": {},
     "output_type": "display_data"
    },
    {
     "name": "stderr",
     "output_type": "stream",
     "text": [
      "INFO:mira.adata_interface.core:Added key to obsm: X_topic_compositions\n",
      "INFO:mira.adata_interface.topic_model:Added cols: topic_0, topic_1, topic_2, topic_3, topic_4, topic_5, topic_6, topic_7, topic_8, topic_9, topic_10, topic_11, topic_12, topic_13, topic_14, topic_15, topic_16, topic_17, topic_18, topic_19, topic_20, topic_21, topic_22, topic_23, topic_24, topic_25\n",
      "INFO:mira.adata_interface.core:Added key to varm: topic_feature_compositions\n",
      "INFO:mira.adata_interface.core:Added key to varm: topic_feature_activations\n"
     ]
    },
    {
     "data": {
      "application/vnd.jupyter.widget-view+json": {
       "model_id": "a64601a58e3247dea7912cfcfdd66079",
       "version_major": 2,
       "version_minor": 0
      },
      "text/plain": [
       "Predicting latent vars:   0%|          | 0/7 [00:00<?, ?it/s]"
      ]
     },
     "metadata": {},
     "output_type": "display_data"
    },
    {
     "name": "stderr",
     "output_type": "stream",
     "text": [
      "INFO:mira.adata_interface.core:Added key to obsm: X_topic_compositions\n",
      "INFO:mira.adata_interface.topic_model:Added cols: topic_0, topic_1, topic_2, topic_3, topic_4, topic_5, topic_6, topic_7, topic_8, topic_9, topic_10, topic_11, topic_12, topic_13, topic_14, topic_15, topic_16, topic_17, topic_18, topic_19, topic_20, topic_21, topic_22, topic_23, topic_24, topic_25, topic_26, topic_27, topic_28, topic_29, topic_30\n",
      "INFO:mira.adata_interface.core:Added key to varm: topic_feature_compositions\n",
      "INFO:mira.adata_interface.core:Added key to varm: topic_feature_activations\n",
      "INFO:mira.adata_interface.core:Added cols to obs: model_read_scale\n",
      "INFO:mira.adata_interface.topic_model:Fetching key X_topic_compositions from obsm\n"
     ]
    },
    {
     "data": {
      "application/vnd.jupyter.widget-view+json": {
       "model_id": "6857a805b0c14076ae42fb4754306018",
       "version_major": 2,
       "version_minor": 0
      },
      "text/plain": [
       "Calculating softmax summary data:   0%|          | 0/7 [00:00<?, ?it/s]"
      ]
     },
     "metadata": {},
     "output_type": "display_data"
    },
    {
     "name": "stderr",
     "output_type": "stream",
     "text": [
      "INFO:mira.adata_interface.core:Added cols to obs: softmax_denom\n",
      "INFO:mira.adata_interface.topic_model:Fetching key X_topic_compositions from obsm\n"
     ]
    },
    {
     "data": {
      "application/vnd.jupyter.widget-view+json": {
       "model_id": "a86fa9cc503c4d02ad5373cbd11969dc",
       "version_major": 2,
       "version_minor": 0
      },
      "text/plain": [
       "Calculating softmax summary data:   0%|          | 0/7 [00:00<?, ?it/s]"
      ]
     },
     "metadata": {},
     "output_type": "display_data"
    },
    {
     "name": "stderr",
     "output_type": "stream",
     "text": [
      "INFO:mira.adata_interface.core:Added cols to obs: softmax_denom\n"
     ]
    },
    {
     "data": {
      "application/vnd.jupyter.widget-view+json": {
       "model_id": "31ed3d064a9349a48cee06296df7c238",
       "version_major": 2,
       "version_minor": 0
      },
      "text/plain": [
       "Predicting expression:   0%|          | 0/2829 [00:00<?, ?it/s]"
      ]
     },
     "metadata": {},
     "output_type": "display_data"
    },
    {
     "name": "stderr",
     "output_type": "stream",
     "text": [
      "/liulab/alynch/projects/batcheffect-env/lib/python3.7/site-packages/pyro/util.py:367: UserWarning: Found plate statements in guide but not model: {'upstream-downstream', 'spans'}\n",
      "  guide_vars - model_vars\n",
      "/liulab/alynch/projects/multiomics/BatchEffect/MIRA/mira/rp_model/rp_model.py:837: UserWarning: To copy construct from a tensor, it is recommended to use sourceTensor.clone().detach() or sourceTensor.clone().detach().requires_grad_(True), rather than torch.tensor(sourceTensor).\n",
      "  return torch.tensor(X, requires_grad=False)\n",
      "INFO:mira.adata_interface.core:Added layer: LITE_prediction\n",
      "INFO:mira.adata_interface.core:Added layer: LITE_logp\n"
     ]
    },
    {
     "name": "stdout",
     "output_type": "stream",
     "text": [
      "s2d5 s4d8\n"
     ]
    },
    {
     "data": {
      "application/vnd.jupyter.widget-view+json": {
       "model_id": "52e7013f87be41dd9e92b0388e7a6c47",
       "version_major": 2,
       "version_minor": 0
      },
      "text/plain": [
       "Predicting latent vars:   0%|          | 0/7 [00:00<?, ?it/s]"
      ]
     },
     "metadata": {},
     "output_type": "display_data"
    },
    {
     "name": "stderr",
     "output_type": "stream",
     "text": [
      "INFO:mira.adata_interface.core:Added key to obsm: X_topic_compositions\n",
      "INFO:mira.adata_interface.topic_model:Added cols: topic_0, topic_1, topic_2, topic_3, topic_4, topic_5, topic_6, topic_7, topic_8, topic_9, topic_10, topic_11, topic_12, topic_13, topic_14, topic_15, topic_16, topic_17, topic_18, topic_19, topic_20, topic_21, topic_22, topic_23, topic_24, topic_25\n",
      "INFO:mira.adata_interface.core:Added key to varm: topic_feature_compositions\n",
      "INFO:mira.adata_interface.core:Added key to varm: topic_feature_activations\n"
     ]
    },
    {
     "data": {
      "application/vnd.jupyter.widget-view+json": {
       "model_id": "0c5564d2ed444ce990acf9cdb7dfaa51",
       "version_major": 2,
       "version_minor": 0
      },
      "text/plain": [
       "Predicting latent vars:   0%|          | 0/7 [00:00<?, ?it/s]"
      ]
     },
     "metadata": {},
     "output_type": "display_data"
    },
    {
     "name": "stderr",
     "output_type": "stream",
     "text": [
      "INFO:mira.adata_interface.core:Added key to obsm: X_topic_compositions\n",
      "INFO:mira.adata_interface.topic_model:Added cols: topic_0, topic_1, topic_2, topic_3, topic_4, topic_5, topic_6, topic_7, topic_8, topic_9, topic_10, topic_11, topic_12, topic_13, topic_14, topic_15, topic_16, topic_17, topic_18, topic_19, topic_20, topic_21, topic_22, topic_23, topic_24, topic_25, topic_26, topic_27, topic_28, topic_29, topic_30\n",
      "INFO:mira.adata_interface.core:Added key to varm: topic_feature_compositions\n",
      "INFO:mira.adata_interface.core:Added key to varm: topic_feature_activations\n",
      "INFO:mira.adata_interface.core:Added cols to obs: model_read_scale\n",
      "INFO:mira.adata_interface.topic_model:Fetching key X_topic_compositions from obsm\n"
     ]
    },
    {
     "data": {
      "application/vnd.jupyter.widget-view+json": {
       "model_id": "69c5a491965d4026bdaf704cafa641e9",
       "version_major": 2,
       "version_minor": 0
      },
      "text/plain": [
       "Calculating softmax summary data:   0%|          | 0/7 [00:00<?, ?it/s]"
      ]
     },
     "metadata": {},
     "output_type": "display_data"
    },
    {
     "name": "stderr",
     "output_type": "stream",
     "text": [
      "INFO:mira.adata_interface.core:Added cols to obs: softmax_denom\n",
      "INFO:mira.adata_interface.topic_model:Fetching key X_topic_compositions from obsm\n"
     ]
    },
    {
     "data": {
      "application/vnd.jupyter.widget-view+json": {
       "model_id": "d1b45215610643ad82a17e4b55898947",
       "version_major": 2,
       "version_minor": 0
      },
      "text/plain": [
       "Calculating softmax summary data:   0%|          | 0/7 [00:00<?, ?it/s]"
      ]
     },
     "metadata": {},
     "output_type": "display_data"
    },
    {
     "name": "stderr",
     "output_type": "stream",
     "text": [
      "INFO:mira.adata_interface.core:Added cols to obs: softmax_denom\n"
     ]
    },
    {
     "data": {
      "application/vnd.jupyter.widget-view+json": {
       "model_id": "cd1a5a2bdb8247c29f6ab3c1e9a7742e",
       "version_major": 2,
       "version_minor": 0
      },
      "text/plain": [
       "Predicting expression:   0%|          | 0/2827 [00:00<?, ?it/s]"
      ]
     },
     "metadata": {},
     "output_type": "display_data"
    },
    {
     "name": "stderr",
     "output_type": "stream",
     "text": [
      "/liulab/alynch/projects/batcheffect-env/lib/python3.7/site-packages/pyro/util.py:367: UserWarning: Found plate statements in guide but not model: {'upstream-downstream', 'spans'}\n",
      "  guide_vars - model_vars\n",
      "/liulab/alynch/projects/multiomics/BatchEffect/MIRA/mira/rp_model/rp_model.py:837: UserWarning: To copy construct from a tensor, it is recommended to use sourceTensor.clone().detach() or sourceTensor.clone().detach().requires_grad_(True), rather than torch.tensor(sourceTensor).\n",
      "  return torch.tensor(X, requires_grad=False)\n",
      "INFO:mira.adata_interface.core:Added layer: LITE_prediction\n",
      "INFO:mira.adata_interface.core:Added layer: LITE_logp\n"
     ]
    },
    {
     "name": "stdout",
     "output_type": "stream",
     "text": [
      "s3d10 s4d8\n"
     ]
    },
    {
     "data": {
      "application/vnd.jupyter.widget-view+json": {
       "model_id": "62307fed63c54f47ab1f6891ef98a414",
       "version_major": 2,
       "version_minor": 0
      },
      "text/plain": [
       "Predicting latent vars:   0%|          | 0/7 [00:00<?, ?it/s]"
      ]
     },
     "metadata": {},
     "output_type": "display_data"
    },
    {
     "name": "stderr",
     "output_type": "stream",
     "text": [
      "INFO:mira.adata_interface.core:Added key to obsm: X_topic_compositions\n",
      "INFO:mira.adata_interface.topic_model:Added cols: topic_0, topic_1, topic_2, topic_3, topic_4, topic_5, topic_6, topic_7, topic_8, topic_9, topic_10, topic_11, topic_12, topic_13, topic_14, topic_15, topic_16, topic_17, topic_18, topic_19, topic_20, topic_21, topic_22, topic_23, topic_24, topic_25\n",
      "INFO:mira.adata_interface.core:Added key to varm: topic_feature_compositions\n",
      "INFO:mira.adata_interface.core:Added key to varm: topic_feature_activations\n"
     ]
    },
    {
     "data": {
      "application/vnd.jupyter.widget-view+json": {
       "model_id": "6e512494822d43fe9ca7eef6cdde5ef6",
       "version_major": 2,
       "version_minor": 0
      },
      "text/plain": [
       "Predicting latent vars:   0%|          | 0/7 [00:00<?, ?it/s]"
      ]
     },
     "metadata": {},
     "output_type": "display_data"
    },
    {
     "name": "stderr",
     "output_type": "stream",
     "text": [
      "INFO:mira.adata_interface.core:Added key to obsm: X_topic_compositions\n",
      "INFO:mira.adata_interface.topic_model:Added cols: topic_0, topic_1, topic_2, topic_3, topic_4, topic_5, topic_6, topic_7, topic_8, topic_9, topic_10, topic_11, topic_12, topic_13, topic_14, topic_15, topic_16, topic_17, topic_18, topic_19, topic_20, topic_21, topic_22, topic_23, topic_24, topic_25, topic_26, topic_27, topic_28, topic_29, topic_30\n",
      "INFO:mira.adata_interface.core:Added key to varm: topic_feature_compositions\n",
      "INFO:mira.adata_interface.core:Added key to varm: topic_feature_activations\n",
      "INFO:mira.adata_interface.core:Added cols to obs: model_read_scale\n",
      "INFO:mira.adata_interface.topic_model:Fetching key X_topic_compositions from obsm\n"
     ]
    },
    {
     "data": {
      "application/vnd.jupyter.widget-view+json": {
       "model_id": "4e812c3561634601b1ff526d22ae3083",
       "version_major": 2,
       "version_minor": 0
      },
      "text/plain": [
       "Calculating softmax summary data:   0%|          | 0/7 [00:00<?, ?it/s]"
      ]
     },
     "metadata": {},
     "output_type": "display_data"
    },
    {
     "name": "stderr",
     "output_type": "stream",
     "text": [
      "INFO:mira.adata_interface.core:Added cols to obs: softmax_denom\n",
      "INFO:mira.adata_interface.topic_model:Fetching key X_topic_compositions from obsm\n"
     ]
    },
    {
     "data": {
      "application/vnd.jupyter.widget-view+json": {
       "model_id": "253c25a129404702bb7ad12e553b89fc",
       "version_major": 2,
       "version_minor": 0
      },
      "text/plain": [
       "Calculating softmax summary data:   0%|          | 0/7 [00:00<?, ?it/s]"
      ]
     },
     "metadata": {},
     "output_type": "display_data"
    },
    {
     "name": "stderr",
     "output_type": "stream",
     "text": [
      "INFO:mira.adata_interface.core:Added cols to obs: softmax_denom\n"
     ]
    },
    {
     "data": {
      "application/vnd.jupyter.widget-view+json": {
       "model_id": "53704ad2e2b24baa92626f2d17918056",
       "version_major": 2,
       "version_minor": 0
      },
      "text/plain": [
       "Predicting expression:   0%|          | 0/2837 [00:00<?, ?it/s]"
      ]
     },
     "metadata": {},
     "output_type": "display_data"
    },
    {
     "name": "stderr",
     "output_type": "stream",
     "text": [
      "/liulab/alynch/projects/batcheffect-env/lib/python3.7/site-packages/pyro/util.py:367: UserWarning: Found plate statements in guide but not model: {'upstream-downstream', 'spans'}\n",
      "  guide_vars - model_vars\n",
      "/liulab/alynch/projects/multiomics/BatchEffect/MIRA/mira/rp_model/rp_model.py:837: UserWarning: To copy construct from a tensor, it is recommended to use sourceTensor.clone().detach() or sourceTensor.clone().detach().requires_grad_(True), rather than torch.tensor(sourceTensor).\n",
      "  return torch.tensor(X, requires_grad=False)\n",
      "INFO:mira.adata_interface.core:Added layer: LITE_prediction\n",
      "INFO:mira.adata_interface.core:Added layer: LITE_logp\n"
     ]
    },
    {
     "name": "stdout",
     "output_type": "stream",
     "text": [
      "s3d3 s4d8\n"
     ]
    },
    {
     "data": {
      "application/vnd.jupyter.widget-view+json": {
       "model_id": "11b08402540c49389729d7a6dc8e84e6",
       "version_major": 2,
       "version_minor": 0
      },
      "text/plain": [
       "Predicting latent vars:   0%|          | 0/4 [00:00<?, ?it/s]"
      ]
     },
     "metadata": {},
     "output_type": "display_data"
    },
    {
     "name": "stderr",
     "output_type": "stream",
     "text": [
      "INFO:mira.adata_interface.core:Added key to obsm: X_topic_compositions\n",
      "INFO:mira.adata_interface.topic_model:Added cols: topic_0, topic_1, topic_2, topic_3, topic_4, topic_5, topic_6, topic_7, topic_8, topic_9, topic_10, topic_11, topic_12, topic_13, topic_14, topic_15, topic_16, topic_17, topic_18, topic_19, topic_20, topic_21, topic_22, topic_23, topic_24, topic_25\n",
      "INFO:mira.adata_interface.core:Added key to varm: topic_feature_compositions\n",
      "INFO:mira.adata_interface.core:Added key to varm: topic_feature_activations\n"
     ]
    },
    {
     "data": {
      "application/vnd.jupyter.widget-view+json": {
       "model_id": "b6b2c94fef174f4e9a0e5c509bf1a0f0",
       "version_major": 2,
       "version_minor": 0
      },
      "text/plain": [
       "Predicting latent vars:   0%|          | 0/4 [00:00<?, ?it/s]"
      ]
     },
     "metadata": {},
     "output_type": "display_data"
    },
    {
     "name": "stderr",
     "output_type": "stream",
     "text": [
      "INFO:mira.adata_interface.core:Added key to obsm: X_topic_compositions\n",
      "INFO:mira.adata_interface.topic_model:Added cols: topic_0, topic_1, topic_2, topic_3, topic_4, topic_5, topic_6, topic_7, topic_8, topic_9, topic_10, topic_11, topic_12, topic_13, topic_14, topic_15, topic_16, topic_17, topic_18, topic_19, topic_20, topic_21, topic_22, topic_23, topic_24, topic_25, topic_26, topic_27, topic_28, topic_29, topic_30\n",
      "INFO:mira.adata_interface.core:Added key to varm: topic_feature_compositions\n",
      "INFO:mira.adata_interface.core:Added key to varm: topic_feature_activations\n",
      "INFO:mira.adata_interface.core:Added cols to obs: model_read_scale\n",
      "INFO:mira.adata_interface.topic_model:Fetching key X_topic_compositions from obsm\n"
     ]
    },
    {
     "data": {
      "application/vnd.jupyter.widget-view+json": {
       "model_id": "cbb6eaf9c422461995801e1d96bb5ab4",
       "version_major": 2,
       "version_minor": 0
      },
      "text/plain": [
       "Calculating softmax summary data:   0%|          | 0/4 [00:00<?, ?it/s]"
      ]
     },
     "metadata": {},
     "output_type": "display_data"
    },
    {
     "name": "stderr",
     "output_type": "stream",
     "text": [
      "INFO:mira.adata_interface.core:Added cols to obs: softmax_denom\n",
      "INFO:mira.adata_interface.topic_model:Fetching key X_topic_compositions from obsm\n"
     ]
    },
    {
     "data": {
      "application/vnd.jupyter.widget-view+json": {
       "model_id": "0634bf2de9c4498a9c8bfb2db89dbdc9",
       "version_major": 2,
       "version_minor": 0
      },
      "text/plain": [
       "Calculating softmax summary data:   0%|          | 0/4 [00:00<?, ?it/s]"
      ]
     },
     "metadata": {},
     "output_type": "display_data"
    },
    {
     "name": "stderr",
     "output_type": "stream",
     "text": [
      "INFO:mira.adata_interface.core:Added cols to obs: softmax_denom\n"
     ]
    },
    {
     "data": {
      "application/vnd.jupyter.widget-view+json": {
       "model_id": "099e579201a94d39aa7a126382baaa9c",
       "version_major": 2,
       "version_minor": 0
      },
      "text/plain": [
       "Predicting expression:   0%|          | 0/2837 [00:00<?, ?it/s]"
      ]
     },
     "metadata": {},
     "output_type": "display_data"
    },
    {
     "name": "stderr",
     "output_type": "stream",
     "text": [
      "/liulab/alynch/projects/batcheffect-env/lib/python3.7/site-packages/pyro/util.py:367: UserWarning: Found plate statements in guide but not model: {'upstream-downstream', 'spans'}\n",
      "  guide_vars - model_vars\n",
      "/liulab/alynch/projects/multiomics/BatchEffect/MIRA/mira/rp_model/rp_model.py:837: UserWarning: To copy construct from a tensor, it is recommended to use sourceTensor.clone().detach() or sourceTensor.clone().detach().requires_grad_(True), rather than torch.tensor(sourceTensor).\n",
      "  return torch.tensor(X, requires_grad=False)\n",
      "INFO:mira.adata_interface.core:Added layer: LITE_prediction\n",
      "INFO:mira.adata_interface.core:Added layer: LITE_logp\n"
     ]
    },
    {
     "name": "stdout",
     "output_type": "stream",
     "text": [
      "s1d1 s4d9\n"
     ]
    },
    {
     "data": {
      "application/vnd.jupyter.widget-view+json": {
       "model_id": "38de58c506c94ea9bd71495951349d20",
       "version_major": 2,
       "version_minor": 0
      },
      "text/plain": [
       "Predicting latent vars:   0%|          | 0/4 [00:00<?, ?it/s]"
      ]
     },
     "metadata": {},
     "output_type": "display_data"
    },
    {
     "name": "stderr",
     "output_type": "stream",
     "text": [
      "INFO:mira.adata_interface.core:Added key to obsm: X_topic_compositions\n",
      "INFO:mira.adata_interface.topic_model:Added cols: topic_0, topic_1, topic_2, topic_3, topic_4, topic_5, topic_6, topic_7, topic_8, topic_9, topic_10, topic_11, topic_12, topic_13, topic_14, topic_15, topic_16, topic_17, topic_18, topic_19, topic_20, topic_21, topic_22, topic_23, topic_24, topic_25\n",
      "INFO:mira.adata_interface.core:Added key to varm: topic_feature_compositions\n",
      "INFO:mira.adata_interface.core:Added key to varm: topic_feature_activations\n"
     ]
    },
    {
     "data": {
      "application/vnd.jupyter.widget-view+json": {
       "model_id": "c8b10cd3720b4cf98cae0d704036b0b9",
       "version_major": 2,
       "version_minor": 0
      },
      "text/plain": [
       "Predicting latent vars:   0%|          | 0/4 [00:00<?, ?it/s]"
      ]
     },
     "metadata": {},
     "output_type": "display_data"
    },
    {
     "name": "stderr",
     "output_type": "stream",
     "text": [
      "INFO:mira.adata_interface.core:Added key to obsm: X_topic_compositions\n",
      "INFO:mira.adata_interface.topic_model:Added cols: topic_0, topic_1, topic_2, topic_3, topic_4, topic_5, topic_6, topic_7, topic_8, topic_9, topic_10, topic_11, topic_12, topic_13, topic_14, topic_15, topic_16, topic_17, topic_18, topic_19, topic_20, topic_21, topic_22, topic_23, topic_24, topic_25, topic_26, topic_27, topic_28, topic_29, topic_30\n",
      "INFO:mira.adata_interface.core:Added key to varm: topic_feature_compositions\n",
      "INFO:mira.adata_interface.core:Added key to varm: topic_feature_activations\n",
      "INFO:mira.adata_interface.core:Added cols to obs: model_read_scale\n",
      "INFO:mira.adata_interface.topic_model:Fetching key X_topic_compositions from obsm\n"
     ]
    },
    {
     "data": {
      "application/vnd.jupyter.widget-view+json": {
       "model_id": "c0dcb397b1be49d69c46cd3945c86457",
       "version_major": 2,
       "version_minor": 0
      },
      "text/plain": [
       "Calculating softmax summary data:   0%|          | 0/4 [00:00<?, ?it/s]"
      ]
     },
     "metadata": {},
     "output_type": "display_data"
    },
    {
     "name": "stderr",
     "output_type": "stream",
     "text": [
      "INFO:mira.adata_interface.core:Added cols to obs: softmax_denom\n",
      "INFO:mira.adata_interface.topic_model:Fetching key X_topic_compositions from obsm\n"
     ]
    },
    {
     "data": {
      "application/vnd.jupyter.widget-view+json": {
       "model_id": "53e91fde637c41e5a38f9870f9b082b3",
       "version_major": 2,
       "version_minor": 0
      },
      "text/plain": [
       "Calculating softmax summary data:   0%|          | 0/4 [00:00<?, ?it/s]"
      ]
     },
     "metadata": {},
     "output_type": "display_data"
    },
    {
     "name": "stderr",
     "output_type": "stream",
     "text": [
      "INFO:mira.adata_interface.core:Added cols to obs: softmax_denom\n"
     ]
    },
    {
     "data": {
      "application/vnd.jupyter.widget-view+json": {
       "model_id": "10dba2846f584c829be1d6cc5b73b1ed",
       "version_major": 2,
       "version_minor": 0
      },
      "text/plain": [
       "Predicting expression:   0%|          | 0/2838 [00:00<?, ?it/s]"
      ]
     },
     "metadata": {},
     "output_type": "display_data"
    },
    {
     "name": "stderr",
     "output_type": "stream",
     "text": [
      "/liulab/alynch/projects/batcheffect-env/lib/python3.7/site-packages/pyro/util.py:367: UserWarning: Found plate statements in guide but not model: {'upstream-downstream', 'spans'}\n",
      "  guide_vars - model_vars\n",
      "/liulab/alynch/projects/multiomics/BatchEffect/MIRA/mira/rp_model/rp_model.py:837: UserWarning: To copy construct from a tensor, it is recommended to use sourceTensor.clone().detach() or sourceTensor.clone().detach().requires_grad_(True), rather than torch.tensor(sourceTensor).\n",
      "  return torch.tensor(X, requires_grad=False)\n",
      "INFO:mira.adata_interface.core:Added layer: LITE_prediction\n",
      "INFO:mira.adata_interface.core:Added layer: LITE_logp\n"
     ]
    },
    {
     "name": "stdout",
     "output_type": "stream",
     "text": [
      "s1d2 s4d9\n"
     ]
    },
    {
     "data": {
      "application/vnd.jupyter.widget-view+json": {
       "model_id": "858e6d7b5fb44660a0f7714f2a10a048",
       "version_major": 2,
       "version_minor": 0
      },
      "text/plain": [
       "Predicting latent vars:   0%|          | 0/4 [00:00<?, ?it/s]"
      ]
     },
     "metadata": {},
     "output_type": "display_data"
    },
    {
     "name": "stderr",
     "output_type": "stream",
     "text": [
      "INFO:mira.adata_interface.core:Added key to obsm: X_topic_compositions\n",
      "INFO:mira.adata_interface.topic_model:Added cols: topic_0, topic_1, topic_2, topic_3, topic_4, topic_5, topic_6, topic_7, topic_8, topic_9, topic_10, topic_11, topic_12, topic_13, topic_14, topic_15, topic_16, topic_17, topic_18, topic_19, topic_20, topic_21, topic_22, topic_23, topic_24, topic_25\n",
      "INFO:mira.adata_interface.core:Added key to varm: topic_feature_compositions\n",
      "INFO:mira.adata_interface.core:Added key to varm: topic_feature_activations\n"
     ]
    },
    {
     "data": {
      "application/vnd.jupyter.widget-view+json": {
       "model_id": "a815a3e4d6ff48f5a9543f79c6df8928",
       "version_major": 2,
       "version_minor": 0
      },
      "text/plain": [
       "Predicting latent vars:   0%|          | 0/4 [00:00<?, ?it/s]"
      ]
     },
     "metadata": {},
     "output_type": "display_data"
    },
    {
     "name": "stderr",
     "output_type": "stream",
     "text": [
      "INFO:mira.adata_interface.core:Added key to obsm: X_topic_compositions\n",
      "INFO:mira.adata_interface.topic_model:Added cols: topic_0, topic_1, topic_2, topic_3, topic_4, topic_5, topic_6, topic_7, topic_8, topic_9, topic_10, topic_11, topic_12, topic_13, topic_14, topic_15, topic_16, topic_17, topic_18, topic_19, topic_20, topic_21, topic_22, topic_23, topic_24, topic_25, topic_26, topic_27, topic_28, topic_29, topic_30\n",
      "INFO:mira.adata_interface.core:Added key to varm: topic_feature_compositions\n",
      "INFO:mira.adata_interface.core:Added key to varm: topic_feature_activations\n",
      "INFO:mira.adata_interface.core:Added cols to obs: model_read_scale\n",
      "INFO:mira.adata_interface.topic_model:Fetching key X_topic_compositions from obsm\n"
     ]
    },
    {
     "data": {
      "application/vnd.jupyter.widget-view+json": {
       "model_id": "f2d6aab879394d86b6873630318fefc6",
       "version_major": 2,
       "version_minor": 0
      },
      "text/plain": [
       "Calculating softmax summary data:   0%|          | 0/4 [00:00<?, ?it/s]"
      ]
     },
     "metadata": {},
     "output_type": "display_data"
    },
    {
     "name": "stderr",
     "output_type": "stream",
     "text": [
      "INFO:mira.adata_interface.core:Added cols to obs: softmax_denom\n",
      "INFO:mira.adata_interface.topic_model:Fetching key X_topic_compositions from obsm\n"
     ]
    },
    {
     "data": {
      "application/vnd.jupyter.widget-view+json": {
       "model_id": "37e5899d68fd4bffac2d9791c44f00d9",
       "version_major": 2,
       "version_minor": 0
      },
      "text/plain": [
       "Calculating softmax summary data:   0%|          | 0/4 [00:00<?, ?it/s]"
      ]
     },
     "metadata": {},
     "output_type": "display_data"
    },
    {
     "name": "stderr",
     "output_type": "stream",
     "text": [
      "INFO:mira.adata_interface.core:Added cols to obs: softmax_denom\n"
     ]
    },
    {
     "data": {
      "application/vnd.jupyter.widget-view+json": {
       "model_id": "fde08dd798ca4247bf7b0a477088bf4d",
       "version_major": 2,
       "version_minor": 0
      },
      "text/plain": [
       "Predicting expression:   0%|          | 0/2833 [00:00<?, ?it/s]"
      ]
     },
     "metadata": {},
     "output_type": "display_data"
    },
    {
     "name": "stderr",
     "output_type": "stream",
     "text": [
      "/liulab/alynch/projects/batcheffect-env/lib/python3.7/site-packages/pyro/util.py:367: UserWarning: Found plate statements in guide but not model: {'upstream-downstream', 'spans'}\n",
      "  guide_vars - model_vars\n",
      "/liulab/alynch/projects/multiomics/BatchEffect/MIRA/mira/rp_model/rp_model.py:837: UserWarning: To copy construct from a tensor, it is recommended to use sourceTensor.clone().detach() or sourceTensor.clone().detach().requires_grad_(True), rather than torch.tensor(sourceTensor).\n",
      "  return torch.tensor(X, requires_grad=False)\n",
      "INFO:mira.adata_interface.core:Added layer: LITE_prediction\n",
      "INFO:mira.adata_interface.core:Added layer: LITE_logp\n"
     ]
    },
    {
     "name": "stdout",
     "output_type": "stream",
     "text": [
      "s1d3 s4d9\n"
     ]
    },
    {
     "data": {
      "application/vnd.jupyter.widget-view+json": {
       "model_id": "b0d5983b11d147fda914d51bc5cca2e7",
       "version_major": 2,
       "version_minor": 0
      },
      "text/plain": [
       "Predicting latent vars:   0%|          | 0/4 [00:00<?, ?it/s]"
      ]
     },
     "metadata": {},
     "output_type": "display_data"
    },
    {
     "name": "stderr",
     "output_type": "stream",
     "text": [
      "INFO:mira.adata_interface.core:Added key to obsm: X_topic_compositions\n",
      "INFO:mira.adata_interface.topic_model:Added cols: topic_0, topic_1, topic_2, topic_3, topic_4, topic_5, topic_6, topic_7, topic_8, topic_9, topic_10, topic_11, topic_12, topic_13, topic_14, topic_15, topic_16, topic_17, topic_18, topic_19, topic_20, topic_21, topic_22, topic_23, topic_24, topic_25\n",
      "INFO:mira.adata_interface.core:Added key to varm: topic_feature_compositions\n",
      "INFO:mira.adata_interface.core:Added key to varm: topic_feature_activations\n"
     ]
    },
    {
     "data": {
      "application/vnd.jupyter.widget-view+json": {
       "model_id": "4a31e2b674e341d38593b40dc3f724af",
       "version_major": 2,
       "version_minor": 0
      },
      "text/plain": [
       "Predicting latent vars:   0%|          | 0/4 [00:00<?, ?it/s]"
      ]
     },
     "metadata": {},
     "output_type": "display_data"
    },
    {
     "name": "stderr",
     "output_type": "stream",
     "text": [
      "INFO:mira.adata_interface.core:Added key to obsm: X_topic_compositions\n",
      "INFO:mira.adata_interface.topic_model:Added cols: topic_0, topic_1, topic_2, topic_3, topic_4, topic_5, topic_6, topic_7, topic_8, topic_9, topic_10, topic_11, topic_12, topic_13, topic_14, topic_15, topic_16, topic_17, topic_18, topic_19, topic_20, topic_21, topic_22, topic_23, topic_24, topic_25, topic_26, topic_27, topic_28, topic_29, topic_30\n",
      "INFO:mira.adata_interface.core:Added key to varm: topic_feature_compositions\n",
      "INFO:mira.adata_interface.core:Added key to varm: topic_feature_activations\n",
      "INFO:mira.adata_interface.core:Added cols to obs: model_read_scale\n",
      "INFO:mira.adata_interface.topic_model:Fetching key X_topic_compositions from obsm\n"
     ]
    },
    {
     "data": {
      "application/vnd.jupyter.widget-view+json": {
       "model_id": "0a15f82fd8ef427fb29795cf8cbf98db",
       "version_major": 2,
       "version_minor": 0
      },
      "text/plain": [
       "Calculating softmax summary data:   0%|          | 0/4 [00:00<?, ?it/s]"
      ]
     },
     "metadata": {},
     "output_type": "display_data"
    },
    {
     "name": "stderr",
     "output_type": "stream",
     "text": [
      "INFO:mira.adata_interface.core:Added cols to obs: softmax_denom\n",
      "INFO:mira.adata_interface.topic_model:Fetching key X_topic_compositions from obsm\n"
     ]
    },
    {
     "data": {
      "application/vnd.jupyter.widget-view+json": {
       "model_id": "83f36a374f9d45219b72718861e36b50",
       "version_major": 2,
       "version_minor": 0
      },
      "text/plain": [
       "Calculating softmax summary data:   0%|          | 0/4 [00:00<?, ?it/s]"
      ]
     },
     "metadata": {},
     "output_type": "display_data"
    },
    {
     "name": "stderr",
     "output_type": "stream",
     "text": [
      "INFO:mira.adata_interface.core:Added cols to obs: softmax_denom\n"
     ]
    },
    {
     "data": {
      "application/vnd.jupyter.widget-view+json": {
       "model_id": "1ec55131100e40af8403a38dfe24ec57",
       "version_major": 2,
       "version_minor": 0
      },
      "text/plain": [
       "Predicting expression:   0%|          | 0/2837 [00:00<?, ?it/s]"
      ]
     },
     "metadata": {},
     "output_type": "display_data"
    },
    {
     "name": "stderr",
     "output_type": "stream",
     "text": [
      "/liulab/alynch/projects/batcheffect-env/lib/python3.7/site-packages/pyro/util.py:367: UserWarning: Found plate statements in guide but not model: {'upstream-downstream', 'spans'}\n",
      "  guide_vars - model_vars\n",
      "/liulab/alynch/projects/multiomics/BatchEffect/MIRA/mira/rp_model/rp_model.py:837: UserWarning: To copy construct from a tensor, it is recommended to use sourceTensor.clone().detach() or sourceTensor.clone().detach().requires_grad_(True), rather than torch.tensor(sourceTensor).\n",
      "  return torch.tensor(X, requires_grad=False)\n",
      "INFO:mira.adata_interface.core:Added layer: LITE_prediction\n",
      "INFO:mira.adata_interface.core:Added layer: LITE_logp\n"
     ]
    },
    {
     "name": "stdout",
     "output_type": "stream",
     "text": [
      "s2d1 s4d9\n"
     ]
    },
    {
     "data": {
      "application/vnd.jupyter.widget-view+json": {
       "model_id": "bf59c4e0a63a492a922f47aa6e92b71e",
       "version_major": 2,
       "version_minor": 0
      },
      "text/plain": [
       "Predicting latent vars:   0%|          | 0/4 [00:00<?, ?it/s]"
      ]
     },
     "metadata": {},
     "output_type": "display_data"
    },
    {
     "name": "stderr",
     "output_type": "stream",
     "text": [
      "INFO:mira.adata_interface.core:Added key to obsm: X_topic_compositions\n",
      "INFO:mira.adata_interface.topic_model:Added cols: topic_0, topic_1, topic_2, topic_3, topic_4, topic_5, topic_6, topic_7, topic_8, topic_9, topic_10, topic_11, topic_12, topic_13, topic_14, topic_15, topic_16, topic_17, topic_18, topic_19, topic_20, topic_21, topic_22, topic_23, topic_24, topic_25\n",
      "INFO:mira.adata_interface.core:Added key to varm: topic_feature_compositions\n",
      "INFO:mira.adata_interface.core:Added key to varm: topic_feature_activations\n"
     ]
    },
    {
     "data": {
      "application/vnd.jupyter.widget-view+json": {
       "model_id": "7ec2e12b2ba9436b8708a4e192c6eabd",
       "version_major": 2,
       "version_minor": 0
      },
      "text/plain": [
       "Predicting latent vars:   0%|          | 0/4 [00:00<?, ?it/s]"
      ]
     },
     "metadata": {},
     "output_type": "display_data"
    },
    {
     "name": "stderr",
     "output_type": "stream",
     "text": [
      "INFO:mira.adata_interface.core:Added key to obsm: X_topic_compositions\n",
      "INFO:mira.adata_interface.topic_model:Added cols: topic_0, topic_1, topic_2, topic_3, topic_4, topic_5, topic_6, topic_7, topic_8, topic_9, topic_10, topic_11, topic_12, topic_13, topic_14, topic_15, topic_16, topic_17, topic_18, topic_19, topic_20, topic_21, topic_22, topic_23, topic_24, topic_25, topic_26, topic_27, topic_28, topic_29, topic_30\n",
      "INFO:mira.adata_interface.core:Added key to varm: topic_feature_compositions\n",
      "INFO:mira.adata_interface.core:Added key to varm: topic_feature_activations\n",
      "INFO:mira.adata_interface.core:Added cols to obs: model_read_scale\n",
      "INFO:mira.adata_interface.topic_model:Fetching key X_topic_compositions from obsm\n"
     ]
    },
    {
     "data": {
      "application/vnd.jupyter.widget-view+json": {
       "model_id": "77c27bb6522d47bfafa63e6d7c583c5b",
       "version_major": 2,
       "version_minor": 0
      },
      "text/plain": [
       "Calculating softmax summary data:   0%|          | 0/4 [00:00<?, ?it/s]"
      ]
     },
     "metadata": {},
     "output_type": "display_data"
    },
    {
     "name": "stderr",
     "output_type": "stream",
     "text": [
      "INFO:mira.adata_interface.core:Added cols to obs: softmax_denom\n",
      "INFO:mira.adata_interface.topic_model:Fetching key X_topic_compositions from obsm\n"
     ]
    },
    {
     "data": {
      "application/vnd.jupyter.widget-view+json": {
       "model_id": "12cb9726b8f34645a4a360c58b672719",
       "version_major": 2,
       "version_minor": 0
      },
      "text/plain": [
       "Calculating softmax summary data:   0%|          | 0/4 [00:00<?, ?it/s]"
      ]
     },
     "metadata": {},
     "output_type": "display_data"
    },
    {
     "name": "stderr",
     "output_type": "stream",
     "text": [
      "INFO:mira.adata_interface.core:Added cols to obs: softmax_denom\n"
     ]
    },
    {
     "data": {
      "application/vnd.jupyter.widget-view+json": {
       "model_id": "2753e1c52efa4db789af3b3306fa45f3",
       "version_major": 2,
       "version_minor": 0
      },
      "text/plain": [
       "Predicting expression:   0%|          | 0/2835 [00:00<?, ?it/s]"
      ]
     },
     "metadata": {},
     "output_type": "display_data"
    },
    {
     "name": "stderr",
     "output_type": "stream",
     "text": [
      "/liulab/alynch/projects/batcheffect-env/lib/python3.7/site-packages/pyro/util.py:367: UserWarning: Found plate statements in guide but not model: {'upstream-downstream', 'spans'}\n",
      "  guide_vars - model_vars\n",
      "/liulab/alynch/projects/multiomics/BatchEffect/MIRA/mira/rp_model/rp_model.py:837: UserWarning: To copy construct from a tensor, it is recommended to use sourceTensor.clone().detach() or sourceTensor.clone().detach().requires_grad_(True), rather than torch.tensor(sourceTensor).\n",
      "  return torch.tensor(X, requires_grad=False)\n",
      "INFO:mira.adata_interface.core:Added layer: LITE_prediction\n",
      "INFO:mira.adata_interface.core:Added layer: LITE_logp\n"
     ]
    },
    {
     "name": "stdout",
     "output_type": "stream",
     "text": [
      "s2d4 s4d9\n"
     ]
    },
    {
     "data": {
      "application/vnd.jupyter.widget-view+json": {
       "model_id": "9c8e4be572254d04bda55b20a992c21a",
       "version_major": 2,
       "version_minor": 0
      },
      "text/plain": [
       "Predicting latent vars:   0%|          | 0/4 [00:00<?, ?it/s]"
      ]
     },
     "metadata": {},
     "output_type": "display_data"
    },
    {
     "name": "stderr",
     "output_type": "stream",
     "text": [
      "INFO:mira.adata_interface.core:Added key to obsm: X_topic_compositions\n",
      "INFO:mira.adata_interface.topic_model:Added cols: topic_0, topic_1, topic_2, topic_3, topic_4, topic_5, topic_6, topic_7, topic_8, topic_9, topic_10, topic_11, topic_12, topic_13, topic_14, topic_15, topic_16, topic_17, topic_18, topic_19, topic_20, topic_21, topic_22, topic_23, topic_24, topic_25\n",
      "INFO:mira.adata_interface.core:Added key to varm: topic_feature_compositions\n",
      "INFO:mira.adata_interface.core:Added key to varm: topic_feature_activations\n"
     ]
    },
    {
     "data": {
      "application/vnd.jupyter.widget-view+json": {
       "model_id": "eda575b9303f44728d0b2d3ca74139e5",
       "version_major": 2,
       "version_minor": 0
      },
      "text/plain": [
       "Predicting latent vars:   0%|          | 0/4 [00:00<?, ?it/s]"
      ]
     },
     "metadata": {},
     "output_type": "display_data"
    },
    {
     "name": "stderr",
     "output_type": "stream",
     "text": [
      "INFO:mira.adata_interface.core:Added key to obsm: X_topic_compositions\n",
      "INFO:mira.adata_interface.topic_model:Added cols: topic_0, topic_1, topic_2, topic_3, topic_4, topic_5, topic_6, topic_7, topic_8, topic_9, topic_10, topic_11, topic_12, topic_13, topic_14, topic_15, topic_16, topic_17, topic_18, topic_19, topic_20, topic_21, topic_22, topic_23, topic_24, topic_25, topic_26, topic_27, topic_28, topic_29, topic_30\n",
      "INFO:mira.adata_interface.core:Added key to varm: topic_feature_compositions\n",
      "INFO:mira.adata_interface.core:Added key to varm: topic_feature_activations\n",
      "INFO:mira.adata_interface.core:Added cols to obs: model_read_scale\n",
      "INFO:mira.adata_interface.topic_model:Fetching key X_topic_compositions from obsm\n"
     ]
    },
    {
     "data": {
      "application/vnd.jupyter.widget-view+json": {
       "model_id": "7da5b91aa7bc4461b222726d7f7b4942",
       "version_major": 2,
       "version_minor": 0
      },
      "text/plain": [
       "Calculating softmax summary data:   0%|          | 0/4 [00:00<?, ?it/s]"
      ]
     },
     "metadata": {},
     "output_type": "display_data"
    },
    {
     "name": "stderr",
     "output_type": "stream",
     "text": [
      "INFO:mira.adata_interface.core:Added cols to obs: softmax_denom\n",
      "INFO:mira.adata_interface.topic_model:Fetching key X_topic_compositions from obsm\n"
     ]
    },
    {
     "data": {
      "application/vnd.jupyter.widget-view+json": {
       "model_id": "e44245f27a5040059f8d0741432131e4",
       "version_major": 2,
       "version_minor": 0
      },
      "text/plain": [
       "Calculating softmax summary data:   0%|          | 0/4 [00:00<?, ?it/s]"
      ]
     },
     "metadata": {},
     "output_type": "display_data"
    },
    {
     "name": "stderr",
     "output_type": "stream",
     "text": [
      "INFO:mira.adata_interface.core:Added cols to obs: softmax_denom\n"
     ]
    },
    {
     "data": {
      "application/vnd.jupyter.widget-view+json": {
       "model_id": "4c378016e7144ee08995809efa509908",
       "version_major": 2,
       "version_minor": 0
      },
      "text/plain": [
       "Predicting expression:   0%|          | 0/2829 [00:00<?, ?it/s]"
      ]
     },
     "metadata": {},
     "output_type": "display_data"
    },
    {
     "name": "stderr",
     "output_type": "stream",
     "text": [
      "/liulab/alynch/projects/batcheffect-env/lib/python3.7/site-packages/pyro/util.py:367: UserWarning: Found plate statements in guide but not model: {'upstream-downstream', 'spans'}\n",
      "  guide_vars - model_vars\n",
      "/liulab/alynch/projects/multiomics/BatchEffect/MIRA/mira/rp_model/rp_model.py:837: UserWarning: To copy construct from a tensor, it is recommended to use sourceTensor.clone().detach() or sourceTensor.clone().detach().requires_grad_(True), rather than torch.tensor(sourceTensor).\n",
      "  return torch.tensor(X, requires_grad=False)\n",
      "INFO:mira.adata_interface.core:Added layer: LITE_prediction\n",
      "INFO:mira.adata_interface.core:Added layer: LITE_logp\n"
     ]
    },
    {
     "name": "stdout",
     "output_type": "stream",
     "text": [
      "s2d5 s4d9\n"
     ]
    },
    {
     "data": {
      "application/vnd.jupyter.widget-view+json": {
       "model_id": "56eb483f2f7c423bb6de6fc332313b41",
       "version_major": 2,
       "version_minor": 0
      },
      "text/plain": [
       "Predicting latent vars:   0%|          | 0/4 [00:00<?, ?it/s]"
      ]
     },
     "metadata": {},
     "output_type": "display_data"
    },
    {
     "name": "stderr",
     "output_type": "stream",
     "text": [
      "INFO:mira.adata_interface.core:Added key to obsm: X_topic_compositions\n",
      "INFO:mira.adata_interface.topic_model:Added cols: topic_0, topic_1, topic_2, topic_3, topic_4, topic_5, topic_6, topic_7, topic_8, topic_9, topic_10, topic_11, topic_12, topic_13, topic_14, topic_15, topic_16, topic_17, topic_18, topic_19, topic_20, topic_21, topic_22, topic_23, topic_24, topic_25\n",
      "INFO:mira.adata_interface.core:Added key to varm: topic_feature_compositions\n",
      "INFO:mira.adata_interface.core:Added key to varm: topic_feature_activations\n"
     ]
    },
    {
     "data": {
      "application/vnd.jupyter.widget-view+json": {
       "model_id": "7ede62acde3e40098be1300bd888f693",
       "version_major": 2,
       "version_minor": 0
      },
      "text/plain": [
       "Predicting latent vars:   0%|          | 0/4 [00:00<?, ?it/s]"
      ]
     },
     "metadata": {},
     "output_type": "display_data"
    },
    {
     "name": "stderr",
     "output_type": "stream",
     "text": [
      "INFO:mira.adata_interface.core:Added key to obsm: X_topic_compositions\n",
      "INFO:mira.adata_interface.topic_model:Added cols: topic_0, topic_1, topic_2, topic_3, topic_4, topic_5, topic_6, topic_7, topic_8, topic_9, topic_10, topic_11, topic_12, topic_13, topic_14, topic_15, topic_16, topic_17, topic_18, topic_19, topic_20, topic_21, topic_22, topic_23, topic_24, topic_25, topic_26, topic_27, topic_28, topic_29, topic_30\n",
      "INFO:mira.adata_interface.core:Added key to varm: topic_feature_compositions\n",
      "INFO:mira.adata_interface.core:Added key to varm: topic_feature_activations\n",
      "INFO:mira.adata_interface.core:Added cols to obs: model_read_scale\n",
      "INFO:mira.adata_interface.topic_model:Fetching key X_topic_compositions from obsm\n"
     ]
    },
    {
     "data": {
      "application/vnd.jupyter.widget-view+json": {
       "model_id": "7161b112c79e4e908f7680c723f72e74",
       "version_major": 2,
       "version_minor": 0
      },
      "text/plain": [
       "Calculating softmax summary data:   0%|          | 0/4 [00:00<?, ?it/s]"
      ]
     },
     "metadata": {},
     "output_type": "display_data"
    },
    {
     "name": "stderr",
     "output_type": "stream",
     "text": [
      "INFO:mira.adata_interface.core:Added cols to obs: softmax_denom\n",
      "INFO:mira.adata_interface.topic_model:Fetching key X_topic_compositions from obsm\n"
     ]
    },
    {
     "data": {
      "application/vnd.jupyter.widget-view+json": {
       "model_id": "7621c76c7cc742a9866cd89f62394f17",
       "version_major": 2,
       "version_minor": 0
      },
      "text/plain": [
       "Calculating softmax summary data:   0%|          | 0/4 [00:00<?, ?it/s]"
      ]
     },
     "metadata": {},
     "output_type": "display_data"
    },
    {
     "name": "stderr",
     "output_type": "stream",
     "text": [
      "INFO:mira.adata_interface.core:Added cols to obs: softmax_denom\n"
     ]
    },
    {
     "data": {
      "application/vnd.jupyter.widget-view+json": {
       "model_id": "b7f226795aa94160b90e844dde293f30",
       "version_major": 2,
       "version_minor": 0
      },
      "text/plain": [
       "Predicting expression:   0%|          | 0/2827 [00:00<?, ?it/s]"
      ]
     },
     "metadata": {},
     "output_type": "display_data"
    },
    {
     "name": "stderr",
     "output_type": "stream",
     "text": [
      "/liulab/alynch/projects/batcheffect-env/lib/python3.7/site-packages/pyro/util.py:367: UserWarning: Found plate statements in guide but not model: {'upstream-downstream', 'spans'}\n",
      "  guide_vars - model_vars\n",
      "/liulab/alynch/projects/multiomics/BatchEffect/MIRA/mira/rp_model/rp_model.py:837: UserWarning: To copy construct from a tensor, it is recommended to use sourceTensor.clone().detach() or sourceTensor.clone().detach().requires_grad_(True), rather than torch.tensor(sourceTensor).\n",
      "  return torch.tensor(X, requires_grad=False)\n",
      "INFO:mira.adata_interface.core:Added layer: LITE_prediction\n",
      "INFO:mira.adata_interface.core:Added layer: LITE_logp\n"
     ]
    },
    {
     "name": "stdout",
     "output_type": "stream",
     "text": [
      "s3d10 s4d9\n"
     ]
    },
    {
     "data": {
      "application/vnd.jupyter.widget-view+json": {
       "model_id": "7bb8773999e64b2383c3dbd25a1b20e7",
       "version_major": 2,
       "version_minor": 0
      },
      "text/plain": [
       "Predicting latent vars:   0%|          | 0/4 [00:00<?, ?it/s]"
      ]
     },
     "metadata": {},
     "output_type": "display_data"
    },
    {
     "name": "stderr",
     "output_type": "stream",
     "text": [
      "INFO:mira.adata_interface.core:Added key to obsm: X_topic_compositions\n",
      "INFO:mira.adata_interface.topic_model:Added cols: topic_0, topic_1, topic_2, topic_3, topic_4, topic_5, topic_6, topic_7, topic_8, topic_9, topic_10, topic_11, topic_12, topic_13, topic_14, topic_15, topic_16, topic_17, topic_18, topic_19, topic_20, topic_21, topic_22, topic_23, topic_24, topic_25\n",
      "INFO:mira.adata_interface.core:Added key to varm: topic_feature_compositions\n",
      "INFO:mira.adata_interface.core:Added key to varm: topic_feature_activations\n"
     ]
    },
    {
     "data": {
      "application/vnd.jupyter.widget-view+json": {
       "model_id": "29b7fc5420254e4f962c7656632bc7cf",
       "version_major": 2,
       "version_minor": 0
      },
      "text/plain": [
       "Predicting latent vars:   0%|          | 0/4 [00:00<?, ?it/s]"
      ]
     },
     "metadata": {},
     "output_type": "display_data"
    },
    {
     "name": "stderr",
     "output_type": "stream",
     "text": [
      "INFO:mira.adata_interface.core:Added key to obsm: X_topic_compositions\n",
      "INFO:mira.adata_interface.topic_model:Added cols: topic_0, topic_1, topic_2, topic_3, topic_4, topic_5, topic_6, topic_7, topic_8, topic_9, topic_10, topic_11, topic_12, topic_13, topic_14, topic_15, topic_16, topic_17, topic_18, topic_19, topic_20, topic_21, topic_22, topic_23, topic_24, topic_25, topic_26, topic_27, topic_28, topic_29, topic_30\n",
      "INFO:mira.adata_interface.core:Added key to varm: topic_feature_compositions\n",
      "INFO:mira.adata_interface.core:Added key to varm: topic_feature_activations\n",
      "INFO:mira.adata_interface.core:Added cols to obs: model_read_scale\n",
      "INFO:mira.adata_interface.topic_model:Fetching key X_topic_compositions from obsm\n"
     ]
    },
    {
     "data": {
      "application/vnd.jupyter.widget-view+json": {
       "model_id": "550254aff724430a96d699bf7bed1094",
       "version_major": 2,
       "version_minor": 0
      },
      "text/plain": [
       "Calculating softmax summary data:   0%|          | 0/4 [00:00<?, ?it/s]"
      ]
     },
     "metadata": {},
     "output_type": "display_data"
    },
    {
     "name": "stderr",
     "output_type": "stream",
     "text": [
      "INFO:mira.adata_interface.core:Added cols to obs: softmax_denom\n",
      "INFO:mira.adata_interface.topic_model:Fetching key X_topic_compositions from obsm\n"
     ]
    },
    {
     "data": {
      "application/vnd.jupyter.widget-view+json": {
       "model_id": "e89d6613467741d7911b8b0efd004dc3",
       "version_major": 2,
       "version_minor": 0
      },
      "text/plain": [
       "Calculating softmax summary data:   0%|          | 0/4 [00:00<?, ?it/s]"
      ]
     },
     "metadata": {},
     "output_type": "display_data"
    },
    {
     "name": "stderr",
     "output_type": "stream",
     "text": [
      "INFO:mira.adata_interface.core:Added cols to obs: softmax_denom\n"
     ]
    },
    {
     "data": {
      "application/vnd.jupyter.widget-view+json": {
       "model_id": "47345dde59da424eb32e6b05e842f52d",
       "version_major": 2,
       "version_minor": 0
      },
      "text/plain": [
       "Predicting expression:   0%|          | 0/2837 [00:00<?, ?it/s]"
      ]
     },
     "metadata": {},
     "output_type": "display_data"
    },
    {
     "name": "stderr",
     "output_type": "stream",
     "text": [
      "/liulab/alynch/projects/batcheffect-env/lib/python3.7/site-packages/pyro/util.py:367: UserWarning: Found plate statements in guide but not model: {'upstream-downstream', 'spans'}\n",
      "  guide_vars - model_vars\n",
      "/liulab/alynch/projects/multiomics/BatchEffect/MIRA/mira/rp_model/rp_model.py:837: UserWarning: To copy construct from a tensor, it is recommended to use sourceTensor.clone().detach() or sourceTensor.clone().detach().requires_grad_(True), rather than torch.tensor(sourceTensor).\n",
      "  return torch.tensor(X, requires_grad=False)\n",
      "INFO:mira.adata_interface.core:Added layer: LITE_prediction\n",
      "INFO:mira.adata_interface.core:Added layer: LITE_logp\n"
     ]
    },
    {
     "name": "stdout",
     "output_type": "stream",
     "text": [
      "s3d3 s4d9\n"
     ]
    },
    {
     "data": {
      "application/vnd.jupyter.widget-view+json": {
       "model_id": "cf305f57671f410293db1ee2fce36b78",
       "version_major": 2,
       "version_minor": 0
      },
      "text/plain": [
       "Predicting latent vars:   0%|          | 0/4 [00:00<?, ?it/s]"
      ]
     },
     "metadata": {},
     "output_type": "display_data"
    },
    {
     "name": "stderr",
     "output_type": "stream",
     "text": [
      "INFO:mira.adata_interface.core:Added key to obsm: X_topic_compositions\n",
      "INFO:mira.adata_interface.topic_model:Added cols: topic_0, topic_1, topic_2, topic_3, topic_4, topic_5, topic_6, topic_7, topic_8, topic_9, topic_10, topic_11, topic_12, topic_13, topic_14, topic_15, topic_16, topic_17, topic_18, topic_19, topic_20, topic_21, topic_22, topic_23, topic_24, topic_25\n",
      "INFO:mira.adata_interface.core:Added key to varm: topic_feature_compositions\n",
      "INFO:mira.adata_interface.core:Added key to varm: topic_feature_activations\n"
     ]
    },
    {
     "data": {
      "application/vnd.jupyter.widget-view+json": {
       "model_id": "32b59d6566da434ba90f842822af3801",
       "version_major": 2,
       "version_minor": 0
      },
      "text/plain": [
       "Predicting latent vars:   0%|          | 0/4 [00:00<?, ?it/s]"
      ]
     },
     "metadata": {},
     "output_type": "display_data"
    },
    {
     "name": "stderr",
     "output_type": "stream",
     "text": [
      "INFO:mira.adata_interface.core:Added key to obsm: X_topic_compositions\n",
      "INFO:mira.adata_interface.topic_model:Added cols: topic_0, topic_1, topic_2, topic_3, topic_4, topic_5, topic_6, topic_7, topic_8, topic_9, topic_10, topic_11, topic_12, topic_13, topic_14, topic_15, topic_16, topic_17, topic_18, topic_19, topic_20, topic_21, topic_22, topic_23, topic_24, topic_25, topic_26, topic_27, topic_28, topic_29, topic_30\n",
      "INFO:mira.adata_interface.core:Added key to varm: topic_feature_compositions\n",
      "INFO:mira.adata_interface.core:Added key to varm: topic_feature_activations\n",
      "INFO:mira.adata_interface.core:Added cols to obs: model_read_scale\n",
      "INFO:mira.adata_interface.topic_model:Fetching key X_topic_compositions from obsm\n"
     ]
    },
    {
     "data": {
      "application/vnd.jupyter.widget-view+json": {
       "model_id": "0420d2910de5496f956247eb51d1407c",
       "version_major": 2,
       "version_minor": 0
      },
      "text/plain": [
       "Calculating softmax summary data:   0%|          | 0/4 [00:00<?, ?it/s]"
      ]
     },
     "metadata": {},
     "output_type": "display_data"
    },
    {
     "name": "stderr",
     "output_type": "stream",
     "text": [
      "INFO:mira.adata_interface.core:Added cols to obs: softmax_denom\n",
      "INFO:mira.adata_interface.topic_model:Fetching key X_topic_compositions from obsm\n"
     ]
    },
    {
     "data": {
      "application/vnd.jupyter.widget-view+json": {
       "model_id": "2aef583a80dd4badb044fff3a189ef93",
       "version_major": 2,
       "version_minor": 0
      },
      "text/plain": [
       "Calculating softmax summary data:   0%|          | 0/4 [00:00<?, ?it/s]"
      ]
     },
     "metadata": {},
     "output_type": "display_data"
    },
    {
     "name": "stderr",
     "output_type": "stream",
     "text": [
      "INFO:mira.adata_interface.core:Added cols to obs: softmax_denom\n"
     ]
    },
    {
     "data": {
      "application/vnd.jupyter.widget-view+json": {
       "model_id": "9c8bd071dadd445a9bf782f2c4bd8e81",
       "version_major": 2,
       "version_minor": 0
      },
      "text/plain": [
       "Predicting expression:   0%|          | 0/2838 [00:00<?, ?it/s]"
      ]
     },
     "metadata": {},
     "output_type": "display_data"
    },
    {
     "name": "stderr",
     "output_type": "stream",
     "text": [
      "/liulab/alynch/projects/batcheffect-env/lib/python3.7/site-packages/pyro/util.py:367: UserWarning: Found plate statements in guide but not model: {'upstream-downstream', 'spans'}\n",
      "  guide_vars - model_vars\n",
      "/liulab/alynch/projects/multiomics/BatchEffect/MIRA/mira/rp_model/rp_model.py:837: UserWarning: To copy construct from a tensor, it is recommended to use sourceTensor.clone().detach() or sourceTensor.clone().detach().requires_grad_(True), rather than torch.tensor(sourceTensor).\n",
      "  return torch.tensor(X, requires_grad=False)\n",
      "INFO:mira.adata_interface.core:Added layer: LITE_prediction\n",
      "INFO:mira.adata_interface.core:Added layer: LITE_logp\n"
     ]
    },
    {
     "name": "stdout",
     "output_type": "stream",
     "text": [
      "s3d6 s4d9\n"
     ]
    },
    {
     "data": {
      "application/vnd.jupyter.widget-view+json": {
       "model_id": "2e33b01c02db4fd18d51e39610e3d1b9",
       "version_major": 2,
       "version_minor": 0
      },
      "text/plain": [
       "Predicting latent vars:   0%|          | 0/4 [00:00<?, ?it/s]"
      ]
     },
     "metadata": {},
     "output_type": "display_data"
    },
    {
     "name": "stderr",
     "output_type": "stream",
     "text": [
      "INFO:mira.adata_interface.core:Added key to obsm: X_topic_compositions\n",
      "INFO:mira.adata_interface.topic_model:Added cols: topic_0, topic_1, topic_2, topic_3, topic_4, topic_5, topic_6, topic_7, topic_8, topic_9, topic_10, topic_11, topic_12, topic_13, topic_14, topic_15, topic_16, topic_17, topic_18, topic_19, topic_20, topic_21, topic_22, topic_23, topic_24, topic_25\n",
      "INFO:mira.adata_interface.core:Added key to varm: topic_feature_compositions\n",
      "INFO:mira.adata_interface.core:Added key to varm: topic_feature_activations\n"
     ]
    },
    {
     "data": {
      "application/vnd.jupyter.widget-view+json": {
       "model_id": "cfc5ff16a25c47dda116474e01faf531",
       "version_major": 2,
       "version_minor": 0
      },
      "text/plain": [
       "Predicting latent vars:   0%|          | 0/4 [00:00<?, ?it/s]"
      ]
     },
     "metadata": {},
     "output_type": "display_data"
    },
    {
     "name": "stderr",
     "output_type": "stream",
     "text": [
      "INFO:mira.adata_interface.core:Added key to obsm: X_topic_compositions\n",
      "INFO:mira.adata_interface.topic_model:Added cols: topic_0, topic_1, topic_2, topic_3, topic_4, topic_5, topic_6, topic_7, topic_8, topic_9, topic_10, topic_11, topic_12, topic_13, topic_14, topic_15, topic_16, topic_17, topic_18, topic_19, topic_20, topic_21, topic_22, topic_23, topic_24, topic_25, topic_26, topic_27, topic_28, topic_29, topic_30\n",
      "INFO:mira.adata_interface.core:Added key to varm: topic_feature_compositions\n",
      "INFO:mira.adata_interface.core:Added key to varm: topic_feature_activations\n",
      "INFO:mira.adata_interface.core:Added cols to obs: model_read_scale\n",
      "INFO:mira.adata_interface.topic_model:Fetching key X_topic_compositions from obsm\n"
     ]
    },
    {
     "data": {
      "application/vnd.jupyter.widget-view+json": {
       "model_id": "47b5bb7d4e794a12abba2bf41552cc4d",
       "version_major": 2,
       "version_minor": 0
      },
      "text/plain": [
       "Calculating softmax summary data:   0%|          | 0/4 [00:00<?, ?it/s]"
      ]
     },
     "metadata": {},
     "output_type": "display_data"
    },
    {
     "name": "stderr",
     "output_type": "stream",
     "text": [
      "INFO:mira.adata_interface.core:Added cols to obs: softmax_denom\n",
      "INFO:mira.adata_interface.topic_model:Fetching key X_topic_compositions from obsm\n"
     ]
    },
    {
     "data": {
      "application/vnd.jupyter.widget-view+json": {
       "model_id": "3c0ccb30da934c109e580d3edad46847",
       "version_major": 2,
       "version_minor": 0
      },
      "text/plain": [
       "Calculating softmax summary data:   0%|          | 0/4 [00:00<?, ?it/s]"
      ]
     },
     "metadata": {},
     "output_type": "display_data"
    },
    {
     "name": "stderr",
     "output_type": "stream",
     "text": [
      "INFO:mira.adata_interface.core:Added cols to obs: softmax_denom\n"
     ]
    },
    {
     "data": {
      "application/vnd.jupyter.widget-view+json": {
       "model_id": "5c26e4f037174b7e9e53fba6a4e64db1",
       "version_major": 2,
       "version_minor": 0
      },
      "text/plain": [
       "Predicting expression:   0%|          | 0/2839 [00:00<?, ?it/s]"
      ]
     },
     "metadata": {},
     "output_type": "display_data"
    },
    {
     "name": "stderr",
     "output_type": "stream",
     "text": [
      "/liulab/alynch/projects/batcheffect-env/lib/python3.7/site-packages/pyro/util.py:367: UserWarning: Found plate statements in guide but not model: {'upstream-downstream', 'spans'}\n",
      "  guide_vars - model_vars\n",
      "/liulab/alynch/projects/multiomics/BatchEffect/MIRA/mira/rp_model/rp_model.py:837: UserWarning: To copy construct from a tensor, it is recommended to use sourceTensor.clone().detach() or sourceTensor.clone().detach().requires_grad_(True), rather than torch.tensor(sourceTensor).\n",
      "  return torch.tensor(X, requires_grad=False)\n",
      "INFO:mira.adata_interface.core:Added layer: LITE_prediction\n",
      "INFO:mira.adata_interface.core:Added layer: LITE_logp\n"
     ]
    },
    {
     "name": "stdout",
     "output_type": "stream",
     "text": [
      "s3d7 s4d9\n"
     ]
    },
    {
     "data": {
      "application/vnd.jupyter.widget-view+json": {
       "model_id": "f53ab7ad1d894084bc51dd279c48c7e4",
       "version_major": 2,
       "version_minor": 0
      },
      "text/plain": [
       "Predicting latent vars:   0%|          | 0/4 [00:00<?, ?it/s]"
      ]
     },
     "metadata": {},
     "output_type": "display_data"
    },
    {
     "name": "stderr",
     "output_type": "stream",
     "text": [
      "INFO:mira.adata_interface.core:Added key to obsm: X_topic_compositions\n",
      "INFO:mira.adata_interface.topic_model:Added cols: topic_0, topic_1, topic_2, topic_3, topic_4, topic_5, topic_6, topic_7, topic_8, topic_9, topic_10, topic_11, topic_12, topic_13, topic_14, topic_15, topic_16, topic_17, topic_18, topic_19, topic_20, topic_21, topic_22, topic_23, topic_24, topic_25\n",
      "INFO:mira.adata_interface.core:Added key to varm: topic_feature_compositions\n",
      "INFO:mira.adata_interface.core:Added key to varm: topic_feature_activations\n"
     ]
    },
    {
     "data": {
      "application/vnd.jupyter.widget-view+json": {
       "model_id": "f565af9c5957414dbd729455474445bb",
       "version_major": 2,
       "version_minor": 0
      },
      "text/plain": [
       "Predicting latent vars:   0%|          | 0/4 [00:00<?, ?it/s]"
      ]
     },
     "metadata": {},
     "output_type": "display_data"
    },
    {
     "name": "stderr",
     "output_type": "stream",
     "text": [
      "INFO:mira.adata_interface.core:Added key to obsm: X_topic_compositions\n",
      "INFO:mira.adata_interface.topic_model:Added cols: topic_0, topic_1, topic_2, topic_3, topic_4, topic_5, topic_6, topic_7, topic_8, topic_9, topic_10, topic_11, topic_12, topic_13, topic_14, topic_15, topic_16, topic_17, topic_18, topic_19, topic_20, topic_21, topic_22, topic_23, topic_24, topic_25, topic_26, topic_27, topic_28, topic_29, topic_30\n",
      "INFO:mira.adata_interface.core:Added key to varm: topic_feature_compositions\n",
      "INFO:mira.adata_interface.core:Added key to varm: topic_feature_activations\n",
      "INFO:mira.adata_interface.core:Added cols to obs: model_read_scale\n",
      "INFO:mira.adata_interface.topic_model:Fetching key X_topic_compositions from obsm\n"
     ]
    },
    {
     "data": {
      "application/vnd.jupyter.widget-view+json": {
       "model_id": "428dd3861c634979a38b1c06fa27e3a9",
       "version_major": 2,
       "version_minor": 0
      },
      "text/plain": [
       "Calculating softmax summary data:   0%|          | 0/4 [00:00<?, ?it/s]"
      ]
     },
     "metadata": {},
     "output_type": "display_data"
    },
    {
     "name": "stderr",
     "output_type": "stream",
     "text": [
      "INFO:mira.adata_interface.core:Added cols to obs: softmax_denom\n",
      "INFO:mira.adata_interface.topic_model:Fetching key X_topic_compositions from obsm\n"
     ]
    },
    {
     "data": {
      "application/vnd.jupyter.widget-view+json": {
       "model_id": "10aff62eeb5948a09edbcb81faf05df6",
       "version_major": 2,
       "version_minor": 0
      },
      "text/plain": [
       "Calculating softmax summary data:   0%|          | 0/4 [00:00<?, ?it/s]"
      ]
     },
     "metadata": {},
     "output_type": "display_data"
    },
    {
     "name": "stderr",
     "output_type": "stream",
     "text": [
      "INFO:mira.adata_interface.core:Added cols to obs: softmax_denom\n"
     ]
    },
    {
     "data": {
      "application/vnd.jupyter.widget-view+json": {
       "model_id": "1d919425e1684bb09af3e1d3b8213aca",
       "version_major": 2,
       "version_minor": 0
      },
      "text/plain": [
       "Predicting expression:   0%|          | 0/2839 [00:00<?, ?it/s]"
      ]
     },
     "metadata": {},
     "output_type": "display_data"
    },
    {
     "name": "stderr",
     "output_type": "stream",
     "text": [
      "/liulab/alynch/projects/batcheffect-env/lib/python3.7/site-packages/pyro/util.py:367: UserWarning: Found plate statements in guide but not model: {'upstream-downstream', 'spans'}\n",
      "  guide_vars - model_vars\n",
      "/liulab/alynch/projects/multiomics/BatchEffect/MIRA/mira/rp_model/rp_model.py:837: UserWarning: To copy construct from a tensor, it is recommended to use sourceTensor.clone().detach() or sourceTensor.clone().detach().requires_grad_(True), rather than torch.tensor(sourceTensor).\n",
      "  return torch.tensor(X, requires_grad=False)\n",
      "INFO:mira.adata_interface.core:Added layer: LITE_prediction\n",
      "INFO:mira.adata_interface.core:Added layer: LITE_logp\n"
     ]
    },
    {
     "name": "stdout",
     "output_type": "stream",
     "text": [
      "s4d1 s4d9\n"
     ]
    },
    {
     "data": {
      "application/vnd.jupyter.widget-view+json": {
       "model_id": "33dc0f46c8b84a8e9b5ce5f5944a70e5",
       "version_major": 2,
       "version_minor": 0
      },
      "text/plain": [
       "Predicting latent vars:   0%|          | 0/4 [00:00<?, ?it/s]"
      ]
     },
     "metadata": {},
     "output_type": "display_data"
    },
    {
     "name": "stderr",
     "output_type": "stream",
     "text": [
      "INFO:mira.adata_interface.core:Added key to obsm: X_topic_compositions\n",
      "INFO:mira.adata_interface.topic_model:Added cols: topic_0, topic_1, topic_2, topic_3, topic_4, topic_5, topic_6, topic_7, topic_8, topic_9, topic_10, topic_11, topic_12, topic_13, topic_14, topic_15, topic_16, topic_17, topic_18, topic_19, topic_20, topic_21, topic_22, topic_23, topic_24, topic_25\n",
      "INFO:mira.adata_interface.core:Added key to varm: topic_feature_compositions\n",
      "INFO:mira.adata_interface.core:Added key to varm: topic_feature_activations\n"
     ]
    },
    {
     "data": {
      "application/vnd.jupyter.widget-view+json": {
       "model_id": "498aa865cd834934be3194845e2e591d",
       "version_major": 2,
       "version_minor": 0
      },
      "text/plain": [
       "Predicting latent vars:   0%|          | 0/4 [00:00<?, ?it/s]"
      ]
     },
     "metadata": {},
     "output_type": "display_data"
    },
    {
     "name": "stderr",
     "output_type": "stream",
     "text": [
      "INFO:mira.adata_interface.core:Added key to obsm: X_topic_compositions\n",
      "INFO:mira.adata_interface.topic_model:Added cols: topic_0, topic_1, topic_2, topic_3, topic_4, topic_5, topic_6, topic_7, topic_8, topic_9, topic_10, topic_11, topic_12, topic_13, topic_14, topic_15, topic_16, topic_17, topic_18, topic_19, topic_20, topic_21, topic_22, topic_23, topic_24, topic_25, topic_26, topic_27, topic_28, topic_29, topic_30\n",
      "INFO:mira.adata_interface.core:Added key to varm: topic_feature_compositions\n",
      "INFO:mira.adata_interface.core:Added key to varm: topic_feature_activations\n",
      "INFO:mira.adata_interface.core:Added cols to obs: model_read_scale\n",
      "INFO:mira.adata_interface.topic_model:Fetching key X_topic_compositions from obsm\n"
     ]
    },
    {
     "data": {
      "application/vnd.jupyter.widget-view+json": {
       "model_id": "98a512e03a9c40328d4703b668c9e1e4",
       "version_major": 2,
       "version_minor": 0
      },
      "text/plain": [
       "Calculating softmax summary data:   0%|          | 0/4 [00:00<?, ?it/s]"
      ]
     },
     "metadata": {},
     "output_type": "display_data"
    },
    {
     "name": "stderr",
     "output_type": "stream",
     "text": [
      "INFO:mira.adata_interface.core:Added cols to obs: softmax_denom\n",
      "INFO:mira.adata_interface.topic_model:Fetching key X_topic_compositions from obsm\n"
     ]
    },
    {
     "data": {
      "application/vnd.jupyter.widget-view+json": {
       "model_id": "81899abdc83f483aadb65f377b91b674",
       "version_major": 2,
       "version_minor": 0
      },
      "text/plain": [
       "Calculating softmax summary data:   0%|          | 0/4 [00:00<?, ?it/s]"
      ]
     },
     "metadata": {},
     "output_type": "display_data"
    },
    {
     "name": "stderr",
     "output_type": "stream",
     "text": [
      "INFO:mira.adata_interface.core:Added cols to obs: softmax_denom\n"
     ]
    },
    {
     "data": {
      "application/vnd.jupyter.widget-view+json": {
       "model_id": "439796ae4ab84839b997cdc017091c24",
       "version_major": 2,
       "version_minor": 0
      },
      "text/plain": [
       "Predicting expression:   0%|          | 0/2836 [00:00<?, ?it/s]"
      ]
     },
     "metadata": {},
     "output_type": "display_data"
    },
    {
     "name": "stderr",
     "output_type": "stream",
     "text": [
      "/liulab/alynch/projects/batcheffect-env/lib/python3.7/site-packages/pyro/util.py:367: UserWarning: Found plate statements in guide but not model: {'upstream-downstream', 'spans'}\n",
      "  guide_vars - model_vars\n",
      "/liulab/alynch/projects/multiomics/BatchEffect/MIRA/mira/rp_model/rp_model.py:837: UserWarning: To copy construct from a tensor, it is recommended to use sourceTensor.clone().detach() or sourceTensor.clone().detach().requires_grad_(True), rather than torch.tensor(sourceTensor).\n",
      "  return torch.tensor(X, requires_grad=False)\n",
      "INFO:mira.adata_interface.core:Added layer: LITE_prediction\n",
      "INFO:mira.adata_interface.core:Added layer: LITE_logp\n"
     ]
    },
    {
     "name": "stdout",
     "output_type": "stream",
     "text": [
      "s4d8 s4d9\n"
     ]
    }
   ],
   "source": [
    "data_likelihoods = {}\n",
    "model_likelihoods = {}\n",
    "\n",
    "errors_occurred = {}\n",
    "\n",
    "for batch, test_batch in uncalced_batches:\n",
    "    \n",
    "        try:\n",
    "            test_set = batch_splits[test_batch][1]\n",
    "\n",
    "            litemodels = mira.rp.LITE_Model.load_dir(\n",
    "                    expr_model=rna_model,\n",
    "                    accessibility_model=atac_model,\n",
    "                    counts_layer='counts',\n",
    "                    prefix=os.path.join('data/bonemarrow/rp/litemodels_NOBATCH/batches/', batch + '/')\n",
    "            )\n",
    "\n",
    "            rp_args = dict(\n",
    "                expr_adata = rna_data[test_set].copy(),\n",
    "                atac_adata = atac_data[test_set].copy()\n",
    "            )\n",
    "\n",
    "            rna_model.predict(rp_args['expr_adata'])\n",
    "            atac_model.predict(rp_args['atac_adata'])\n",
    "\n",
    "            litemodels.predict(**rp_args, n_workers=1)\n",
    "\n",
    "            model_likelihoods[(batch, test_batch)] =  rp_args['expr_adata'].varm['LITE_model_logp']\n",
    "            data_likelihoods[(batch, test_batch)] =  np.squeeze(np.array(rp_args['expr_adata'].layers['LITE_logp'].sum(0)))\n",
    "\n",
    "            print(batch, test_batch)\n",
    "        except Exception as err:\n",
    "            errors_occurred[(batch, test_batch)] = err"
   ]
  },
  {
   "cell_type": "code",
   "execution_count": 11,
   "id": "9be95577-4e82-4e43-9a8f-ca25c72b5783",
   "metadata": {},
   "outputs": [
    {
     "data": {
      "text/plain": [
       "dict_keys([('s4d8', 's1d1'), ('s2d5', 's1d2'), ('s4d1', 's1d2'), ('s2d4', 's1d3'), ('s2d5', 's1d3'), ('s3d7', 's1d3'), ('s4d1', 's1d3'), ('s2d5', 's2d4'), ('s2d5', 's3d10'), ('s2d5', 's3d6'), ('s3d10', 's3d7'), ('s1d3', 's4d1'), ('s2d1', 's4d1'), ('s2d4', 's4d1'), ('s2d5', 's4d1'), ('s3d10', 's4d1'), ('s1d1', 's4d8'), ('s1d3', 's4d8'), ('s2d1', 's4d8'), ('s2d4', 's4d8'), ('s2d5', 's4d8'), ('s3d10', 's4d8'), ('s3d3', 's4d8'), ('s1d1', 's4d9'), ('s1d2', 's4d9'), ('s1d3', 's4d9'), ('s2d1', 's4d9'), ('s2d4', 's4d9'), ('s2d5', 's4d9'), ('s3d10', 's4d9'), ('s3d3', 's4d9'), ('s3d6', 's4d9'), ('s3d7', 's4d9'), ('s4d1', 's4d9'), ('s4d8', 's4d9')])"
      ]
     },
     "execution_count": 11,
     "metadata": {},
     "output_type": "execute_result"
    }
   ],
   "source": [
    "model_likelihoods.keys()"
   ]
  },
  {
   "cell_type": "code",
   "execution_count": 13,
   "id": "c59ebf37-6644-4544-87be-122b4ba2c2c8",
   "metadata": {},
   "outputs": [],
   "source": [
    "import pickle"
   ]
  },
  {
   "cell_type": "code",
   "execution_count": 14,
   "id": "afd65572-91a3-4735-9825-8b303bc87f35",
   "metadata": {},
   "outputs": [],
   "source": [
    "with open('data/bonemarrow/rp/model_likelihoods.pkl', 'rb') as f:\n",
    "    ml = pickle.load(f)\n",
    "\n",
    "with open('data/bonemarrow/rp/data_likelihoods.pkl', 'rb') as f:\n",
    "    dl = pickle.load(f)"
   ]
  },
  {
   "cell_type": "code",
   "execution_count": 18,
   "id": "b4b2330c-5190-4075-9f50-44b4ec204c6a",
   "metadata": {},
   "outputs": [],
   "source": [
    "ml.update(model_likelihoods)\n",
    "dl.update(data_likelihoods)"
   ]
  },
  {
   "cell_type": "code",
   "execution_count": 22,
   "id": "9678b0db-16ef-4867-94cb-7c1e2542736f",
   "metadata": {},
   "outputs": [],
   "source": [
    "import pickle\n",
    "import pandas as pd"
   ]
  },
  {
   "cell_type": "code",
   "execution_count": 23,
   "id": "bad0b729-354f-4a08-933d-218931307ac5",
   "metadata": {},
   "outputs": [],
   "source": [
    "with open('data/bonemarrow/rp/model_likelihoods.pkl', 'wb') as f:\n",
    "    pickle.dump(model_likelihoods, f)\n",
    "\n",
    "with open('data/bonemarrow/rp/data_likelihoods.pkl', 'wb') as f:\n",
    "    pickle.dump(data_likelihoods, f)"
   ]
  },
  {
   "cell_type": "markdown",
   "id": "20a69293-2ec5-4686-a0cd-f46d722aef8f",
   "metadata": {},
   "source": [
    "## With batch prediction"
   ]
  },
  {
   "cell_type": "code",
   "execution_count": 1,
   "id": "a7bfdb6e-db6c-4a24-a804-c69862171eb6",
   "metadata": {},
   "outputs": [],
   "source": [
    "import disentangler as dt\n",
    "from disentangler.dependencies import *\n",
    "\n",
    "rna_data, atac_data = dt.bonemarrow.utils.load_GEX_data(), dt.bonemarrow.utils.load_ATAC_data()"
   ]
  },
  {
   "cell_type": "code",
   "execution_count": 2,
   "id": "d62c47d7-91ed-40ab-ae63-563f73ff7afa",
   "metadata": {},
   "outputs": [
    {
     "name": "stderr",
     "output_type": "stream",
     "text": [
      "/liulab/alynch/projects/batcheffect-env/lib/python3.7/site-packages/sklearn/base.py:338: UserWarning: Trying to unpickle estimator StandardScaler from version 0.23.2 when using version 1.0.2. This might lead to breaking code or invalid results. Use at your own risk. For more info please refer to:\n",
      "https://scikit-learn.org/stable/modules/model_persistence.html#security-maintainability-limitations\n",
      "  UserWarning,\n",
      "/liulab/alynch/projects/batcheffect-env/lib/python3.7/site-packages/sklearn/base.py:338: UserWarning: Trying to unpickle estimator OneHotEncoder from version 0.23.2 when using version 1.0.2. This might lead to breaking code or invalid results. Use at your own risk. For more info please refer to:\n",
      "https://scikit-learn.org/stable/modules/model_persistence.html#security-maintainability-limitations\n",
      "  UserWarning,\n",
      "INFO:mira.topic_model.base:Moving model to CPU for inference.\n",
      "INFO:mira.topic_model.base:Moving model to device: cpu\n",
      "/liulab/alynch/projects/batcheffect-env/lib/python3.7/site-packages/sklearn/base.py:338: UserWarning: Trying to unpickle estimator StandardScaler from version 0.24.2 when using version 1.0.2. This might lead to breaking code or invalid results. Use at your own risk. For more info please refer to:\n",
      "https://scikit-learn.org/stable/modules/model_persistence.html#security-maintainability-limitations\n",
      "  UserWarning,\n",
      "/liulab/alynch/projects/batcheffect-env/lib/python3.7/site-packages/sklearn/base.py:338: UserWarning: Trying to unpickle estimator OneHotEncoder from version 0.24.2 when using version 1.0.2. This might lead to breaking code or invalid results. Use at your own risk. For more info please refer to:\n",
      "https://scikit-learn.org/stable/modules/model_persistence.html#security-maintainability-limitations\n",
      "  UserWarning,\n",
      "INFO:mira.topic_model.base:Moving model to CPU for inference.\n",
      "INFO:mira.topic_model.base:Moving model to device: cpu\n"
     ]
    }
   ],
   "source": [
    "rna_model = mira.topics.load_model(dt.bonemarrow.config.MIRA_RNA + '2')\n",
    "atac_model = mira.topics.load_model(dt.bonemarrow.config.MIRA_ATAC)"
   ]
  },
  {
   "cell_type": "code",
   "execution_count": 3,
   "id": "125186a6-280f-48f3-ac68-3ca23d9f5e92",
   "metadata": {},
   "outputs": [
    {
     "data": {
      "application/vnd.jupyter.widget-view+json": {
       "model_id": "2b5254bc5f6a41088e23fe199fce4b99",
       "version_major": 2,
       "version_minor": 0
      },
      "text/plain": [
       "Predicting latent vars:   0%|          | 0/263 [00:00<?, ?it/s]"
      ]
     },
     "metadata": {},
     "output_type": "display_data"
    },
    {
     "name": "stderr",
     "output_type": "stream",
     "text": [
      "INFO:mira.adata_interface.core:Added key to obsm: X_topic_compositions\n",
      "INFO:mira.adata_interface.topic_model:Added cols: topic_0, topic_1, topic_2, topic_3, topic_4, topic_5, topic_6, topic_7, topic_8, topic_9, topic_10, topic_11, topic_12, topic_13, topic_14, topic_15, topic_16, topic_17, topic_18, topic_19, topic_20, topic_21, topic_22, topic_23, topic_24\n",
      "INFO:mira.adata_interface.core:Added key to varm: topic_feature_compositions\n",
      "INFO:mira.adata_interface.core:Added key to varm: topic_feature_activations\n"
     ]
    },
    {
     "data": {
      "application/vnd.jupyter.widget-view+json": {
       "model_id": "0d5f04f306ae4bd4809bff169f2c96a5",
       "version_major": 2,
       "version_minor": 0
      },
      "text/plain": [
       "Predicting latent vars:   0%|          | 0/247 [00:00<?, ?it/s]"
      ]
     },
     "metadata": {},
     "output_type": "display_data"
    },
    {
     "name": "stderr",
     "output_type": "stream",
     "text": [
      "INFO:mira.adata_interface.core:Added key to obsm: X_topic_compositions\n",
      "INFO:mira.adata_interface.topic_model:Added cols: topic_0, topic_1, topic_2, topic_3, topic_4, topic_5, topic_6, topic_7, topic_8, topic_9, topic_10, topic_11, topic_12, topic_13, topic_14, topic_15, topic_16, topic_17, topic_18, topic_19, topic_20, topic_21\n",
      "INFO:mira.adata_interface.core:Added key to varm: topic_feature_compositions\n",
      "INFO:mira.adata_interface.core:Added key to varm: topic_feature_activations\n"
     ]
    }
   ],
   "source": [
    "atac_model.predict(atac_data)\n",
    "rna_model.predict(rna_data)"
   ]
  },
  {
   "cell_type": "code",
   "execution_count": 4,
   "id": "9f7b31d1-17db-4cdc-a0e1-8c378e214a2a",
   "metadata": {},
   "outputs": [
    {
     "name": "stderr",
     "output_type": "stream",
     "text": [
      "WARNING:mira.tools.connect_genes_peaks:22 regions encounted from unknown chromsomes: GL000205.2,GL000195.1,GL000219.1,KI270726.1,KI270713.1\n",
      "INFO:mira.tools.connect_genes_peaks:Finding peak intersections with promoters ...\n",
      "INFO:mira.tools.connect_genes_peaks:Calculating distances between peaks and TSS ...\n",
      "INFO:mira.tools.connect_genes_peaks:Masking other genes' promoters ...\n",
      "INFO:mira.adata_interface.rp_model:Added key to var: distance_to_TSS\n",
      "INFO:mira.adata_interface.rp_model:Added key to uns: distance_to_TSS_genes\n"
     ]
    }
   ],
   "source": [
    "shared_cells = np.intersect1d(rna_data.obs_names, atac_data.obs_names)\n",
    "\n",
    "rna_data, atac_data = rna_data[shared_cells].copy(), atac_data[shared_cells].copy()\n",
    "\n",
    "atac_data.var[['chr','start','end']] = \\\n",
    "    list(map(list, atac_data.var_names.str.split('-')))\n",
    "\n",
    "mira.tl.get_distance_to_TSS(atac_data,\n",
    "                            tss_data = 'data/bonemarrow/hg38_tss_data.bed12.filtered',\n",
    "                            genome_file= 'data/bonemarrow/hg38.chrom.sizes'\n",
    "                           )"
   ]
  },
  {
   "cell_type": "code",
   "execution_count": 5,
   "id": "0d5f88f4-89bb-4133-be61-1d01f0ca185b",
   "metadata": {},
   "outputs": [],
   "source": [
    "from sklearn.model_selection import train_test_split\n",
    "import os\n",
    "\n",
    "batch_splits = {}\n",
    "for i, batch in enumerate(sorted(rna_data.obs.batch.cat.categories)):\n",
    "    train_bc, test_bc = train_test_split(rna_data[rna_data.obs.batch == batch].obs_names, random_state = i)\n",
    "    batch_splits[batch] = (train_bc, test_bc)"
   ]
  },
  {
   "cell_type": "code",
   "execution_count": 6,
   "id": "164f4d3f-44e2-459c-ba44-51ea1f05aecb",
   "metadata": {},
   "outputs": [
    {
     "data": {
      "text/plain": [
       "(45839, 15288, 0)"
      ]
     },
     "execution_count": 6,
     "metadata": {},
     "output_type": "execute_result"
    }
   ],
   "source": [
    "all_train = set([t for batch, (train, test) in batch_splits.items() for t in train])\n",
    "all_test = set([t for batch, (train, test) in batch_splits.items() for t in test])\n",
    "\n",
    "len(all_train), len(all_test), len(all_train.intersection(all_test))"
   ]
  },
  {
   "cell_type": "code",
   "execution_count": 19,
   "id": "fd9de9a1-bc13-439c-9bf4-a9416840eb51",
   "metadata": {},
   "outputs": [],
   "source": [
    "litemodel = mira.rp.LITE_Model(\n",
    "        expr_model=rna_model,\n",
    "        accessibility_model=atac_model,\n",
    "        genes=np.intersect1d(rna_model.features, atac_data.uns['distance_to_TSS_genes']),\n",
    "        counts_layer='counts',\n",
    "    )\n",
    "    \n",
    "rp_args = dict(\n",
    "    expr_adata = rna_data[all_train].copy(),\n",
    "    atac_adata = atac_data[all_train].copy()\n",
    ")\n",
    "\n",
    "savedir = os.path.join('data/bonemarrow/rp/litemodels_NOBATCH/batches/', 'all-corrected')\n",
    "\n",
    "if not os.path.exists(savedir):\n",
    "    os.mkdir(savedir)\n",
    "\n",
    "litemodel.fit(**rp_args, n_workers = 8,\n",
    "              callback=mira.rp.SaveCallback(savedir + '/'),\n",
    "             )"
   ]
  },
  {
   "cell_type": "code",
   "execution_count": 22,
   "id": "2c94835c-79ae-4cdf-8786-c7544fc91ce8",
   "metadata": {},
   "outputs": [
    {
     "name": "stdout",
     "output_type": "stream",
     "text": [
      "2841\n"
     ]
    }
   ],
   "source": [
    "!ls data/bonemarrow/rp/litemodels_NOBATCH/batches/all-corrected | wc -l"
   ]
  },
  {
   "cell_type": "code",
   "execution_count": 7,
   "id": "be46d3fc-fb5e-48d8-b160-8a01d6645ac9",
   "metadata": {},
   "outputs": [],
   "source": [
    "corrected_litemodel = mira.rp.LITE_Model.load_dir(\n",
    "    expr_model=rna_model,\n",
    "    accessibility_model=atac_model,\n",
    "    counts_layer='counts',\n",
    "    prefix = 'data/bonemarrow/rp/litemodels_NOBATCH/batches/all-corrected/'\n",
    ")\n",
    "\n",
    "all_train = list(set([t for batch, (train, test) in batch_splits.items() for t in train]))\n",
    "all_test = list(set([t for batch, (train, test) in batch_splits.items() for t in test]))\n",
    "\n",
    "rp_args = dict(\n",
    "    expr_adata = rna_data[all_test].copy(),\n",
    "    atac_adata = atac_data[all_test].copy()\n",
    ")\n",
    "\n",
    "corrected_litemodel.predict(**rp_args, n_workers=1)"
   ]
  },
  {
   "cell_type": "code",
   "execution_count": 27,
   "id": "2b188006-fc53-4cb3-81ff-19c047ccf7bc",
   "metadata": {},
   "outputs": [],
   "source": [
    "corrected_model_likelihoods = {}\n",
    "corrected_data_likelihoods = {}\n",
    "\n",
    "for test_batch, (train, test) in batch_splits.items():\n",
    "    \n",
    "    corrected_model_likelihoods[('corrected-all', test_batch)] =  rp_args['expr_adata'][test].varm['LITE_model_logp']\n",
    "    corrected_data_likelihoods[('corrected-all', test_batch)] =  np.squeeze(np.array(rp_args['expr_adata'][test].layers['LITE_logp'].sum(0)))"
   ]
  },
  {
   "cell_type": "code",
   "execution_count": 17,
   "id": "9bdbd8d1-f014-4572-8f76-edf46469618a",
   "metadata": {},
   "outputs": [
    {
     "name": "stdout",
     "output_type": "stream",
     "text": [
      "--2022-10-04 19:42:44--  https://hgdownload.soe.ucsc.edu/goldenPath/hg38/bigZips/hg38.fa.gz\n",
      "Resolving hgdownload.soe.ucsc.edu (hgdownload.soe.ucsc.edu)... 128.114.119.163\n",
      "Connecting to hgdownload.soe.ucsc.edu (hgdownload.soe.ucsc.edu)|128.114.119.163|:443... connected.\n",
      "HTTP request sent, awaiting response... 200 OK\n",
      "Length: 983659424 (938M) [application/x-gzip]\n",
      "Saving to: ‘../DataAnalyses/mira-datasets/hg38.fa.gz’\n",
      "\n",
      "100%[======================================>] 983,659,424 1.71MB/s   in 9m 9s  \n",
      "\n",
      "2022-10-04 19:51:54 (1.71 MB/s) - ‘../DataAnalyses/mira-datasets/hg38.fa.gz’ saved [983659424/983659424]\n",
      "\n"
     ]
    }
   ],
   "source": [
    "!wget https://hgdownload.soe.ucsc.edu/goldenPath/hg38/bigZips/hg38.fa.gz -O ../DataAnalyses/mira-datasets/hg38.fa.gz"
   ]
  },
  {
   "cell_type": "code",
   "execution_count": 10,
   "id": "04b143fc-248e-46e1-861f-da4e8b47929f",
   "metadata": {},
   "outputs": [],
   "source": [
    "mira.tl.get_motif_hits_in_peaks(atac_data, genome_fasta='../DataAnalyses/mira-datasets/hg38.fa')\n",
    "\n",
    "rp_args = dict(\n",
    "    expr_adata = rna_data[all_test].copy(),\n",
    "    atac_adata = atac_data[all_test].copy()\n",
    ")\n",
    "\n",
    "corrected_litemodel.probabilistic_isd(**rp_args)\n",
    "\n",
    "rp_args['expr_adata'].write_h5ad('data/bonemarrow/rp/corrected_ISD.h5ad')"
   ]
  },
  {
   "cell_type": "markdown",
   "id": "9ce50167-96f2-406f-b338-063b1992004b",
   "metadata": {},
   "source": [
    "## Analysis"
   ]
  },
  {
   "cell_type": "code",
   "execution_count": 28,
   "id": "0602540b-d71a-4c07-a623-13fa1d1ff5b1",
   "metadata": {},
   "outputs": [],
   "source": [
    "import pickle\n",
    "import numpy as np\n",
    "import pandas as pd"
   ]
  },
  {
   "cell_type": "code",
   "execution_count": 29,
   "id": "d25af67f-a505-41be-b681-842da2d53f1e",
   "metadata": {},
   "outputs": [],
   "source": [
    "with open('data/bonemarrow/rp/model_likelihoods.pkl', 'rb') as f:\n",
    "    model_likelihoods = pickle.load(f)\n",
    "\n",
    "with open('data/bonemarrow/rp/data_likelihoods.pkl', 'rb') as f:\n",
    "    data_likelihoods = pickle.load(f)"
   ]
  },
  {
   "cell_type": "code",
   "execution_count": 30,
   "id": "3e822faf-1d5a-44e5-a0ab-80c53cee53dc",
   "metadata": {},
   "outputs": [],
   "source": [
    "model_likelihoods.update(corrected_model_likelihoods)\n",
    "data_likelihoods.update(corrected_data_likelihoods)"
   ]
  },
  {
   "cell_type": "code",
   "execution_count": 31,
   "id": "9874228b-3aa8-409b-b4d1-c76c13542836",
   "metadata": {},
   "outputs": [],
   "source": [
    "train_batch, test_batch, scores, model_scores = [k[0] for k in data_likelihoods.keys()], \\\n",
    "                                  [k[1] for k in data_likelihoods.keys()], \\\n",
    "                                  [d.sum() for d in data_likelihoods.values()], \\\n",
    "                                  [np.nansum(d) for d in model_likelihoods.values()]\n",
    "\n",
    "df = pd.DataFrame([train_batch,test_batch,scores, model_scores], index=['train_batch','test_batch','scores','model_scores']).T"
   ]
  },
  {
   "cell_type": "markdown",
   "id": "af90c516-362c-4696-8971-78bdcd82e118",
   "metadata": {},
   "source": [
    "len(corrected_litemodel.features)"
   ]
  },
  {
   "cell_type": "code",
   "execution_count": 32,
   "id": "22a14747-4bdf-4b97-ac99-4ad108f5b395",
   "metadata": {},
   "outputs": [],
   "source": [
    "df['log_likelihood'] = df['scores']/2841# + df['model_scores'])/2841\n",
    "\n",
    "df['train_batch'] = df.train_batch.str.replace('corrected', ' corrected')\n",
    "\n",
    "piv = df.pivot(index='train_batch', columns='test_batch', values='log_likelihood')\n",
    "\n",
    "pivmelt = piv.melt(ignore_index=False).reset_index()"
   ]
  },
  {
   "cell_type": "markdown",
   "id": "b5e00c2a-209f-4c8d-b129-cb89c4f3c491",
   "metadata": {},
   "source": [
    "### Likelihood measures"
   ]
  },
  {
   "cell_type": "code",
   "execution_count": 33,
   "id": "c1743b99-ff5c-4c04-a32f-ec3c065a935e",
   "metadata": {},
   "outputs": [
    {
     "data": {
      "text/html": [
       "<div>\n",
       "<style scoped>\n",
       "    .dataframe tbody tr th:only-of-type {\n",
       "        vertical-align: middle;\n",
       "    }\n",
       "\n",
       "    .dataframe tbody tr th {\n",
       "        vertical-align: top;\n",
       "    }\n",
       "\n",
       "    .dataframe thead th {\n",
       "        text-align: right;\n",
       "    }\n",
       "</style>\n",
       "<table border=\"1\" class=\"dataframe\">\n",
       "  <thead>\n",
       "    <tr style=\"text-align: right;\">\n",
       "      <th>test_batch</th>\n",
       "      <th>s1d1</th>\n",
       "      <th>s1d2</th>\n",
       "      <th>s1d3</th>\n",
       "      <th>s2d1</th>\n",
       "      <th>s2d4</th>\n",
       "      <th>s2d5</th>\n",
       "      <th>s3d10</th>\n",
       "      <th>s3d3</th>\n",
       "      <th>s3d6</th>\n",
       "      <th>s3d7</th>\n",
       "      <th>s4d1</th>\n",
       "      <th>s4d8</th>\n",
       "      <th>s4d9</th>\n",
       "    </tr>\n",
       "    <tr>\n",
       "      <th>train_batch</th>\n",
       "      <th></th>\n",
       "      <th></th>\n",
       "      <th></th>\n",
       "      <th></th>\n",
       "      <th></th>\n",
       "      <th></th>\n",
       "      <th></th>\n",
       "      <th></th>\n",
       "      <th></th>\n",
       "      <th></th>\n",
       "      <th></th>\n",
       "      <th></th>\n",
       "      <th></th>\n",
       "    </tr>\n",
       "  </thead>\n",
       "  <tbody>\n",
       "    <tr>\n",
       "      <th>corrected-all</th>\n",
       "      <td>-438.219354</td>\n",
       "      <td>-465.483761</td>\n",
       "      <td>-288.451707</td>\n",
       "      <td>-325.798385</td>\n",
       "      <td>-360.45012</td>\n",
       "      <td>-316.469917</td>\n",
       "      <td>-518.875332</td>\n",
       "      <td>-263.801668</td>\n",
       "      <td>-119.071294</td>\n",
       "      <td>-97.463658</td>\n",
       "      <td>-332.799329</td>\n",
       "      <td>-373.68127</td>\n",
       "      <td>-157.82286</td>\n",
       "    </tr>\n",
       "    <tr>\n",
       "      <th>all</th>\n",
       "      <td>-442.367212</td>\n",
       "      <td>-470.763816</td>\n",
       "      <td>-292.417085</td>\n",
       "      <td>-330.310278</td>\n",
       "      <td>-364.428876</td>\n",
       "      <td>-322.67551</td>\n",
       "      <td>-528.894403</td>\n",
       "      <td>-267.06437</td>\n",
       "      <td>-122.490826</td>\n",
       "      <td>-99.795385</td>\n",
       "      <td>-338.054778</td>\n",
       "      <td>-381.282339</td>\n",
       "      <td>-161.445904</td>\n",
       "    </tr>\n",
       "    <tr>\n",
       "      <th>s1d1</th>\n",
       "      <td>-439.526839</td>\n",
       "      <td>-478.073918</td>\n",
       "      <td>-295.064678</td>\n",
       "      <td>-337.317142</td>\n",
       "      <td>-373.042987</td>\n",
       "      <td>-335.214405</td>\n",
       "      <td>-550.467881</td>\n",
       "      <td>-277.823214</td>\n",
       "      <td>-128.460159</td>\n",
       "      <td>-104.123141</td>\n",
       "      <td>-366.25308</td>\n",
       "      <td>-419.834697</td>\n",
       "      <td>-174.906305</td>\n",
       "    </tr>\n",
       "    <tr>\n",
       "      <th>s1d2</th>\n",
       "      <td>-454.358017</td>\n",
       "      <td>-463.562742</td>\n",
       "      <td>-293.751628</td>\n",
       "      <td>-348.398165</td>\n",
       "      <td>-396.363164</td>\n",
       "      <td>-331.619368</td>\n",
       "      <td>-561.946542</td>\n",
       "      <td>-284.516015</td>\n",
       "      <td>-129.824831</td>\n",
       "      <td>-105.620116</td>\n",
       "      <td>-373.486096</td>\n",
       "      <td>-417.697554</td>\n",
       "      <td>-176.906767</td>\n",
       "    </tr>\n",
       "    <tr>\n",
       "      <th>s1d3</th>\n",
       "      <td>-448.356917</td>\n",
       "      <td>-471.118004</td>\n",
       "      <td>-286.481037</td>\n",
       "      <td>-348.009614</td>\n",
       "      <td>-381.37544</td>\n",
       "      <td>-339.703955</td>\n",
       "      <td>-560.640576</td>\n",
       "      <td>-281.137364</td>\n",
       "      <td>-129.524397</td>\n",
       "      <td>-105.42848</td>\n",
       "      <td>-372.747536</td>\n",
       "      <td>-414.525783</td>\n",
       "      <td>-173.884218</td>\n",
       "    </tr>\n",
       "    <tr>\n",
       "      <th>s2d1</th>\n",
       "      <td>-456.626672</td>\n",
       "      <td>-511.13842</td>\n",
       "      <td>-317.624032</td>\n",
       "      <td>-326.490584</td>\n",
       "      <td>-366.097897</td>\n",
       "      <td>-327.330671</td>\n",
       "      <td>-536.99582</td>\n",
       "      <td>-270.689106</td>\n",
       "      <td>-127.90328</td>\n",
       "      <td>-102.50319</td>\n",
       "      <td>-359.016301</td>\n",
       "      <td>-422.028203</td>\n",
       "      <td>-178.605201</td>\n",
       "    </tr>\n",
       "    <tr>\n",
       "      <th>s2d4</th>\n",
       "      <td>-474.939106</td>\n",
       "      <td>-541.491904</td>\n",
       "      <td>-332.260296</td>\n",
       "      <td>-339.910947</td>\n",
       "      <td>-354.657251</td>\n",
       "      <td>-346.971115</td>\n",
       "      <td>-547.534011</td>\n",
       "      <td>-274.469971</td>\n",
       "      <td>-128.405073</td>\n",
       "      <td>-103.337315</td>\n",
       "      <td>-356.295583</td>\n",
       "      <td>-427.771779</td>\n",
       "      <td>-178.375902</td>\n",
       "    </tr>\n",
       "    <tr>\n",
       "      <th>s2d5</th>\n",
       "      <td>-484.650035</td>\n",
       "      <td>-512.727693</td>\n",
       "      <td>-327.417547</td>\n",
       "      <td>-345.780667</td>\n",
       "      <td>-402.112108</td>\n",
       "      <td>-313.597985</td>\n",
       "      <td>-561.206177</td>\n",
       "      <td>-282.624736</td>\n",
       "      <td>-129.898649</td>\n",
       "      <td>-104.290446</td>\n",
       "      <td>-376.337029</td>\n",
       "      <td>-439.405315</td>\n",
       "      <td>-196.304316</td>\n",
       "    </tr>\n",
       "    <tr>\n",
       "      <th>s3d10</th>\n",
       "      <td>-486.148275</td>\n",
       "      <td>-535.821982</td>\n",
       "      <td>-337.360964</td>\n",
       "      <td>-338.296089</td>\n",
       "      <td>-372.090461</td>\n",
       "      <td>-332.967727</td>\n",
       "      <td>-518.397835</td>\n",
       "      <td>-266.799498</td>\n",
       "      <td>-124.567637</td>\n",
       "      <td>-100.405095</td>\n",
       "      <td>-371.965241</td>\n",
       "      <td>-455.729805</td>\n",
       "      <td>-201.057264</td>\n",
       "    </tr>\n",
       "    <tr>\n",
       "      <th>s3d3</th>\n",
       "      <td>-483.731697</td>\n",
       "      <td>-534.744588</td>\n",
       "      <td>-333.970895</td>\n",
       "      <td>-338.32174</td>\n",
       "      <td>-372.995952</td>\n",
       "      <td>-334.882128</td>\n",
       "      <td>-530.467133</td>\n",
       "      <td>-264.37038</td>\n",
       "      <td>-124.967881</td>\n",
       "      <td>-100.918999</td>\n",
       "      <td>-368.408901</td>\n",
       "      <td>-447.833069</td>\n",
       "      <td>-197.602583</td>\n",
       "    </tr>\n",
       "    <tr>\n",
       "      <th>s3d6</th>\n",
       "      <td>-530.626188</td>\n",
       "      <td>-586.687962</td>\n",
       "      <td>-374.533659</td>\n",
       "      <td>-374.862372</td>\n",
       "      <td>-396.324754</td>\n",
       "      <td>-367.101879</td>\n",
       "      <td>-564.642423</td>\n",
       "      <td>-282.278643</td>\n",
       "      <td>-118.514806</td>\n",
       "      <td>-105.227451</td>\n",
       "      <td>-372.73988</td>\n",
       "      <td>-449.465021</td>\n",
       "      <td>-197.810476</td>\n",
       "    </tr>\n",
       "    <tr>\n",
       "      <th>s3d7</th>\n",
       "      <td>-507.459169</td>\n",
       "      <td>-553.456749</td>\n",
       "      <td>-351.973865</td>\n",
       "      <td>-355.026927</td>\n",
       "      <td>-394.720873</td>\n",
       "      <td>-342.660903</td>\n",
       "      <td>-547.602165</td>\n",
       "      <td>-276.009086</td>\n",
       "      <td>-126.339471</td>\n",
       "      <td>-97.842353</td>\n",
       "      <td>-375.682902</td>\n",
       "      <td>-455.207497</td>\n",
       "      <td>-202.326206</td>\n",
       "    </tr>\n",
       "    <tr>\n",
       "      <th>s4d1</th>\n",
       "      <td>-482.708069</td>\n",
       "      <td>-543.92529</td>\n",
       "      <td>-338.830209</td>\n",
       "      <td>-349.587909</td>\n",
       "      <td>-376.522615</td>\n",
       "      <td>-354.68277</td>\n",
       "      <td>-564.596357</td>\n",
       "      <td>-280.807858</td>\n",
       "      <td>-126.99637</td>\n",
       "      <td>-106.34221</td>\n",
       "      <td>-330.170341</td>\n",
       "      <td>-389.968277</td>\n",
       "      <td>-164.396515</td>\n",
       "    </tr>\n",
       "    <tr>\n",
       "      <th>s4d8</th>\n",
       "      <td>-485.504356</td>\n",
       "      <td>-522.083245</td>\n",
       "      <td>-323.609776</td>\n",
       "      <td>-364.458509</td>\n",
       "      <td>-389.727649</td>\n",
       "      <td>-362.545583</td>\n",
       "      <td>-581.818638</td>\n",
       "      <td>-287.790545</td>\n",
       "      <td>-127.174674</td>\n",
       "      <td>-109.080803</td>\n",
       "      <td>-341.758822</td>\n",
       "      <td>-372.248592</td>\n",
       "      <td>-158.853419</td>\n",
       "    </tr>\n",
       "    <tr>\n",
       "      <th>s4d9</th>\n",
       "      <td>-505.163807</td>\n",
       "      <td>-546.294879</td>\n",
       "      <td>-334.285573</td>\n",
       "      <td>-387.720609</td>\n",
       "      <td>-400.894887</td>\n",
       "      <td>-389.651751</td>\n",
       "      <td>-618.494368</td>\n",
       "      <td>-301.030491</td>\n",
       "      <td>-131.545132</td>\n",
       "      <td>-117.824677</td>\n",
       "      <td>-354.121392</td>\n",
       "      <td>-387.933826</td>\n",
       "      <td>-155.477803</td>\n",
       "    </tr>\n",
       "  </tbody>\n",
       "</table>\n",
       "</div>"
      ],
      "text/plain": [
       "test_batch            s1d1        s1d2        s1d3        s2d1        s2d4  \\\n",
       "train_batch                                                                  \n",
       " corrected-all -438.219354 -465.483761 -288.451707 -325.798385  -360.45012   \n",
       "all            -442.367212 -470.763816 -292.417085 -330.310278 -364.428876   \n",
       "s1d1           -439.526839 -478.073918 -295.064678 -337.317142 -373.042987   \n",
       "s1d2           -454.358017 -463.562742 -293.751628 -348.398165 -396.363164   \n",
       "s1d3           -448.356917 -471.118004 -286.481037 -348.009614  -381.37544   \n",
       "s2d1           -456.626672  -511.13842 -317.624032 -326.490584 -366.097897   \n",
       "s2d4           -474.939106 -541.491904 -332.260296 -339.910947 -354.657251   \n",
       "s2d5           -484.650035 -512.727693 -327.417547 -345.780667 -402.112108   \n",
       "s3d10          -486.148275 -535.821982 -337.360964 -338.296089 -372.090461   \n",
       "s3d3           -483.731697 -534.744588 -333.970895  -338.32174 -372.995952   \n",
       "s3d6           -530.626188 -586.687962 -374.533659 -374.862372 -396.324754   \n",
       "s3d7           -507.459169 -553.456749 -351.973865 -355.026927 -394.720873   \n",
       "s4d1           -482.708069  -543.92529 -338.830209 -349.587909 -376.522615   \n",
       "s4d8           -485.504356 -522.083245 -323.609776 -364.458509 -389.727649   \n",
       "s4d9           -505.163807 -546.294879 -334.285573 -387.720609 -400.894887   \n",
       "\n",
       "test_batch            s2d5       s3d10        s3d3        s3d6        s3d7  \\\n",
       "train_batch                                                                  \n",
       " corrected-all -316.469917 -518.875332 -263.801668 -119.071294  -97.463658   \n",
       "all             -322.67551 -528.894403  -267.06437 -122.490826  -99.795385   \n",
       "s1d1           -335.214405 -550.467881 -277.823214 -128.460159 -104.123141   \n",
       "s1d2           -331.619368 -561.946542 -284.516015 -129.824831 -105.620116   \n",
       "s1d3           -339.703955 -560.640576 -281.137364 -129.524397  -105.42848   \n",
       "s2d1           -327.330671  -536.99582 -270.689106  -127.90328  -102.50319   \n",
       "s2d4           -346.971115 -547.534011 -274.469971 -128.405073 -103.337315   \n",
       "s2d5           -313.597985 -561.206177 -282.624736 -129.898649 -104.290446   \n",
       "s3d10          -332.967727 -518.397835 -266.799498 -124.567637 -100.405095   \n",
       "s3d3           -334.882128 -530.467133  -264.37038 -124.967881 -100.918999   \n",
       "s3d6           -367.101879 -564.642423 -282.278643 -118.514806 -105.227451   \n",
       "s3d7           -342.660903 -547.602165 -276.009086 -126.339471  -97.842353   \n",
       "s4d1            -354.68277 -564.596357 -280.807858  -126.99637  -106.34221   \n",
       "s4d8           -362.545583 -581.818638 -287.790545 -127.174674 -109.080803   \n",
       "s4d9           -389.651751 -618.494368 -301.030491 -131.545132 -117.824677   \n",
       "\n",
       "test_batch            s4d1        s4d8        s4d9  \n",
       "train_batch                                         \n",
       " corrected-all -332.799329  -373.68127  -157.82286  \n",
       "all            -338.054778 -381.282339 -161.445904  \n",
       "s1d1            -366.25308 -419.834697 -174.906305  \n",
       "s1d2           -373.486096 -417.697554 -176.906767  \n",
       "s1d3           -372.747536 -414.525783 -173.884218  \n",
       "s2d1           -359.016301 -422.028203 -178.605201  \n",
       "s2d4           -356.295583 -427.771779 -178.375902  \n",
       "s2d5           -376.337029 -439.405315 -196.304316  \n",
       "s3d10          -371.965241 -455.729805 -201.057264  \n",
       "s3d3           -368.408901 -447.833069 -197.602583  \n",
       "s3d6            -372.73988 -449.465021 -197.810476  \n",
       "s3d7           -375.682902 -455.207497 -202.326206  \n",
       "s4d1           -330.170341 -389.968277 -164.396515  \n",
       "s4d8           -341.758822 -372.248592 -158.853419  \n",
       "s4d9           -354.121392 -387.933826 -155.477803  "
      ]
     },
     "execution_count": 33,
     "metadata": {},
     "output_type": "execute_result"
    }
   ],
   "source": [
    "piv"
   ]
  },
  {
   "cell_type": "code",
   "execution_count": 34,
   "id": "0df805ce-324d-4665-b117-cf9394d7f8f4",
   "metadata": {},
   "outputs": [],
   "source": [
    "order = [' corrected-all', 'all', 's1d1', 's1d2', 's1d3', 's2d4', 's2d5', 's2d1',\n",
    "       's3d10', 's3d3', 's3d6', 's3d7', 's4d1', 's4d8', 's4d9']"
   ]
  },
  {
   "cell_type": "code",
   "execution_count": 35,
   "id": "b1b27cb7-09c0-4cc1-8376-c58c6e200e34",
   "metadata": {},
   "outputs": [],
   "source": [
    "!mkdir -p figure1/RP/"
   ]
  },
  {
   "cell_type": "code",
   "execution_count": 36,
   "id": "1dd80961-8257-4e8d-8e45-7d16643547bd",
   "metadata": {},
   "outputs": [],
   "source": [
    "from sklearn.preprocessing import StandardScaler"
   ]
  },
  {
   "cell_type": "code",
   "execution_count": null,
   "id": "3950fd33-7018-4993-a028-bd5b71fda266",
   "metadata": {},
   "outputs": [],
   "source": [
    "fig, ax = plt.subplots(2,2,figsize=(5.5,6), sharex='col',\n",
    "                       gridspec_kw = dict(width_ratios = [4,1],height_ratios = [4,1]))\n",
    "\n",
    "sns.heatmap(\n",
    "    StandardScaler().fit_transform(piv.fillna(piv.min()).loc[order, order[2:]].values),\n",
    "    ax = ax[0,0],\n",
    "    #row_colors = [dt.bonemarrow.colors.BATCH_PALETTE[i] if i in dt.bonemarrow.colors.BATCH_PALETTE else 'white' for i in order],\n",
    "    #col_colors = [dt.bonemarrow.colors.BATCH_PALETTE[i] for i in piv.columns],\n",
    "    #row_cluster=False, col_cluster = False, square = True,\n",
    "    #square=True,\n",
    "    #z_score=1, \n",
    "    vmin = -0.5, vmax = 1.5,\n",
    "    cbar=False,\n",
    "    cmap = sns.color_palette('Greys', as_cmap=True),\n",
    ")\n",
    "ax[0,0].legend([],[], frameon=False)\n",
    "\n",
    "\n",
    "\n",
    "marginals = (piv.T[' corrected-all'] - piv.T['all']).to_frame(name='corrected_vs_not')\n",
    "marginals['same_batch_vs_not'] = df[df['train_batch'] == df.test_batch].set_index('train_batch').loc[marginals.index]['log_likelihood'] - piv.T['all']\n",
    "marginals = marginals.reset_index().reset_index()\n",
    "marginals['diff'] = marginals['same_batch_vs_not'] - marginals['corrected_vs_not']\n",
    "marginals['baseline'] = 0\n",
    "\n",
    "dot = ax[1,0]\n",
    "for i, row in marginals.iterrows():\n",
    "    \n",
    "    dot.plot(\n",
    "        (i + 0.5,i + 0.5),(row['corrected_vs_not'],row['same_batch_vs_not']),\n",
    "        c = 'red', alpha = 0.3,\n",
    "    )\n",
    "    \n",
    "\n",
    "marginals['index']+=0.5\n",
    "sns.scatterplot(\n",
    "    ax = dot,\n",
    "    data = marginals.drop(columns = ['diff']).melt(id_vars=['index','test_batch'], var_name='class', value_name='logp'),\n",
    "    x = 'index',\n",
    "    y = 'logp',\n",
    "    hue = 'class',\n",
    "    palette=['white','black','slategrey'],\n",
    "    hue_order=['same_batch_vs_not','corrected_vs_not','baseline'],\n",
    "    #dodge=False,\n",
    "    s = 50,\n",
    "    edgecolor = 'black',\n",
    "    linewidth = 0.5,\n",
    ")\n",
    "dot.legend([],[], frameon=False)\n",
    "dot.set_ymargin(0.2)\n",
    "sns.despine()\n",
    "dot.set(ylabel = '',xlabel = '', yticks = [])\n",
    "dot.set_xticklabels(labels = [])\n",
    "\n",
    "summary = piv.fillna(piv.min()).sum(axis=1)\n",
    "summary.name = 'log_likelihood'\n",
    "summary = summary.to_frame()\n",
    "\n",
    "summary['delta_likelihood'] = summary['log_likelihood'] - (np.min(summary['log_likelihood']) - 30)\n",
    "\n",
    "\n",
    "sns.barplot(data=summary.reset_index(), \n",
    "             ax=ax[0,1], y = 'train_batch', \n",
    "             x = 'delta_likelihood',\n",
    "             color = 'lightgrey', edgecolor = 'black',linewidth = 1)\n",
    "             #size = 7)\n",
    "\n",
    "ax[0,1].set_yticklabels(labels = [])\n",
    "ax[0,1].set(ylabel = '', xlabel = '')\n",
    "sns.despine()\n",
    "\n",
    "ax[1,1].axis('off')\n",
    "ax[0,0].spines['right'].set_visible(True)\n",
    "ax[0,0].spines['top'].set_visible(True)\n",
    "ax[0,0].set_yticklabels(labels = piv.index.values)\n",
    "plt.tight_layout()\n",
    "plt.savefig('figure1/RP/total_likelihood.svg')"
   ]
  },
  {
   "cell_type": "code",
   "execution_count": 41,
   "id": "e6f61d9c-a78d-4f2b-84d4-5cacca4cccb0",
   "metadata": {},
   "outputs": [
    {
     "name": "stdout",
     "output_type": "stream",
     "text": [
      "/liulab/alynch/projects/multiomics/DisentanglerReproduction/figure1/RP/total_likelihood.svg\n"
     ]
    }
   ],
   "source": [
    "!realpath figure1/RP/total_likelihood.svg"
   ]
  },
  {
   "cell_type": "code",
   "execution_count": 59,
   "id": "f2bfe78e-d0b9-43cf-9f59-0b1d1f696cbb",
   "metadata": {},
   "outputs": [],
   "source": [
    "batches = list(batch_splits.keys())"
   ]
  },
  {
   "cell_type": "code",
   "execution_count": 60,
   "id": "9f5bd617-883a-4d7a-be3d-ef2fbbaf07e2",
   "metadata": {},
   "outputs": [],
   "source": [
    "corrected_gene_logp = (np.vstack([data_likelihoods[('corrected-all',b)] for b in batches]).sum(0) + np.vstack([model_likelihoods[('corrected-all',b)] for b in batches])[0,:])#/rna_data.var.n_cells_by_counts\n",
    "uncorrected_gene_logp = (np.vstack([data_likelihoods[('all',b)] for b in batches]).sum(0) + np.vstack([model_likelihoods[('all',b)] for b in batches])[0,:])#/rna_data.var.n_cells_by_counts\n",
    "within_batch_logp = np.vstack([data_likelihoods[(b,b)] for b in batches]).sum(0) + np.vstack([model_likelihoods[(b,b)] for b in batches]).sum(0)"
   ]
  },
  {
   "cell_type": "code",
   "execution_count": 61,
   "id": "365e2cff-0d17-413e-90b0-ff8b6eba11e3",
   "metadata": {},
   "outputs": [
    {
     "data": {
      "text/plain": [
       "0.04155213869493089"
      ]
     },
     "execution_count": 61,
     "metadata": {},
     "output_type": "execute_result"
    }
   ],
   "source": [
    "dict(zip(rna_data.var_names, (corrected_gene_logp - uncorrected_gene_logp)/rna_data.var.n_cells_by_counts))['SLC25A37']"
   ]
  },
  {
   "cell_type": "code",
   "execution_count": 62,
   "id": "fc8b5958-ce06-432b-a86b-f1a186239c7f",
   "metadata": {},
   "outputs": [
    {
     "data": {
      "image/png": "[encoded data removed]",
      "text/plain": [
       "<Figure size 72x360 with 1 Axes>"
      ]
     },
     "metadata": {
      "needs_background": "light"
     },
     "output_type": "display_data"
    }
   ],
   "source": [
    "fig, ax = plt.subplots(1,1,figsize=(1,5))\n",
    "sns.histplot(\n",
    "    y = (corrected_gene_logp - uncorrected_gene_logp)/rna_data.var.n_cells_by_counts,\n",
    "    ax = ax,\n",
    "    color = 'lightgrey',\n",
    "    bins=100,\n",
    "    edgecolor = 'black',\n",
    "    fill='black',\n",
    "    linewidth = 0.5\n",
    ")\n",
    "ax.set(xticks = [], ylim = (-0.1, 0.1),\n",
    "      xlabel = '', ylabel = '', yticks = [-0.1, 0, 0.1])\n",
    "for t in ['top','bottom','right']:\n",
    "    ax.spines[t].set_visible(False)\n",
    "    \n",
    "plt.savefig('figure1/RP/RP_likelihood_ratio_nolog.svg')"
   ]
  },
  {
   "cell_type": "code",
   "execution_count": 89,
   "id": "993b9658-e99b-4aad-a443-5c48f6a70901",
   "metadata": {},
   "outputs": [
    {
     "name": "stdout",
     "output_type": "stream",
     "text": [
      "/liulab/alynch/projects/multiomics/DisentanglerReproduction/figure1/RP/RP_likelihood_ratio_nolog.svg\n"
     ]
    }
   ],
   "source": [
    "!realpath figure1/RP/RP_likelihood_ratio_nolog.svg"
   ]
  },
  {
   "cell_type": "markdown",
   "id": "f6266dcc-7d49-4f2c-ac03-267e3d399b9e",
   "metadata": {},
   "source": [
    "### Distance measures:"
   ]
  },
  {
   "cell_type": "code",
   "execution_count": 292,
   "id": "af0d4f17-8f1b-4ec3-b882-f118360adee9",
   "metadata": {},
   "outputs": [],
   "source": [
    "corrected_distances = pd.DataFrame([{'gene' : model.gene, **model.parameters_} for model in corrected_litemodel.models])[['gene','distance_upstream','distance_downstream']]"
   ]
  },
  {
   "cell_type": "code",
   "execution_count": 325,
   "id": "2a32f557-8c51-434a-bd30-374b723f357f",
   "metadata": {},
   "outputs": [],
   "source": [
    "dframes = []\n",
    "for batch in batches + ['all']:\n",
    "    \n",
    "    litemodels = mira.rp.LITE_Model.load_dir(\n",
    "                    expr_model=rna_model,\n",
    "                    accessibility_model=atac_model,\n",
    "                    counts_layer='counts',\n",
    "                    prefix=os.path.join('data/bonemarrow/rp/litemodels_NOBATCH/batches/', batch + '/')\n",
    "            )\n",
    "    \n",
    "    dframes.append(\n",
    "        pd.DataFrame([{'gene' : model.gene, **model.parameters_} for model in litemodels.models])[['gene','distance_upstream','distance_downstream']]\n",
    "    )"
   ]
  },
  {
   "cell_type": "code",
   "execution_count": 334,
   "id": "e1583f96-9d68-493a-b610-8c76a7646fcd",
   "metadata": {},
   "outputs": [],
   "source": [
    "distances = pd.concat([corrected_distances] + dframes, keys= ['corrected'] + batches + ['all']).reset_index().drop(columns = ['level_1'])\\\n",
    "    .rename(columns = {'level_0' : 'batch'})"
   ]
  },
  {
   "cell_type": "code",
   "execution_count": 336,
   "id": "e9f9d1ef-6eea-46b0-af47-4b99279de0a1",
   "metadata": {},
   "outputs": [],
   "source": [
    "distances_up, distances_down = distances.drop(columns = ['distance_downstream']), distances.drop(columns = ['distance_upstream'])"
   ]
  },
  {
   "cell_type": "code",
   "execution_count": 339,
   "id": "451c6194-3131-42ef-8a6a-eccf41b956d4",
   "metadata": {},
   "outputs": [],
   "source": [
    "distances_up = distances_up.pivot(index = 'gene', columns = 'batch',\n",
    "                   values = 'distance_upstream')"
   ]
  },
  {
   "cell_type": "code",
   "execution_count": 340,
   "id": "7af575d3-5104-4917-8135-b44eff82dff4",
   "metadata": {},
   "outputs": [],
   "source": [
    "batch_cols = ['corrected'] + batches + ['all']"
   ]
  },
  {
   "cell_type": "code",
   "execution_count": 342,
   "id": "2d74ba8d-350d-4634-8f3f-4eba88e07351",
   "metadata": {},
   "outputs": [],
   "source": [
    "distances_up['mean_dist'] = distances_up[batch_cols].mean(1)\n",
    "distances_up['std_dist'] = distances_up[batch_cols].std(1)"
   ]
  },
  {
   "cell_type": "code",
   "execution_count": 346,
   "id": "91620e9e-8b61-47b4-b617-f4c702698800",
   "metadata": {},
   "outputs": [],
   "source": [
    "distances_up['dispersion'] = distances_up['std_dist']/distances_up['mean_dist']"
   ]
  },
  {
   "cell_type": "code",
   "execution_count": 347,
   "id": "f714a43c-0d84-4844-8e0c-c26419c30b0a",
   "metadata": {},
   "outputs": [
    {
     "data": {
      "text/html": [
       "<div>\n",
       "<style scoped>\n",
       "    .dataframe tbody tr th:only-of-type {\n",
       "        vertical-align: middle;\n",
       "    }\n",
       "\n",
       "    .dataframe tbody tr th {\n",
       "        vertical-align: top;\n",
       "    }\n",
       "\n",
       "    .dataframe thead th {\n",
       "        text-align: right;\n",
       "    }\n",
       "</style>\n",
       "<table border=\"1\" class=\"dataframe\">\n",
       "  <thead>\n",
       "    <tr style=\"text-align: right;\">\n",
       "      <th>batch</th>\n",
       "      <th>all</th>\n",
       "      <th>corrected</th>\n",
       "      <th>s1d1</th>\n",
       "      <th>s1d2</th>\n",
       "      <th>s1d3</th>\n",
       "      <th>s2d1</th>\n",
       "      <th>s2d4</th>\n",
       "      <th>s2d5</th>\n",
       "      <th>s3d10</th>\n",
       "      <th>s3d3</th>\n",
       "      <th>s3d6</th>\n",
       "      <th>s3d7</th>\n",
       "      <th>s4d1</th>\n",
       "      <th>s4d8</th>\n",
       "      <th>s4d9</th>\n",
       "      <th>mean_dist</th>\n",
       "      <th>std_dist</th>\n",
       "      <th>dispersion</th>\n",
       "    </tr>\n",
       "    <tr>\n",
       "      <th>gene</th>\n",
       "      <th></th>\n",
       "      <th></th>\n",
       "      <th></th>\n",
       "      <th></th>\n",
       "      <th></th>\n",
       "      <th></th>\n",
       "      <th></th>\n",
       "      <th></th>\n",
       "      <th></th>\n",
       "      <th></th>\n",
       "      <th></th>\n",
       "      <th></th>\n",
       "      <th></th>\n",
       "      <th></th>\n",
       "      <th></th>\n",
       "      <th></th>\n",
       "      <th></th>\n",
       "      <th></th>\n",
       "    </tr>\n",
       "  </thead>\n",
       "  <tbody>\n",
       "    <tr>\n",
       "      <th>A2M</th>\n",
       "      <td>30.015533</td>\n",
       "      <td>31.270201</td>\n",
       "      <td>5.710332</td>\n",
       "      <td>4.563600</td>\n",
       "      <td>4.172626</td>\n",
       "      <td>1.543450</td>\n",
       "      <td>6.142056</td>\n",
       "      <td>5.854066</td>\n",
       "      <td>10.902845</td>\n",
       "      <td>3.989770</td>\n",
       "      <td>1.871821</td>\n",
       "      <td>2.141822</td>\n",
       "      <td>3.952744</td>\n",
       "      <td>7.173829</td>\n",
       "      <td>2.399806</td>\n",
       "      <td>8.113633</td>\n",
       "      <td>9.457585</td>\n",
       "      <td>1.165641</td>\n",
       "    </tr>\n",
       "    <tr>\n",
       "      <th>A2M-AS1</th>\n",
       "      <td>38.610119</td>\n",
       "      <td>35.385372</td>\n",
       "      <td>29.166302</td>\n",
       "      <td>32.718029</td>\n",
       "      <td>28.704557</td>\n",
       "      <td>29.065769</td>\n",
       "      <td>27.366901</td>\n",
       "      <td>37.155022</td>\n",
       "      <td>45.664143</td>\n",
       "      <td>37.706966</td>\n",
       "      <td>30.774834</td>\n",
       "      <td>39.717342</td>\n",
       "      <td>32.157829</td>\n",
       "      <td>38.763599</td>\n",
       "      <td>27.567327</td>\n",
       "      <td>34.034939</td>\n",
       "      <td>5.443548</td>\n",
       "      <td>0.159940</td>\n",
       "    </tr>\n",
       "    <tr>\n",
       "      <th>AASS</th>\n",
       "      <td>20.699059</td>\n",
       "      <td>27.142830</td>\n",
       "      <td>6.125457</td>\n",
       "      <td>8.523370</td>\n",
       "      <td>4.225772</td>\n",
       "      <td>3.883069</td>\n",
       "      <td>3.273750</td>\n",
       "      <td>5.483720</td>\n",
       "      <td>12.006299</td>\n",
       "      <td>2.739124</td>\n",
       "      <td>4.052934</td>\n",
       "      <td>3.642506</td>\n",
       "      <td>4.178671</td>\n",
       "      <td>4.231045</td>\n",
       "      <td>3.833761</td>\n",
       "      <td>7.602758</td>\n",
       "      <td>7.138714</td>\n",
       "      <td>0.938964</td>\n",
       "    </tr>\n",
       "    <tr>\n",
       "      <th>ABCA1</th>\n",
       "      <td>201.316681</td>\n",
       "      <td>48.761669</td>\n",
       "      <td>51.570423</td>\n",
       "      <td>46.545231</td>\n",
       "      <td>37.906631</td>\n",
       "      <td>48.549114</td>\n",
       "      <td>22.741913</td>\n",
       "      <td>13.667735</td>\n",
       "      <td>62.345848</td>\n",
       "      <td>41.919693</td>\n",
       "      <td>59.243919</td>\n",
       "      <td>44.333092</td>\n",
       "      <td>93.975136</td>\n",
       "      <td>11.063781</td>\n",
       "      <td>8.613832</td>\n",
       "      <td>52.836979</td>\n",
       "      <td>46.676140</td>\n",
       "      <td>0.883399</td>\n",
       "    </tr>\n",
       "    <tr>\n",
       "      <th>ABCA10</th>\n",
       "      <td>39.604950</td>\n",
       "      <td>44.940659</td>\n",
       "      <td>37.936523</td>\n",
       "      <td>35.121212</td>\n",
       "      <td>37.506672</td>\n",
       "      <td>40.292545</td>\n",
       "      <td>37.962482</td>\n",
       "      <td>28.280659</td>\n",
       "      <td>43.525715</td>\n",
       "      <td>31.374346</td>\n",
       "      <td>34.727020</td>\n",
       "      <td>2.829481</td>\n",
       "      <td>47.066055</td>\n",
       "      <td>47.981441</td>\n",
       "      <td>36.429237</td>\n",
       "      <td>36.371933</td>\n",
       "      <td>10.775792</td>\n",
       "      <td>0.296267</td>\n",
       "    </tr>\n",
       "    <tr>\n",
       "      <th>...</th>\n",
       "      <td>...</td>\n",
       "      <td>...</td>\n",
       "      <td>...</td>\n",
       "      <td>...</td>\n",
       "      <td>...</td>\n",
       "      <td>...</td>\n",
       "      <td>...</td>\n",
       "      <td>...</td>\n",
       "      <td>...</td>\n",
       "      <td>...</td>\n",
       "      <td>...</td>\n",
       "      <td>...</td>\n",
       "      <td>...</td>\n",
       "      <td>...</td>\n",
       "      <td>...</td>\n",
       "      <td>...</td>\n",
       "      <td>...</td>\n",
       "      <td>...</td>\n",
       "    </tr>\n",
       "    <tr>\n",
       "      <th>ZSCAN12</th>\n",
       "      <td>30.980898</td>\n",
       "      <td>35.365982</td>\n",
       "      <td>5.697532</td>\n",
       "      <td>11.062675</td>\n",
       "      <td>6.094059</td>\n",
       "      <td>2.032963</td>\n",
       "      <td>3.642443</td>\n",
       "      <td>2.880465</td>\n",
       "      <td>9.182610</td>\n",
       "      <td>18.670856</td>\n",
       "      <td>10.179763</td>\n",
       "      <td>3.256619</td>\n",
       "      <td>18.337526</td>\n",
       "      <td>4.647245</td>\n",
       "      <td>3.186682</td>\n",
       "      <td>11.014554</td>\n",
       "      <td>10.432138</td>\n",
       "      <td>0.947123</td>\n",
       "    </tr>\n",
       "    <tr>\n",
       "      <th>ZSCAN16-AS1</th>\n",
       "      <td>13.980625</td>\n",
       "      <td>13.129812</td>\n",
       "      <td>5.480386</td>\n",
       "      <td>4.064608</td>\n",
       "      <td>1.643236</td>\n",
       "      <td>2.759020</td>\n",
       "      <td>2.482336</td>\n",
       "      <td>4.157275</td>\n",
       "      <td>2.607968</td>\n",
       "      <td>4.475950</td>\n",
       "      <td>2.513916</td>\n",
       "      <td>3.674109</td>\n",
       "      <td>2.932908</td>\n",
       "      <td>2.910269</td>\n",
       "      <td>3.731824</td>\n",
       "      <td>4.702950</td>\n",
       "      <td>3.722993</td>\n",
       "      <td>0.791629</td>\n",
       "    </tr>\n",
       "    <tr>\n",
       "      <th>ZSCAN30</th>\n",
       "      <td>13.862897</td>\n",
       "      <td>21.574684</td>\n",
       "      <td>2.883743</td>\n",
       "      <td>8.639030</td>\n",
       "      <td>4.033736</td>\n",
       "      <td>5.287654</td>\n",
       "      <td>5.349532</td>\n",
       "      <td>2.456467</td>\n",
       "      <td>7.443970</td>\n",
       "      <td>3.962551</td>\n",
       "      <td>2.674459</td>\n",
       "      <td>3.961910</td>\n",
       "      <td>3.632982</td>\n",
       "      <td>4.506070</td>\n",
       "      <td>2.896948</td>\n",
       "      <td>6.211109</td>\n",
       "      <td>5.186997</td>\n",
       "      <td>0.835116</td>\n",
       "    </tr>\n",
       "    <tr>\n",
       "      <th>ZSCAN5A</th>\n",
       "      <td>19.798170</td>\n",
       "      <td>53.335892</td>\n",
       "      <td>7.986791</td>\n",
       "      <td>2.676261</td>\n",
       "      <td>2.618507</td>\n",
       "      <td>2.456407</td>\n",
       "      <td>2.752911</td>\n",
       "      <td>4.124168</td>\n",
       "      <td>2.403818</td>\n",
       "      <td>2.030299</td>\n",
       "      <td>2.554271</td>\n",
       "      <td>2.565758</td>\n",
       "      <td>1.979949</td>\n",
       "      <td>4.665481</td>\n",
       "      <td>2.849506</td>\n",
       "      <td>7.653212</td>\n",
       "      <td>13.425332</td>\n",
       "      <td>1.754209</td>\n",
       "    </tr>\n",
       "    <tr>\n",
       "      <th>ZSWIM5</th>\n",
       "      <td>19.293570</td>\n",
       "      <td>23.068373</td>\n",
       "      <td>14.915098</td>\n",
       "      <td>26.002745</td>\n",
       "      <td>18.359392</td>\n",
       "      <td>4.437840</td>\n",
       "      <td>3.367207</td>\n",
       "      <td>22.966766</td>\n",
       "      <td>25.001259</td>\n",
       "      <td>4.762781</td>\n",
       "      <td>3.139204</td>\n",
       "      <td>3.025060</td>\n",
       "      <td>11.118515</td>\n",
       "      <td>23.986254</td>\n",
       "      <td>24.633553</td>\n",
       "      <td>15.205174</td>\n",
       "      <td>9.270279</td>\n",
       "      <td>0.609679</td>\n",
       "    </tr>\n",
       "  </tbody>\n",
       "</table>\n",
       "<p>2842 rows × 18 columns</p>\n",
       "</div>"
      ],
      "text/plain": [
       "batch               all  corrected       s1d1       s1d2       s1d3  \\\n",
       "gene                                                                  \n",
       "A2M           30.015533  31.270201   5.710332   4.563600   4.172626   \n",
       "A2M-AS1       38.610119  35.385372  29.166302  32.718029  28.704557   \n",
       "AASS          20.699059  27.142830   6.125457   8.523370   4.225772   \n",
       "ABCA1        201.316681  48.761669  51.570423  46.545231  37.906631   \n",
       "ABCA10        39.604950  44.940659  37.936523  35.121212  37.506672   \n",
       "...                 ...        ...        ...        ...        ...   \n",
       "ZSCAN12       30.980898  35.365982   5.697532  11.062675   6.094059   \n",
       "ZSCAN16-AS1   13.980625  13.129812   5.480386   4.064608   1.643236   \n",
       "ZSCAN30       13.862897  21.574684   2.883743   8.639030   4.033736   \n",
       "ZSCAN5A       19.798170  53.335892   7.986791   2.676261   2.618507   \n",
       "ZSWIM5        19.293570  23.068373  14.915098  26.002745  18.359392   \n",
       "\n",
       "batch             s2d1       s2d4       s2d5      s3d10       s3d3       s3d6  \\\n",
       "gene                                                                            \n",
       "A2M           1.543450   6.142056   5.854066  10.902845   3.989770   1.871821   \n",
       "A2M-AS1      29.065769  27.366901  37.155022  45.664143  37.706966  30.774834   \n",
       "AASS          3.883069   3.273750   5.483720  12.006299   2.739124   4.052934   \n",
       "ABCA1        48.549114  22.741913  13.667735  62.345848  41.919693  59.243919   \n",
       "ABCA10       40.292545  37.962482  28.280659  43.525715  31.374346  34.727020   \n",
       "...                ...        ...        ...        ...        ...        ...   \n",
       "ZSCAN12       2.032963   3.642443   2.880465   9.182610  18.670856  10.179763   \n",
       "ZSCAN16-AS1   2.759020   2.482336   4.157275   2.607968   4.475950   2.513916   \n",
       "ZSCAN30       5.287654   5.349532   2.456467   7.443970   3.962551   2.674459   \n",
       "ZSCAN5A       2.456407   2.752911   4.124168   2.403818   2.030299   2.554271   \n",
       "ZSWIM5        4.437840   3.367207  22.966766  25.001259   4.762781   3.139204   \n",
       "\n",
       "batch             s3d7       s4d1       s4d8       s4d9  mean_dist   std_dist  \\\n",
       "gene                                                                            \n",
       "A2M           2.141822   3.952744   7.173829   2.399806   8.113633   9.457585   \n",
       "A2M-AS1      39.717342  32.157829  38.763599  27.567327  34.034939   5.443548   \n",
       "AASS          3.642506   4.178671   4.231045   3.833761   7.602758   7.138714   \n",
       "ABCA1        44.333092  93.975136  11.063781   8.613832  52.836979  46.676140   \n",
       "ABCA10        2.829481  47.066055  47.981441  36.429237  36.371933  10.775792   \n",
       "...                ...        ...        ...        ...        ...        ...   \n",
       "ZSCAN12       3.256619  18.337526   4.647245   3.186682  11.014554  10.432138   \n",
       "ZSCAN16-AS1   3.674109   2.932908   2.910269   3.731824   4.702950   3.722993   \n",
       "ZSCAN30       3.961910   3.632982   4.506070   2.896948   6.211109   5.186997   \n",
       "ZSCAN5A       2.565758   1.979949   4.665481   2.849506   7.653212  13.425332   \n",
       "ZSWIM5        3.025060  11.118515  23.986254  24.633553  15.205174   9.270279   \n",
       "\n",
       "batch        dispersion  \n",
       "gene                     \n",
       "A2M            1.165641  \n",
       "A2M-AS1        0.159940  \n",
       "AASS           0.938964  \n",
       "ABCA1          0.883399  \n",
       "ABCA10         0.296267  \n",
       "...                 ...  \n",
       "ZSCAN12        0.947123  \n",
       "ZSCAN16-AS1    0.791629  \n",
       "ZSCAN30        0.835116  \n",
       "ZSCAN5A        1.754209  \n",
       "ZSWIM5         0.609679  \n",
       "\n",
       "[2842 rows x 18 columns]"
      ]
     },
     "execution_count": 347,
     "metadata": {},
     "output_type": "execute_result"
    }
   ],
   "source": [
    "distances_up"
   ]
  },
  {
   "cell_type": "code",
   "execution_count": 365,
   "id": "8a2f9220-130f-459c-a506-9cb996c95074",
   "metadata": {},
   "outputs": [],
   "source": [
    "distances_up = distances_up.drop(columns = ['logp']).join(\n",
    "    pd.Series(dict(zip(corrected_litemodel.features, corrected_gene_logp)), name = 'logp')\n",
    ")"
   ]
  },
  {
   "cell_type": "code",
   "execution_count": 98,
   "id": "02622081-94ee-4a76-8eb1-cb16dfe49dcb",
   "metadata": {},
   "outputs": [
    {
     "data": {
      "text/plain": [
       "2841"
      ]
     },
     "execution_count": 98,
     "metadata": {},
     "output_type": "execute_result"
    }
   ],
   "source": [
    "len(corrected_litemodel.features)"
   ]
  },
  {
   "cell_type": "markdown",
   "id": "a3aa528e-800d-4f7c-bf21-c55ca8edd45a",
   "metadata": {},
   "source": [
    "# ISD analysis"
   ]
  },
  {
   "cell_type": "code",
   "execution_count": 2,
   "id": "38412794-23e5-4815-9e0a-3b3fc30ced47",
   "metadata": {},
   "outputs": [],
   "source": [
    "not_corrected = anndata.read_h5ad('data/bonemarrow/rp/not_corrected_ISD.h5ad')\n",
    "corrected = anndata.read_h5ad('data/bonemarrow/rp/corrected_ISD.h5ad')"
   ]
  },
  {
   "cell_type": "code",
   "execution_count": 3,
   "id": "1b4caff8-9d4b-417f-b16a-755edd90e18a",
   "metadata": {},
   "outputs": [
    {
     "name": "stderr",
     "output_type": "stream",
     "text": [
      "/liulab/alynch/projects/batcheffect-env/lib/python3.7/site-packages/sklearn/base.py:338: UserWarning: Trying to unpickle estimator StandardScaler from version 0.23.2 when using version 1.0.2. This might lead to breaking code or invalid results. Use at your own risk. For more info please refer to:\n",
      "https://scikit-learn.org/stable/modules/model_persistence.html#security-maintainability-limitations\n",
      "  UserWarning,\n",
      "/liulab/alynch/projects/batcheffect-env/lib/python3.7/site-packages/sklearn/base.py:338: UserWarning: Trying to unpickle estimator OneHotEncoder from version 0.23.2 when using version 1.0.2. This might lead to breaking code or invalid results. Use at your own risk. For more info please refer to:\n",
      "https://scikit-learn.org/stable/modules/model_persistence.html#security-maintainability-limitations\n",
      "  UserWarning,\n",
      "INFO:mira.topic_model.base:Moving model to CPU for inference.\n",
      "INFO:mira.topic_model.base:Moving model to device: cpu\n"
     ]
    }
   ],
   "source": [
    "rna_model = mira.topics.load_model(dt.bonemarrow.config.MIRA_RNA + '2')"
   ]
  },
  {
   "cell_type": "markdown",
   "id": "f08a6f80-2e5e-48a9-875a-045169a8a397",
   "metadata": {},
   "source": [
    "mira.utils.subset_factors(not_corrected, use_factors=not_corrected.var_names)\n",
    "mira.utils.subset_factors(corrected, use_factors=not_corrected.var_names)"
   ]
  },
  {
   "cell_type": "code",
   "execution_count": 283,
   "id": "1f8ab4c2-59c6-4dd8-9e26-a8e3a4c4ffd4",
   "metadata": {},
   "outputs": [
    {
     "name": "stderr",
     "output_type": "stream",
     "text": [
      "INFO:mira.tools.tf_targeting:Testing with 162 query genes and 2649 background genes, against 1646 factors\n"
     ]
    },
    {
     "data": {
      "application/vnd.jupyter.widget-view+json": {
       "model_id": "2ab25b1457a34df5905f4c390481ae28",
       "version_major": 2,
       "version_minor": 0
      },
      "text/plain": [
       "Testing factors:   0%|          | 0/1646 [00:00<?, ?it/s]"
      ]
     },
     "metadata": {},
     "output_type": "display_data"
    },
    {
     "name": "stderr",
     "output_type": "stream",
     "text": [
      "INFO:mira.tools.tf_targeting:Testing with 162 query genes and 2679 background genes, against 1646 factors\n"
     ]
    },
    {
     "data": {
      "application/vnd.jupyter.widget-view+json": {
       "model_id": "5ff8907e568f42d3b6110db3eda27aaf",
       "version_major": 2,
       "version_minor": 0
      },
      "text/plain": [
       "Testing factors:   0%|          | 0/1646 [00:00<?, ?it/s]"
      ]
     },
     "metadata": {},
     "output_type": "display_data"
    }
   ],
   "source": [
    "isd_nc = pd.DataFrame(mira.tl.driver_TF_test(not_corrected, geneset=rna_model.get_top_genes(3,200)))\n",
    "isd = pd.DataFrame(mira.tl.driver_TF_test(corrected, geneset=rna_model.get_top_genes(3,200)))\n",
    "isd_results = isd_nc.set_index('id').join(isd.set_index('id')['pval'], lsuffix='_notcorrected')"
   ]
  },
  {
   "cell_type": "code",
   "execution_count": 284,
   "id": "e44d8143-da9b-459b-a8e9-8c6bca8732fb",
   "metadata": {},
   "outputs": [],
   "source": [
    "isd_results = isd_results[isd_results.parsed_name.isin(rna_data.var_names)]"
   ]
  },
  {
   "cell_type": "code",
   "execution_count": 285,
   "id": "1f2d06ca-e138-42f8-a467-06d8b7e34dd6",
   "metadata": {},
   "outputs": [
    {
     "data": {
      "text/html": [
       "<div>\n",
       "<style scoped>\n",
       "    .dataframe tbody tr th:only-of-type {\n",
       "        vertical-align: middle;\n",
       "    }\n",
       "\n",
       "    .dataframe tbody tr th {\n",
       "        vertical-align: top;\n",
       "    }\n",
       "\n",
       "    .dataframe thead th {\n",
       "        text-align: right;\n",
       "    }\n",
       "</style>\n",
       "<table border=\"1\" class=\"dataframe\">\n",
       "  <thead>\n",
       "    <tr style=\"text-align: right;\">\n",
       "      <th></th>\n",
       "      <th>name</th>\n",
       "      <th>parsed_name</th>\n",
       "      <th>pval_notcorrected</th>\n",
       "      <th>test_statistic</th>\n",
       "      <th>pval</th>\n",
       "      <th>corrected_significant</th>\n",
       "      <th>notcorrected_significant</th>\n",
       "    </tr>\n",
       "    <tr>\n",
       "      <th>id</th>\n",
       "      <th></th>\n",
       "      <th></th>\n",
       "      <th></th>\n",
       "      <th></th>\n",
       "      <th></th>\n",
       "      <th></th>\n",
       "      <th></th>\n",
       "    </tr>\n",
       "  </thead>\n",
       "  <tbody>\n",
       "    <tr>\n",
       "      <th>MA0140.2</th>\n",
       "      <td>GATA1::TAL1</td>\n",
       "      <td>GATA1</td>\n",
       "      <td>4.618428e-10</td>\n",
       "      <td>275956.0</td>\n",
       "      <td>1.612019e-14</td>\n",
       "      <td>True</td>\n",
       "      <td>True</td>\n",
       "    </tr>\n",
       "    <tr>\n",
       "      <th>MA0035.4</th>\n",
       "      <td>GATA1</td>\n",
       "      <td>GATA1</td>\n",
       "      <td>3.292210e-03</td>\n",
       "      <td>241812.0</td>\n",
       "      <td>1.015366e-05</td>\n",
       "      <td>True</td>\n",
       "      <td>False</td>\n",
       "    </tr>\n",
       "    <tr>\n",
       "      <th>MA0036.3</th>\n",
       "      <td>GATA2</td>\n",
       "      <td>GATA2</td>\n",
       "      <td>5.758575e-04</td>\n",
       "      <td>247165.0</td>\n",
       "      <td>1.386494e-05</td>\n",
       "      <td>True</td>\n",
       "      <td>False</td>\n",
       "    </tr>\n",
       "    <tr>\n",
       "      <th>MA0091.1</th>\n",
       "      <td>TAL1::TCF3</td>\n",
       "      <td>TAL1</td>\n",
       "      <td>3.024109e-02</td>\n",
       "      <td>233393.0</td>\n",
       "      <td>2.149880e-05</td>\n",
       "      <td>True</td>\n",
       "      <td>False</td>\n",
       "    </tr>\n",
       "    <tr>\n",
       "      <th>MA0037.3</th>\n",
       "      <td>GATA3</td>\n",
       "      <td>GATA3</td>\n",
       "      <td>1.567771e-03</td>\n",
       "      <td>244189.0</td>\n",
       "      <td>4.909124e-05</td>\n",
       "      <td>True</td>\n",
       "      <td>False</td>\n",
       "    </tr>\n",
       "    <tr>\n",
       "      <th>MA1124.1</th>\n",
       "      <td>ZNF24</td>\n",
       "      <td>ZNF24</td>\n",
       "      <td>2.196316e-02</td>\n",
       "      <td>234773.5</td>\n",
       "      <td>1.787666e-04</td>\n",
       "      <td>False</td>\n",
       "      <td>False</td>\n",
       "    </tr>\n",
       "    <tr>\n",
       "      <th>MA0729.1</th>\n",
       "      <td>RARA</td>\n",
       "      <td>RARA</td>\n",
       "      <td>1.089951e-03</td>\n",
       "      <td>245298.0</td>\n",
       "      <td>2.577278e-04</td>\n",
       "      <td>False</td>\n",
       "      <td>False</td>\n",
       "    </tr>\n",
       "    <tr>\n",
       "      <th>MA0025.2</th>\n",
       "      <td>NFIL3</td>\n",
       "      <td>NFIL3</td>\n",
       "      <td>1.487316e-01</td>\n",
       "      <td>225017.0</td>\n",
       "      <td>5.228701e-04</td>\n",
       "      <td>False</td>\n",
       "      <td>False</td>\n",
       "    </tr>\n",
       "    <tr>\n",
       "      <th>MA1702.1</th>\n",
       "      <td>PDP1</td>\n",
       "      <td>PDP1</td>\n",
       "      <td>4.001175e-02</td>\n",
       "      <td>232123.0</td>\n",
       "      <td>8.467387e-04</td>\n",
       "      <td>False</td>\n",
       "      <td>False</td>\n",
       "    </tr>\n",
       "    <tr>\n",
       "      <th>MA0065.2</th>\n",
       "      <td>PPARG::RXRA</td>\n",
       "      <td>PPARG</td>\n",
       "      <td>4.801015e-04</td>\n",
       "      <td>247681.0</td>\n",
       "      <td>9.956273e-04</td>\n",
       "      <td>False</td>\n",
       "      <td>False</td>\n",
       "    </tr>\n",
       "    <tr>\n",
       "      <th>MA0100.3</th>\n",
       "      <td>MYB</td>\n",
       "      <td>MYB</td>\n",
       "      <td>2.610696e-02</td>\n",
       "      <td>234036.0</td>\n",
       "      <td>1.041639e-03</td>\n",
       "      <td>False</td>\n",
       "      <td>False</td>\n",
       "    </tr>\n",
       "    <tr>\n",
       "      <th>MA0770.1</th>\n",
       "      <td>HSF2</td>\n",
       "      <td>HSF2</td>\n",
       "      <td>5.311609e-03</td>\n",
       "      <td>240186.0</td>\n",
       "      <td>1.069997e-03</td>\n",
       "      <td>False</td>\n",
       "      <td>False</td>\n",
       "    </tr>\n",
       "    <tr>\n",
       "      <th>MA0470.2</th>\n",
       "      <td>E2F4</td>\n",
       "      <td>E2F4</td>\n",
       "      <td>1.415119e-03</td>\n",
       "      <td>243858.0</td>\n",
       "      <td>2.167856e-03</td>\n",
       "      <td>False</td>\n",
       "      <td>False</td>\n",
       "    </tr>\n",
       "    <tr>\n",
       "      <th>MA0754.1</th>\n",
       "      <td>CUX1</td>\n",
       "      <td>CUX1</td>\n",
       "      <td>9.647798e-02</td>\n",
       "      <td>227572.0</td>\n",
       "      <td>3.089256e-03</td>\n",
       "      <td>False</td>\n",
       "      <td>False</td>\n",
       "    </tr>\n",
       "    <tr>\n",
       "      <th>MA0043.3</th>\n",
       "      <td>HLF</td>\n",
       "      <td>HLF</td>\n",
       "      <td>1.117334e-01</td>\n",
       "      <td>226776.0</td>\n",
       "      <td>3.493504e-03</td>\n",
       "      <td>False</td>\n",
       "      <td>False</td>\n",
       "    </tr>\n",
       "    <tr>\n",
       "      <th>MA0486.2</th>\n",
       "      <td>HSF1</td>\n",
       "      <td>HSF1</td>\n",
       "      <td>9.894896e-02</td>\n",
       "      <td>227478.0</td>\n",
       "      <td>5.329651e-03</td>\n",
       "      <td>False</td>\n",
       "      <td>False</td>\n",
       "    </tr>\n",
       "    <tr>\n",
       "      <th>MA1531.1</th>\n",
       "      <td>NR1D1</td>\n",
       "      <td>NR1D1</td>\n",
       "      <td>4.813081e-02</td>\n",
       "      <td>231247.0</td>\n",
       "      <td>7.067253e-03</td>\n",
       "      <td>False</td>\n",
       "      <td>False</td>\n",
       "    </tr>\n",
       "    <tr>\n",
       "      <th>MA0501.1</th>\n",
       "      <td>MAF::NFE2</td>\n",
       "      <td>MAF</td>\n",
       "      <td>1.236854e-01</td>\n",
       "      <td>226169.0</td>\n",
       "      <td>8.270189e-03</td>\n",
       "      <td>False</td>\n",
       "      <td>False</td>\n",
       "    </tr>\n",
       "    <tr>\n",
       "      <th>MA1579.1</th>\n",
       "      <td>ZBTB26</td>\n",
       "      <td>ZBTB26</td>\n",
       "      <td>3.776791e-01</td>\n",
       "      <td>217694.0</td>\n",
       "      <td>9.263034e-03</td>\n",
       "      <td>False</td>\n",
       "      <td>False</td>\n",
       "    </tr>\n",
       "    <tr>\n",
       "      <th>MA1148.1</th>\n",
       "      <td>PPARA::RXRA</td>\n",
       "      <td>PPARA</td>\n",
       "      <td>7.558944e-03</td>\n",
       "      <td>238932.0</td>\n",
       "      <td>1.005294e-02</td>\n",
       "      <td>False</td>\n",
       "      <td>False</td>\n",
       "    </tr>\n",
       "  </tbody>\n",
       "</table>\n",
       "</div>"
      ],
      "text/plain": [
       "                 name parsed_name  pval_notcorrected  test_statistic  \\\n",
       "id                                                                     \n",
       "MA0140.2  GATA1::TAL1       GATA1       4.618428e-10        275956.0   \n",
       "MA0035.4        GATA1       GATA1       3.292210e-03        241812.0   \n",
       "MA0036.3        GATA2       GATA2       5.758575e-04        247165.0   \n",
       "MA0091.1   TAL1::TCF3        TAL1       3.024109e-02        233393.0   \n",
       "MA0037.3        GATA3       GATA3       1.567771e-03        244189.0   \n",
       "MA1124.1        ZNF24       ZNF24       2.196316e-02        234773.5   \n",
       "MA0729.1         RARA        RARA       1.089951e-03        245298.0   \n",
       "MA0025.2        NFIL3       NFIL3       1.487316e-01        225017.0   \n",
       "MA1702.1         PDP1        PDP1       4.001175e-02        232123.0   \n",
       "MA0065.2  PPARG::RXRA       PPARG       4.801015e-04        247681.0   \n",
       "MA0100.3          MYB         MYB       2.610696e-02        234036.0   \n",
       "MA0770.1         HSF2        HSF2       5.311609e-03        240186.0   \n",
       "MA0470.2         E2F4        E2F4       1.415119e-03        243858.0   \n",
       "MA0754.1         CUX1        CUX1       9.647798e-02        227572.0   \n",
       "MA0043.3          HLF         HLF       1.117334e-01        226776.0   \n",
       "MA0486.2         HSF1        HSF1       9.894896e-02        227478.0   \n",
       "MA1531.1        NR1D1       NR1D1       4.813081e-02        231247.0   \n",
       "MA0501.1    MAF::NFE2         MAF       1.236854e-01        226169.0   \n",
       "MA1579.1       ZBTB26      ZBTB26       3.776791e-01        217694.0   \n",
       "MA1148.1  PPARA::RXRA       PPARA       7.558944e-03        238932.0   \n",
       "\n",
       "                  pval  corrected_significant  notcorrected_significant  \n",
       "id                                                                       \n",
       "MA0140.2  1.612019e-14                   True                      True  \n",
       "MA0035.4  1.015366e-05                   True                     False  \n",
       "MA0036.3  1.386494e-05                   True                     False  \n",
       "MA0091.1  2.149880e-05                   True                     False  \n",
       "MA0037.3  4.909124e-05                   True                     False  \n",
       "MA1124.1  1.787666e-04                  False                     False  \n",
       "MA0729.1  2.577278e-04                  False                     False  \n",
       "MA0025.2  5.228701e-04                  False                     False  \n",
       "MA1702.1  8.467387e-04                  False                     False  \n",
       "MA0065.2  9.956273e-04                  False                     False  \n",
       "MA0100.3  1.041639e-03                  False                     False  \n",
       "MA0770.1  1.069997e-03                  False                     False  \n",
       "MA0470.2  2.167856e-03                  False                     False  \n",
       "MA0754.1  3.089256e-03                  False                     False  \n",
       "MA0043.3  3.493504e-03                  False                     False  \n",
       "MA0486.2  5.329651e-03                  False                     False  \n",
       "MA1531.1  7.067253e-03                  False                     False  \n",
       "MA0501.1  8.270189e-03                  False                     False  \n",
       "MA1579.1  9.263034e-03                  False                     False  \n",
       "MA1148.1  1.005294e-02                  False                     False  "
      ]
     },
     "execution_count": 285,
     "metadata": {},
     "output_type": "execute_result"
    }
   ],
   "source": [
    "isd_results['corrected_significant'] = isd_results.pval < (0.05/len(isd_results))\n",
    "isd_results['notcorrected_significant'] = isd_results.pval_notcorrected < (0.05/len(isd_results))\n",
    "isd_results.sort_values('pval').head(20)"
   ]
  },
  {
   "cell_type": "code",
   "execution_count": 286,
   "id": "363054fb-ac3b-4b7d-a3e7-a98fdff8c071",
   "metadata": {},
   "outputs": [
    {
     "data": {
      "text/plain": [
       "name                            KLF1\n",
       "pval_notcorrected           0.050631\n",
       "test_statistic              231003.0\n",
       "pval                         0.16381\n",
       "corrected_significant          False\n",
       "notcorrected_significant       False\n",
       "Name: KLF1, dtype: object"
      ]
     },
     "execution_count": 286,
     "metadata": {},
     "output_type": "execute_result"
    }
   ],
   "source": [
    "isd_results.set_index('parsed_name').loc['KLF1']"
   ]
  },
  {
   "cell_type": "code",
   "execution_count": 310,
   "id": "07f3544a-51fd-4953-bb29-61375ac63f9d",
   "metadata": {},
   "outputs": [
    {
     "data": {
      "text/plain": [
       "name\n",
       "GATA1         4.993377\n",
       "GATA2         4.858082\n",
       "TAL1::TCF3    4.667586\n",
       "GATA3         4.308996\n",
       "Name: pval, dtype: float64"
      ]
     },
     "execution_count": 310,
     "metadata": {},
     "output_type": "execute_result"
    }
   ],
   "source": [
    "-np.log10(isd_results[isd_results.corrected_significant & ~isd_results.notcorrected_significant].sort_values('pval').set_index('name').pval)"
   ]
  },
  {
   "cell_type": "code",
   "execution_count": 288,
   "id": "ea920f29-60c0-43fc-959e-0c19aad2214e",
   "metadata": {},
   "outputs": [
    {
     "data": {
      "text/html": [
       "<div>\n",
       "<style scoped>\n",
       "    .dataframe tbody tr th:only-of-type {\n",
       "        vertical-align: middle;\n",
       "    }\n",
       "\n",
       "    .dataframe tbody tr th {\n",
       "        vertical-align: top;\n",
       "    }\n",
       "\n",
       "    .dataframe thead th {\n",
       "        text-align: right;\n",
       "    }\n",
       "</style>\n",
       "<table border=\"1\" class=\"dataframe\">\n",
       "  <thead>\n",
       "    <tr style=\"text-align: right;\">\n",
       "      <th></th>\n",
       "      <th>name</th>\n",
       "      <th>parsed_name</th>\n",
       "      <th>pval_notcorrected</th>\n",
       "      <th>test_statistic</th>\n",
       "      <th>pval</th>\n",
       "      <th>corrected_significant</th>\n",
       "      <th>notcorrected_significant</th>\n",
       "    </tr>\n",
       "    <tr>\n",
       "      <th>id</th>\n",
       "      <th></th>\n",
       "      <th></th>\n",
       "      <th></th>\n",
       "      <th></th>\n",
       "      <th></th>\n",
       "      <th></th>\n",
       "      <th></th>\n",
       "    </tr>\n",
       "  </thead>\n",
       "  <tbody>\n",
       "  </tbody>\n",
       "</table>\n",
       "</div>"
      ],
      "text/plain": [
       "Empty DataFrame\n",
       "Columns: [name, parsed_name, pval_notcorrected, test_statistic, pval, corrected_significant, notcorrected_significant]\n",
       "Index: []"
      ]
     },
     "execution_count": 288,
     "metadata": {},
     "output_type": "execute_result"
    }
   ],
   "source": [
    "isd_results[isd_results.notcorrected_significant & ~isd_results.corrected_significant]"
   ]
  },
  {
   "cell_type": "code",
   "execution_count": 289,
   "id": "899035bf-259a-4c8b-b271-3b5b714b2cb1",
   "metadata": {},
   "outputs": [
    {
     "data": {
      "text/html": [
       "<div>\n",
       "<style scoped>\n",
       "    .dataframe tbody tr th:only-of-type {\n",
       "        vertical-align: middle;\n",
       "    }\n",
       "\n",
       "    .dataframe tbody tr th {\n",
       "        vertical-align: top;\n",
       "    }\n",
       "\n",
       "    .dataframe thead th {\n",
       "        text-align: right;\n",
       "    }\n",
       "</style>\n",
       "<table border=\"1\" class=\"dataframe\">\n",
       "  <thead>\n",
       "    <tr style=\"text-align: right;\">\n",
       "      <th></th>\n",
       "      <th>name</th>\n",
       "      <th>parsed_name</th>\n",
       "      <th>pval_notcorrected</th>\n",
       "      <th>test_statistic</th>\n",
       "      <th>pval</th>\n",
       "      <th>corrected_significant</th>\n",
       "      <th>notcorrected_significant</th>\n",
       "      <th>pval_diff</th>\n",
       "    </tr>\n",
       "    <tr>\n",
       "      <th>id</th>\n",
       "      <th></th>\n",
       "      <th></th>\n",
       "      <th></th>\n",
       "      <th></th>\n",
       "      <th></th>\n",
       "      <th></th>\n",
       "      <th></th>\n",
       "      <th></th>\n",
       "    </tr>\n",
       "  </thead>\n",
       "  <tbody>\n",
       "    <tr>\n",
       "      <th>MA0140.2</th>\n",
       "      <td>GATA1::TAL1</td>\n",
       "      <td>GATA1</td>\n",
       "      <td>4.618428e-10</td>\n",
       "      <td>275956.0</td>\n",
       "      <td>1.612019e-14</td>\n",
       "      <td>True</td>\n",
       "      <td>True</td>\n",
       "      <td>-4.457124</td>\n",
       "    </tr>\n",
       "    <tr>\n",
       "      <th>MA0091.1</th>\n",
       "      <td>TAL1::TCF3</td>\n",
       "      <td>TAL1</td>\n",
       "      <td>3.024109e-02</td>\n",
       "      <td>233393.0</td>\n",
       "      <td>2.149880e-05</td>\n",
       "      <td>True</td>\n",
       "      <td>False</td>\n",
       "      <td>-3.148183</td>\n",
       "    </tr>\n",
       "    <tr>\n",
       "      <th>MA0035.4</th>\n",
       "      <td>GATA1</td>\n",
       "      <td>GATA1</td>\n",
       "      <td>3.292210e-03</td>\n",
       "      <td>241812.0</td>\n",
       "      <td>1.015366e-05</td>\n",
       "      <td>True</td>\n",
       "      <td>False</td>\n",
       "      <td>-2.510865</td>\n",
       "    </tr>\n",
       "    <tr>\n",
       "      <th>MA0025.2</th>\n",
       "      <td>NFIL3</td>\n",
       "      <td>NFIL3</td>\n",
       "      <td>1.487316e-01</td>\n",
       "      <td>225017.0</td>\n",
       "      <td>5.228701e-04</td>\n",
       "      <td>False</td>\n",
       "      <td>False</td>\n",
       "      <td>-2.454009</td>\n",
       "    </tr>\n",
       "    <tr>\n",
       "      <th>MA1124.1</th>\n",
       "      <td>ZNF24</td>\n",
       "      <td>ZNF24</td>\n",
       "      <td>2.196316e-02</td>\n",
       "      <td>234773.5</td>\n",
       "      <td>1.787666e-04</td>\n",
       "      <td>False</td>\n",
       "      <td>False</td>\n",
       "      <td>-2.089408</td>\n",
       "    </tr>\n",
       "    <tr>\n",
       "      <th>MA1702.1</th>\n",
       "      <td>PDP1</td>\n",
       "      <td>PDP1</td>\n",
       "      <td>4.001175e-02</td>\n",
       "      <td>232123.0</td>\n",
       "      <td>8.467387e-04</td>\n",
       "      <td>False</td>\n",
       "      <td>False</td>\n",
       "      <td>-1.674438</td>\n",
       "    </tr>\n",
       "    <tr>\n",
       "      <th>MA0036.3</th>\n",
       "      <td>GATA2</td>\n",
       "      <td>GATA2</td>\n",
       "      <td>5.758575e-04</td>\n",
       "      <td>247165.0</td>\n",
       "      <td>1.386494e-05</td>\n",
       "      <td>True</td>\n",
       "      <td>False</td>\n",
       "      <td>-1.618397</td>\n",
       "    </tr>\n",
       "    <tr>\n",
       "      <th>MA1579.1</th>\n",
       "      <td>ZBTB26</td>\n",
       "      <td>ZBTB26</td>\n",
       "      <td>3.776791e-01</td>\n",
       "      <td>217694.0</td>\n",
       "      <td>9.263034e-03</td>\n",
       "      <td>False</td>\n",
       "      <td>False</td>\n",
       "      <td>-1.610370</td>\n",
       "    </tr>\n",
       "    <tr>\n",
       "      <th>MA0043.3</th>\n",
       "      <td>HLF</td>\n",
       "      <td>HLF</td>\n",
       "      <td>1.117334e-01</td>\n",
       "      <td>226776.0</td>\n",
       "      <td>3.493504e-03</td>\n",
       "      <td>False</td>\n",
       "      <td>False</td>\n",
       "      <td>-1.504922</td>\n",
       "    </tr>\n",
       "    <tr>\n",
       "      <th>MA0037.3</th>\n",
       "      <td>GATA3</td>\n",
       "      <td>GATA3</td>\n",
       "      <td>1.567771e-03</td>\n",
       "      <td>244189.0</td>\n",
       "      <td>4.909124e-05</td>\n",
       "      <td>True</td>\n",
       "      <td>False</td>\n",
       "      <td>-1.504279</td>\n",
       "    </tr>\n",
       "    <tr>\n",
       "      <th>MA0754.1</th>\n",
       "      <td>CUX1</td>\n",
       "      <td>CUX1</td>\n",
       "      <td>9.647798e-02</td>\n",
       "      <td>227572.0</td>\n",
       "      <td>3.089256e-03</td>\n",
       "      <td>False</td>\n",
       "      <td>False</td>\n",
       "      <td>-1.494574</td>\n",
       "    </tr>\n",
       "    <tr>\n",
       "      <th>MA0100.3</th>\n",
       "      <td>MYB</td>\n",
       "      <td>MYB</td>\n",
       "      <td>2.610696e-02</td>\n",
       "      <td>234036.0</td>\n",
       "      <td>1.041639e-03</td>\n",
       "      <td>False</td>\n",
       "      <td>False</td>\n",
       "      <td>-1.399039</td>\n",
       "    </tr>\n",
       "    <tr>\n",
       "      <th>MA0486.2</th>\n",
       "      <td>HSF1</td>\n",
       "      <td>HSF1</td>\n",
       "      <td>9.894896e-02</td>\n",
       "      <td>227478.0</td>\n",
       "      <td>5.329651e-03</td>\n",
       "      <td>False</td>\n",
       "      <td>False</td>\n",
       "      <td>-1.268712</td>\n",
       "    </tr>\n",
       "    <tr>\n",
       "      <th>MA0501.1</th>\n",
       "      <td>MAF::NFE2</td>\n",
       "      <td>MAF</td>\n",
       "      <td>1.236854e-01</td>\n",
       "      <td>226169.0</td>\n",
       "      <td>8.270189e-03</td>\n",
       "      <td>False</td>\n",
       "      <td>False</td>\n",
       "      <td>-1.174803</td>\n",
       "    </tr>\n",
       "    <tr>\n",
       "      <th>MA1531.1</th>\n",
       "      <td>NR1D1</td>\n",
       "      <td>NR1D1</td>\n",
       "      <td>4.813081e-02</td>\n",
       "      <td>231247.0</td>\n",
       "      <td>7.067253e-03</td>\n",
       "      <td>False</td>\n",
       "      <td>False</td>\n",
       "      <td>-0.833173</td>\n",
       "    </tr>\n",
       "    <tr>\n",
       "      <th>MA0770.1</th>\n",
       "      <td>HSF2</td>\n",
       "      <td>HSF2</td>\n",
       "      <td>5.311609e-03</td>\n",
       "      <td>240186.0</td>\n",
       "      <td>1.069997e-03</td>\n",
       "      <td>False</td>\n",
       "      <td>False</td>\n",
       "      <td>-0.695843</td>\n",
       "    </tr>\n",
       "    <tr>\n",
       "      <th>MA0729.1</th>\n",
       "      <td>RARA</td>\n",
       "      <td>RARA</td>\n",
       "      <td>1.089951e-03</td>\n",
       "      <td>245298.0</td>\n",
       "      <td>2.577278e-04</td>\n",
       "      <td>False</td>\n",
       "      <td>False</td>\n",
       "      <td>-0.626246</td>\n",
       "    </tr>\n",
       "    <tr>\n",
       "      <th>MA0470.2</th>\n",
       "      <td>E2F4</td>\n",
       "      <td>E2F4</td>\n",
       "      <td>1.415119e-03</td>\n",
       "      <td>243858.0</td>\n",
       "      <td>2.167856e-03</td>\n",
       "      <td>False</td>\n",
       "      <td>False</td>\n",
       "      <td>0.185237</td>\n",
       "    </tr>\n",
       "    <tr>\n",
       "      <th>MA0065.2</th>\n",
       "      <td>PPARG::RXRA</td>\n",
       "      <td>PPARG</td>\n",
       "      <td>4.801015e-04</td>\n",
       "      <td>247681.0</td>\n",
       "      <td>9.956273e-04</td>\n",
       "      <td>False</td>\n",
       "      <td>False</td>\n",
       "      <td>0.316764</td>\n",
       "    </tr>\n",
       "  </tbody>\n",
       "</table>\n",
       "</div>"
      ],
      "text/plain": [
       "                 name parsed_name  pval_notcorrected  test_statistic  \\\n",
       "id                                                                     \n",
       "MA0140.2  GATA1::TAL1       GATA1       4.618428e-10        275956.0   \n",
       "MA0091.1   TAL1::TCF3        TAL1       3.024109e-02        233393.0   \n",
       "MA0035.4        GATA1       GATA1       3.292210e-03        241812.0   \n",
       "MA0025.2        NFIL3       NFIL3       1.487316e-01        225017.0   \n",
       "MA1124.1        ZNF24       ZNF24       2.196316e-02        234773.5   \n",
       "MA1702.1         PDP1        PDP1       4.001175e-02        232123.0   \n",
       "MA0036.3        GATA2       GATA2       5.758575e-04        247165.0   \n",
       "MA1579.1       ZBTB26      ZBTB26       3.776791e-01        217694.0   \n",
       "MA0043.3          HLF         HLF       1.117334e-01        226776.0   \n",
       "MA0037.3        GATA3       GATA3       1.567771e-03        244189.0   \n",
       "MA0754.1         CUX1        CUX1       9.647798e-02        227572.0   \n",
       "MA0100.3          MYB         MYB       2.610696e-02        234036.0   \n",
       "MA0486.2         HSF1        HSF1       9.894896e-02        227478.0   \n",
       "MA0501.1    MAF::NFE2         MAF       1.236854e-01        226169.0   \n",
       "MA1531.1        NR1D1       NR1D1       4.813081e-02        231247.0   \n",
       "MA0770.1         HSF2        HSF2       5.311609e-03        240186.0   \n",
       "MA0729.1         RARA        RARA       1.089951e-03        245298.0   \n",
       "MA0470.2         E2F4        E2F4       1.415119e-03        243858.0   \n",
       "MA0065.2  PPARG::RXRA       PPARG       4.801015e-04        247681.0   \n",
       "\n",
       "                  pval  corrected_significant  notcorrected_significant  \\\n",
       "id                                                                        \n",
       "MA0140.2  1.612019e-14                   True                      True   \n",
       "MA0091.1  2.149880e-05                   True                     False   \n",
       "MA0035.4  1.015366e-05                   True                     False   \n",
       "MA0025.2  5.228701e-04                  False                     False   \n",
       "MA1124.1  1.787666e-04                  False                     False   \n",
       "MA1702.1  8.467387e-04                  False                     False   \n",
       "MA0036.3  1.386494e-05                   True                     False   \n",
       "MA1579.1  9.263034e-03                  False                     False   \n",
       "MA0043.3  3.493504e-03                  False                     False   \n",
       "MA0037.3  4.909124e-05                   True                     False   \n",
       "MA0754.1  3.089256e-03                  False                     False   \n",
       "MA0100.3  1.041639e-03                  False                     False   \n",
       "MA0486.2  5.329651e-03                  False                     False   \n",
       "MA0501.1  8.270189e-03                  False                     False   \n",
       "MA1531.1  7.067253e-03                  False                     False   \n",
       "MA0770.1  1.069997e-03                  False                     False   \n",
       "MA0729.1  2.577278e-04                  False                     False   \n",
       "MA0470.2  2.167856e-03                  False                     False   \n",
       "MA0065.2  9.956273e-04                  False                     False   \n",
       "\n",
       "          pval_diff  \n",
       "id                   \n",
       "MA0140.2  -4.457124  \n",
       "MA0091.1  -3.148183  \n",
       "MA0035.4  -2.510865  \n",
       "MA0025.2  -2.454009  \n",
       "MA1124.1  -2.089408  \n",
       "MA1702.1  -1.674438  \n",
       "MA0036.3  -1.618397  \n",
       "MA1579.1  -1.610370  \n",
       "MA0043.3  -1.504922  \n",
       "MA0037.3  -1.504279  \n",
       "MA0754.1  -1.494574  \n",
       "MA0100.3  -1.399039  \n",
       "MA0486.2  -1.268712  \n",
       "MA0501.1  -1.174803  \n",
       "MA1531.1  -0.833173  \n",
       "MA0770.1  -0.695843  \n",
       "MA0729.1  -0.626246  \n",
       "MA0470.2   0.185237  \n",
       "MA0065.2   0.316764  "
      ]
     },
     "execution_count": 289,
     "metadata": {},
     "output_type": "execute_result"
    }
   ],
   "source": [
    "isd_results['pval_diff'] = np.log10(isd_results['pval']) - np.log10(isd_results['pval_notcorrected'])\n",
    "isd_results[isd_results.pval < 1e-2].sort_values('pval_diff').head(20)"
   ]
  },
  {
   "cell_type": "code",
   "execution_count": 290,
   "id": "d09c4eca-b03b-47dd-ba27-7023275436ef",
   "metadata": {},
   "outputs": [],
   "source": [
    "isd_results['significant'] = isd_results.notcorrected_significant | isd_results.corrected_significant"
   ]
  },
  {
   "cell_type": "code",
   "execution_count": 307,
   "id": "83c18fa6-164d-41e9-9cd6-794c11cda62f",
   "metadata": {},
   "outputs": [
    {
     "data": {
      "image/png": "[encoded data removed]",
      "text/plain": [
       "<Figure size 216x216 with 1 Axes>"
      ]
     },
     "metadata": {
      "needs_background": "light"
     },
     "output_type": "display_data"
    }
   ],
   "source": [
    "fig, ax = plt.subplots(1,1,figsize=(3,3))\n",
    "\n",
    "sns.lineplot(\n",
    "    x = [1,1e-13],y =[1, 1e-13],\n",
    "    dashes = True,\n",
    "    color= 'lightgrey',\n",
    "    linewidth = 1.,\n",
    "    linestyle='--'\n",
    ")\n",
    "\n",
    "\n",
    "sns.scatterplot(\n",
    "    ax = ax,\n",
    "    data = isd_results,\n",
    "    x = 'pval',\n",
    "    y = 'pval_notcorrected',\n",
    "    hue = 'significant',\n",
    "    palette=['lightgrey','black',],\n",
    "    size = 'corrected_significant',\n",
    "    sizes=[5,20],\n",
    "    legend=False,\n",
    "    edgecolor= None,\n",
    ")\n",
    "\n",
    "\n",
    "\n",
    "sns.despine()\n",
    "ax.axis('equal')\n",
    "ax.set_aspect('equal')\n",
    "ax.invert_xaxis()\n",
    "ax.invert_yaxis()\n",
    "ax.set(yscale = 'log', xscale = 'log', xlabel = '', ylabel = '',\n",
    "      xticks = [0.1, 0.001, 0.00001, 0.0000000001],\n",
    "      yticks = [0.1, 0.001, 0.00001, 0.0000000001])\n",
    "\n",
    "plt.savefig('figure1/RP/isd_pryoerythroblast_comparison.svg', dpi = 300, bbox_inches = 'tight')"
   ]
  },
  {
   "cell_type": "code",
   "execution_count": 303,
   "id": "c4f75c5d-6b43-43b7-a188-4b00a2ec2a09",
   "metadata": {},
   "outputs": [
    {
     "name": "stdout",
     "output_type": "stream",
     "text": [
      "/liulab/alynch/projects/multiomics/DisentanglerReproduction/figure1/RP/isd_pryoerythroblast_comparison.png\n"
     ]
    }
   ],
   "source": [
    "!realpath figure1/RP/isd_pryoerythroblast_comparison.png"
   ]
  },
  {
   "cell_type": "code",
   "execution_count": 293,
   "id": "81b58684-b51b-4fde-8456-8e9772af58bb",
   "metadata": {},
   "outputs": [],
   "source": [
    "from mira.plots.base import map_plot, plot_umap, map_colors"
   ]
  },
  {
   "cell_type": "code",
   "execution_count": 314,
   "id": "a8722836-bf6c-44b0-85b7-51aa2e86d808",
   "metadata": {},
   "outputs": [
    {
     "data": {
      "image/png": "[encoded data removed]",
      "text/plain": [
       "<Figure size 288x288 with 1 Axes>"
      ]
     },
     "metadata": {
      "needs_background": "light"
     },
     "output_type": "display_data"
    }
   ],
   "source": [
    "def topic_umap(ax, topic):\n",
    "    \n",
    "    ax = plot_umap(\n",
    "        rna_data.obsm['X_umap'],\n",
    "        rna_data.obs_vector(topic),\n",
    "        palette=sns.color_palette('light:black', as_cmap=True),\n",
    "        figsize=(5,5),\n",
    "        size = 0.5,\n",
    "        add_legend=False,\n",
    "        ax = ax,\n",
    "        title = None,#'Topic ' + topic.split('_')[-1],\n",
    "        edgecolor = None,\n",
    "        linewidth = 0.\n",
    "    )\n",
    "    ax.set_xmargin(0.2)\n",
    "    ax.set_xmargin(0.2)\n",
    "\n",
    "fig, ax=plt.subplots(1,1,figsize=(4,4))\n",
    "topic_umap(ax, 'GATA1')\n",
    "#plt.savefig('figure1/RP/TAL1_expression.png', bbox_inches = 'tight', dpi = 300)"
   ]
  },
  {
   "cell_type": "code",
   "execution_count": 326,
   "id": "956b8a7d-80e0-4d4d-9ba3-cb2abb40d2ad",
   "metadata": {},
   "outputs": [
    {
     "name": "stdout",
     "output_type": "stream",
     "text": [
      "Naive CD20+ B CD14+ Mono CD8+ T CD16+ Mono B1 B Lymph prog CD4+ T naive CD4+ T activated Erythroblast NK Transitional B ILC Normoblast G/M prog MK/E prog HSC pDC ID2-hi myeloid prog Proerythroblast Plasma cell cDC2 CD8+ T naive\n"
     ]
    }
   ],
   "source": [
    "print(*rna_data.obs.cell_type.unique())"
   ]
  },
  {
   "cell_type": "code",
   "execution_count": 335,
   "id": "2bcaff69-beb1-4386-aefd-839f88145325",
   "metadata": {},
   "outputs": [],
   "source": [
    "rna_data.obs['celltypes_of_interest'] = np.where(\n",
    "    rna_data.obs.cell_type.isin(['Erythroblast','Normoblast','Proerythroblast','MK/E prog','HSC']),\n",
    "    rna_data.obs.cell_type.values,\n",
    "    'Other'\n",
    ")"
   ]
  },
  {
   "cell_type": "code",
   "execution_count": 342,
   "id": "671d4270-5e6c-4412-bd13-cd410cc65fda",
   "metadata": {},
   "outputs": [
    {
     "data": {
      "image/png": "[encoded data removed]",
      "text/plain": [
       "<Figure size 241.2x223.2 with 4 Axes>"
      ]
     },
     "metadata": {
      "needs_background": "light"
     },
     "output_type": "display_data"
    }
   ],
   "source": [
    "sc.pl.dotplot(rna_data, \n",
    "              ['GATA3','GATA2','TCF3','GATA1','TAL1',],\n",
    "              groupby='celltypes_of_interest',\n",
    "              cmap='Greys',\n",
    "              show=False,\n",
    "              categories_order = ['Normoblast','Erythroblast','Proerythroblast','MK/E prog','HSC','Other',][::-1]\n",
    "             )\n",
    "plt.savefig('figure1/RP/TF_expression.svg')"
   ]
  },
  {
   "cell_type": "code",
   "execution_count": 79,
   "id": "fe6f1d06-9bac-4bd5-9839-5354dad5c39f",
   "metadata": {},
   "outputs": [],
   "source": [
    "rna_data = dt.bonemarrow.utils.load_GEX_data()\n",
    "\n",
    "rna_model.predict(rna_data)\n",
    "\n",
    "rna_model.get_umap_features(rna_data, box_cox=0.1)\n",
    "\n",
    "sc.pp.neighbors(rna_data, use_rep = 'X_umap_features', metric = 'manhattan')\n",
    "sc.tl.umap(rna_data, min_dist = 0.1, negative_sample_rate = 3)\n",
    "\n",
    "umap_coors = rna_data.obsm['X_umap'].copy()\n",
    "\n",
    "del rna_data\n",
    "\n",
    "from disentangler.bonemarrow import config\n",
    "\n",
    "data = sc.read_h5ad(config.RAW_DATA)\n",
    "rna_data = data[:, data.var.feature_types == 'GEX'].copy()\n",
    "del data\n",
    "sc.pp.calculate_qc_metrics(rna_data, inplace=True, log1p=False)\n",
    "\n",
    "sc.pp.filter_cells(rna_data, min_genes = 400)\n",
    "sc.pp.filter_genes(rna_data, min_cells=30)\n",
    "sc.pp.normalize_total(rna_data, target_sum=1e4)\n",
    "sc.pp.log1p(rna_data)\n",
    "\n",
    "sc.pp.highly_variable_genes(rna_data, min_disp= 0.3)\n",
    "rna_data.var['exog'] = rna_data.var.highly_variable.copy()\n",
    "\n",
    "rna_data.obsm['X_umap'] = umap_coors.copy()"
   ]
  },
  {
   "cell_type": "code",
   "execution_count": null,
   "id": "23c100cc-0310-4481-bb75-b18c239859c3",
   "metadata": {},
   "outputs": [],
   "source": []
  }
 ],
 "metadata": {
  "kernelspec": {
   "display_name": "batcheffect-env",
   "language": "python",
   "name": "batcheffect-env"
  },
  "language_info": {
   "codemirror_mode": {
    "name": "ipython",
    "version": 3
   },
   "file_extension": ".py",
   "mimetype": "text/x-python",
   "name": "python",
   "nbconvert_exporter": "python",
   "pygments_lexer": "ipython3",
   "version": "3.7.12"
  }
 },
 "nbformat": 4,
 "nbformat_minor": 5
}
