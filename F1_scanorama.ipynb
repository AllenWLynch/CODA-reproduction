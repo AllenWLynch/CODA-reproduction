{
 "cells": [
  {
   "cell_type": "code",
   "execution_count": 1,
   "id": "179c0c12-ffa3-48ba-a4ee-acf221353ec2",
   "metadata": {},
   "outputs": [],
   "source": [
    "import scanorama\n",
    "from scipy import sparse \n",
    "import numpy as np\n",
    "import os"
   ]
  },
  {
   "cell_type": "code",
   "execution_count": 2,
   "id": "6952e35e-8deb-45ca-8cc7-9d228d30ce1d",
   "metadata": {},
   "outputs": [
    {
     "data": {
      "text/plain": [
       "'1.7.2'"
      ]
     },
     "execution_count": 2,
     "metadata": {},
     "output_type": "execute_result"
    }
   ],
   "source": [
    "scanorama.__version__"
   ]
  },
  {
   "cell_type": "code",
   "execution_count": 2,
   "id": "16cd6ca7-e08e-4775-aa1e-669f9095bc0f",
   "metadata": {},
   "outputs": [],
   "source": [
    "_dir = 'data/bonemarrow/scanorama/'"
   ]
  },
  {
   "cell_type": "code",
   "execution_count": 9,
   "id": "6fad74cf-cefa-451b-be73-3c44f624d934",
   "metadata": {},
   "outputs": [
    {
     "name": "stdout",
     "output_type": "stream",
     "text": [
      "bcs\n",
      "genes.txt\n",
      "mats\n"
     ]
    }
   ],
   "source": [
    "!ls $_dir | sort -V"
   ]
  },
  {
   "cell_type": "code",
   "execution_count": 4,
   "id": "e5b24a27-23c3-4ccc-a642-ae83a0686122",
   "metadata": {},
   "outputs": [],
   "source": [
    "mats = [\n",
    "        sparse.load_npz(os.path.join(_dir, 'mats','mat_{}.npz'.format(str(i))))\n",
    "        for i in range(13)\n",
    "]"
   ]
  },
  {
   "cell_type": "code",
   "execution_count": 15,
   "id": "5b212de0-6772-424d-ae1c-f171cd571bf3",
   "metadata": {},
   "outputs": [],
   "source": [
    "bcs = []\n",
    "for i in range(13):\n",
    "    with open(os.path.join(_dir, 'bcs', 'bcs_{}.txt'.format(str(i))), 'r') as f:\n",
    "        bcs.extend([x.strip() for x in f.readlines()])"
   ]
  },
  {
   "cell_type": "code",
   "execution_count": 18,
   "id": "3eb55f25-1244-4bb1-94a9-5b6d432ba66f",
   "metadata": {},
   "outputs": [],
   "source": [
    "with open(os.path.join(_dir, 'genes.txt'), 'r') as f:\n",
    "    genes = [x.strip() for x in f.readlines()]"
   ]
  },
  {
   "cell_type": "code",
   "execution_count": 24,
   "id": "6f8e26bb-26b7-48a0-87bc-9774cf89fef8",
   "metadata": {},
   "outputs": [
    {
     "name": "stdout",
     "output_type": "stream",
     "text": [
      "Found 3452 genes among all datasets\n",
      "[[0.         0.68971718 0.61771672 0.41971496 0.16452919 0.07502044\n",
      "  0.08565259 0.08272947 0.02939481 0.05182744 0.10519105 0.12648569\n",
      "  0.08046647]\n",
      " [0.         0.         0.81193747 0.27125891 0.06581168 0.16598528\n",
      "  0.0878119  0.14613527 0.05129683 0.04823247 0.09879738 0.23198826\n",
      "  0.11632653]\n",
      " [0.         0.         0.         0.20356295 0.14779725 0.0558054\n",
      "  0.07077735 0.07910628 0.05417867 0.04358898 0.07271435 0.24467077\n",
      "  0.13323615]\n",
      " [0.         0.         0.         0.         0.44489311 0.50960752\n",
      "  0.34584323 0.16062802 0.10605187 0.35510689 0.20688836 0.06650831\n",
      "  0.01428571]\n",
      " [0.         0.         0.         0.         0.         0.17968111\n",
      "  0.38243762 0.18719807 0.21498559 0.31665668 0.14883564 0.05653054\n",
      "  0.02069971]\n",
      " [0.         0.         0.         0.         0.         0.\n",
      "  0.48855274 0.17753623 0.17463977 0.44399019 0.13450531 0.02350777\n",
      "  0.00145773]\n",
      " [0.         0.         0.         0.         0.         0.\n",
      "  0.         0.5821256  0.43631124 0.64731286 0.25335893 0.10868522\n",
      "  0.00911708]\n",
      " [0.         0.         0.         0.         0.         0.\n",
      "  0.         0.         0.43599034 0.647343   0.10507246 0.06702899\n",
      "  0.00362319]\n",
      " [0.         0.         0.         0.         0.         0.\n",
      "  0.         0.         0.         0.55273775 0.12391931 0.05302594\n",
      "  0.        ]\n",
      " [0.         0.         0.         0.         0.         0.\n",
      "  0.         0.         0.         0.         0.43888556 0.1527861\n",
      "  0.01282799]\n",
      " [0.         0.         0.         0.         0.         0.\n",
      "  0.         0.         0.         0.         0.         0.56781854\n",
      "  0.30699708]\n",
      " [0.         0.         0.         0.         0.         0.\n",
      "  0.         0.         0.         0.         0.         0.\n",
      "  0.85072886]\n",
      " [0.         0.         0.         0.         0.         0.\n",
      "  0.         0.         0.         0.         0.         0.\n",
      "  0.        ]]\n",
      "Processing datasets (11, 12)\n",
      "Processing datasets (1, 2)\n",
      "Processing datasets (0, 1)\n",
      "Processing datasets (7, 9)\n",
      "Processing datasets (6, 9)\n",
      "Processing datasets (0, 2)\n",
      "Processing datasets (6, 7)\n",
      "Processing datasets (10, 11)\n",
      "Processing datasets (8, 9)\n",
      "Processing datasets (3, 5)\n",
      "Processing datasets (5, 6)\n",
      "Processing datasets (3, 4)\n",
      "Processing datasets (5, 9)\n",
      "Processing datasets (9, 10)\n",
      "Processing datasets (6, 8)\n",
      "Processing datasets (7, 8)\n",
      "Processing datasets (0, 3)\n",
      "Processing datasets (4, 6)\n",
      "Processing datasets (3, 9)\n",
      "Processing datasets (3, 6)\n",
      "Processing datasets (4, 9)\n",
      "Processing datasets (10, 12)\n",
      "Processing datasets (1, 3)\n",
      "Processing datasets (6, 10)\n",
      "Processing datasets (2, 11)\n",
      "Processing datasets (1, 11)\n",
      "Processing datasets (4, 8)\n",
      "Processing datasets (3, 10)\n",
      "Processing datasets (2, 3)\n",
      "Processing datasets (4, 7)\n",
      "Processing datasets (4, 5)\n",
      "Processing datasets (5, 7)\n",
      "Processing datasets (5, 8)\n",
      "Processing datasets (1, 5)\n",
      "Processing datasets (0, 4)\n",
      "Processing datasets (3, 7)\n",
      "Processing datasets (9, 11)\n",
      "Processing datasets (4, 10)\n",
      "Processing datasets (2, 4)\n",
      "Processing datasets (1, 7)\n",
      "Processing datasets (5, 10)\n",
      "Processing datasets (2, 12)\n",
      "Processing datasets (0, 11)\n",
      "Processing datasets (8, 10)\n",
      "Processing datasets (1, 12)\n",
      "Processing datasets (6, 11)\n",
      "Processing datasets (3, 8)\n",
      "Processing datasets (0, 10)\n",
      "Processing datasets (7, 10)\n"
     ]
    }
   ],
   "source": [
    "outs = scanorama.correct(mats, [genes for i in range(len(mats))], return_dimred=True)"
   ]
  },
  {
   "cell_type": "code",
   "execution_count": 33,
   "id": "f8d9adde-a29f-414b-8dda-a5bceae7880a",
   "metadata": {},
   "outputs": [],
   "source": [
    "import pandas as pd"
   ]
  },
  {
   "cell_type": "code",
   "execution_count": 36,
   "id": "c416bf91-0510-4428-8091-7e3699f7f4d4",
   "metadata": {},
   "outputs": [],
   "source": [
    "pd.DataFrame(np.vstack(outs[0]), index = bcs).to_csv(\n",
    "    os.path.join(_dir, 'scanorama_dimred.tsv'), sep = '\\t'\n",
    "                )"
   ]
  }
 ],
 "metadata": {
  "kernelspec": {
   "display_name": "scanorama",
   "language": "python",
   "name": "scanorama"
  },
  "language_info": {
   "codemirror_mode": {
    "name": "ipython",
    "version": 3
   },
   "file_extension": ".py",
   "mimetype": "text/x-python",
   "name": "python",
   "nbconvert_exporter": "python",
   "pygments_lexer": "ipython3",
   "version": "3.7.0"
  }
 },
 "nbformat": 4,
 "nbformat_minor": 5
}
