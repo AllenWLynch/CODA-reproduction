{
 "cells": [
  {
   "cell_type": "code",
   "execution_count": 1,
   "id": "c68ce275-5e90-4989-8882-335561d21c7c",
   "metadata": {},
   "outputs": [],
   "source": [
    "import disentangler as dt\n",
    "from disentangler.dependencies import *"
   ]
  },
  {
   "cell_type": "markdown",
   "id": "95f22bcb-4b43-4b1e-a75b-b4888cd95b63",
   "metadata": {},
   "source": [
    "## Model without correction"
   ]
  },
  {
   "cell_type": "code",
   "execution_count": 2,
   "id": "b9c25ec1-d883-45f0-8a20-25b918cfb0ac",
   "metadata": {},
   "outputs": [],
   "source": [
    "rna_data, atac_data = dt.bonemarrow.utils.load_GEX_data(), dt.bonemarrow.utils.load_ATAC_data()"
   ]
  },
  {
   "cell_type": "code",
   "execution_count": 3,
   "id": "b0730f04-4510-4751-a070-4c093a5337a0",
   "metadata": {},
   "outputs": [
    {
     "name": "stderr",
     "output_type": "stream",
     "text": [
      "INFO:mira.topic_model.base:Moving model to CPU for inference.\n",
      "INFO:mira.topic_model.base:Moving model to device: cpu\n",
      "/liulab/alynch/projects/batcheffect-env/lib/python3.7/site-packages/sklearn/base.py:334: UserWarning: Trying to unpickle estimator StandardScaler from version 0.24.2 when using version 0.23.2. This might lead to breaking code or invalid results. Use at your own risk.\n",
      "  UserWarning)\n",
      "/liulab/alynch/projects/batcheffect-env/lib/python3.7/site-packages/sklearn/base.py:334: UserWarning: Trying to unpickle estimator OneHotEncoder from version 0.24.2 when using version 0.23.2. This might lead to breaking code or invalid results. Use at your own risk.\n",
      "  UserWarning)\n",
      "INFO:mira.topic_model.base:Moving model to CPU for inference.\n",
      "INFO:mira.topic_model.base:Moving model to device: cpu\n"
     ]
    }
   ],
   "source": [
    "rna_model = mira.topics.load_model(dt.bonemarrow.config.MIRA_RNA_NO_CORRECTION)\n",
    "atac_model = mira.topics.load_model(dt.bonemarrow.config.MIRA_ATAC_NO_CORRECTION)"
   ]
  },
  {
   "cell_type": "code",
   "execution_count": 5,
   "id": "6efccd87-ef73-4ea6-8e4e-1ca395981a67",
   "metadata": {},
   "outputs": [
    {
     "data": {
      "application/vnd.jupyter.widget-view+json": {
       "model_id": "5cd283e09e444fb6a33f2b5484390ff1",
       "version_major": 2,
       "version_minor": 0
      },
      "text/plain": [
       "Predicting latent vars:   0%|          | 0/263 [00:00<?, ?it/s]"
      ]
     },
     "metadata": {},
     "output_type": "display_data"
    },
    {
     "name": "stderr",
     "output_type": "stream",
     "text": [
      "INFO:mira.adata_interface.core:Added key to obsm: X_topic_compositions\n",
      "INFO:mira.adata_interface.topic_model:Added cols: topic_0, topic_1, topic_2, topic_3, topic_4, topic_5, topic_6, topic_7, topic_8, topic_9, topic_10, topic_11, topic_12, topic_13, topic_14, topic_15, topic_16, topic_17, topic_18, topic_19, topic_20, topic_21, topic_22, topic_23, topic_24, topic_25, topic_26, topic_27, topic_28, topic_29, topic_30\n",
      "INFO:mira.adata_interface.core:Added key to varm: topic_feature_compositions\n",
      "INFO:mira.adata_interface.core:Added key to varm: topic_feature_activations\n"
     ]
    },
    {
     "data": {
      "application/vnd.jupyter.widget-view+json": {
       "model_id": "8d85cfa5db2c4041aec1eadd6e70c951",
       "version_major": 2,
       "version_minor": 0
      },
      "text/plain": [
       "Predicting latent vars:   0%|          | 0/247 [00:00<?, ?it/s]"
      ]
     },
     "metadata": {},
     "output_type": "display_data"
    },
    {
     "name": "stderr",
     "output_type": "stream",
     "text": [
      "INFO:mira.adata_interface.core:Added key to obsm: X_topic_compositions\n",
      "INFO:mira.adata_interface.topic_model:Added cols: topic_0, topic_1, topic_2, topic_3, topic_4, topic_5, topic_6, topic_7, topic_8, topic_9, topic_10, topic_11, topic_12, topic_13, topic_14, topic_15, topic_16, topic_17, topic_18, topic_19, topic_20, topic_21, topic_22, topic_23, topic_24, topic_25\n",
      "INFO:mira.adata_interface.core:Added key to varm: topic_feature_compositions\n",
      "INFO:mira.adata_interface.core:Added key to varm: topic_feature_activations\n"
     ]
    }
   ],
   "source": [
    "atac_model.predict(atac_data)\n",
    "rna_model.predict(rna_data)"
   ]
  },
  {
   "cell_type": "code",
   "execution_count": 6,
   "id": "9aa84d33-6c35-429c-9b7b-b958e3d76438",
   "metadata": {},
   "outputs": [],
   "source": [
    "atac_model.get_umap_features(atac_data, box_cox=0.2)\n",
    "rna_model.get_umap_features(rna_data, box_cox=0.2)\n",
    "\n",
    "rna_data, atac_data = mira.utils.make_joint_representation(rna_data, atac_data)"
   ]
  },
  {
   "cell_type": "code",
   "execution_count": 8,
   "id": "5e448ed0-84ae-4f8a-85bb-73c71b753350",
   "metadata": {},
   "outputs": [],
   "source": [
    "rp_args = dict(\n",
    "    expr_adata = rna_data,\n",
    "    atac_adata = atac_data,\n",
    ")"
   ]
  },
  {
   "cell_type": "code",
   "execution_count": 13,
   "id": "c7d9e90a-b3c5-499f-b5b9-01abbbd984c7",
   "metadata": {},
   "outputs": [],
   "source": [
    "atac_data.var[['chr','start','end']] = \\\n",
    "    list(map(list, atac_data.var_names.str.split('-')))"
   ]
  },
  {
   "cell_type": "code",
   "execution_count": 14,
   "id": "f5afac43-b585-4853-a08f-1e49e7a02f7f",
   "metadata": {},
   "outputs": [
    {
     "name": "stderr",
     "output_type": "stream",
     "text": [
      "WARNING:mira.tools.connect_genes_peaks:22 regions encounted from unknown chromsomes: GL000205.2,GL000195.1,GL000219.1,KI270726.1,KI270713.1\n",
      "INFO:mira.tools.connect_genes_peaks:Finding peak intersections with promoters ...\n",
      "INFO:mira.tools.connect_genes_peaks:Calculating distances between peaks and TSS ...\n",
      "INFO:mira.tools.connect_genes_peaks:Masking other genes' promoters ...\n",
      "INFO:mira.adata_interface.rp_model:Added key to var: distance_to_TSS\n",
      "INFO:mira.adata_interface.rp_model:Added key to uns: distance_to_TSS_genes\n"
     ]
    }
   ],
   "source": [
    "mira.tl.get_distance_to_TSS(atac_data,\n",
    "                            tss_data = 'data/bonemarrow/hg38_tss_data.bed12.filtered',\n",
    "                            genome_file= 'data/bonemarrow/hg38.chrom.sizes'\n",
    "                           )"
   ]
  },
  {
   "cell_type": "code",
   "execution_count": 11,
   "id": "a5d68715-91ae-4040-8d2c-86558a92434f",
   "metadata": {},
   "outputs": [],
   "source": [
    "litemodel = mira.rp.LITE_Model.load_dir(\n",
    "    expr_model=rna_model,\n",
    "    accessibility_model=atac_model,\n",
    "    counts_layer='counts',\n",
    "    prefix = 'data/bonemarrow/rp/litemodels_NOBATCH/'\n",
    ")"
   ]
  },
  {
   "cell_type": "code",
   "execution_count": 12,
   "id": "674f36c5-ec08-437f-ae01-4c60a94995c3",
   "metadata": {},
   "outputs": [
    {
     "name": "stderr",
     "output_type": "stream",
     "text": [
      "INFO:mira.adata_interface.core:Added cols to obs: model_read_scale\n",
      "INFO:mira.adata_interface.topic_model:Fetching key X_topic_compositions from obsm\n"
     ]
    },
    {
     "data": {
      "application/vnd.jupyter.widget-view+json": {
       "model_id": "6cedc8a133984b47835d1d8ffe4c21ed",
       "version_major": 2,
       "version_minor": 0
      },
      "text/plain": [
       "Calculating softmax summary data:   0%|          | 0/239 [00:00<?, ?it/s]"
      ]
     },
     "metadata": {},
     "output_type": "display_data"
    },
    {
     "name": "stderr",
     "output_type": "stream",
     "text": [
      "INFO:mira.adata_interface.core:Added cols to obs: softmax_denom\n",
      "INFO:mira.adata_interface.topic_model:Fetching key X_topic_compositions from obsm\n"
     ]
    },
    {
     "data": {
      "application/vnd.jupyter.widget-view+json": {
       "model_id": "b6f0f066416b4262adb02228f201c9cc",
       "version_major": 2,
       "version_minor": 0
      },
      "text/plain": [
       "Calculating softmax summary data:   0%|          | 0/239 [00:00<?, ?it/s]"
      ]
     },
     "metadata": {},
     "output_type": "display_data"
    },
    {
     "name": "stderr",
     "output_type": "stream",
     "text": [
      "INFO:mira.adata_interface.core:Added cols to obs: softmax_denom\n"
     ]
    },
    {
     "data": {
      "application/vnd.jupyter.widget-view+json": {
       "model_id": "e431b8a668934dea8b68931fdc3ac9c9",
       "version_major": 2,
       "version_minor": 0
      },
      "text/plain": [
       "Predicting expression:   0%|          | 0/2813 [00:00<?, ?it/s]"
      ]
     },
     "metadata": {},
     "output_type": "display_data"
    },
    {
     "name": "stderr",
     "output_type": "stream",
     "text": [
      "INFO:mira.adata_interface.core:Added layer: LITE_prediction\n",
      "INFO:mira.adata_interface.core:Added layer: LITE_logp\n"
     ]
    }
   ],
   "source": [
    "litemodel.predict(**rp_args)"
   ]
  },
  {
   "cell_type": "code",
   "execution_count": 13,
   "id": "7e2eca23-868b-48d6-9372-f4bd858e046b",
   "metadata": {},
   "outputs": [],
   "source": [
    "rna_data.layers['NOBATCH_LITE_logp'] = rna_data.layers['LITE_logp'].copy()\n",
    "rna_data.layers['NOBATCH_LITE_prediction'] = rna_data.layers['LITE_prediction'].copy()"
   ]
  },
  {
   "cell_type": "code",
   "execution_count": 14,
   "id": "6182f07d-cd17-4a31-bf4b-7d00633d92b6",
   "metadata": {},
   "outputs": [],
   "source": [
    "del rna_data.obs['model_read_scale'], rna_data.obs['softmax_denom'], atac_data.obs['softmax_denom']"
   ]
  },
  {
   "cell_type": "code",
   "execution_count": 15,
   "id": "dfb5756a-e897-4333-9c57-b95845ec307d",
   "metadata": {},
   "outputs": [],
   "source": [
    "del rna_data.obsm['X_topic_compositions'], atac_data.obsm['X_topic_compositions']"
   ]
  },
  {
   "cell_type": "markdown",
   "id": "440bf430-679c-4340-85fd-dd225aa681c8",
   "metadata": {},
   "source": [
    "## Using disentangled models"
   ]
  },
  {
   "cell_type": "code",
   "execution_count": 3,
   "id": "85066257-177e-4313-8a0e-af574c455557",
   "metadata": {},
   "outputs": [
    {
     "name": "stderr",
     "output_type": "stream",
     "text": [
      "INFO:mira.topic_model.base:Moving model to CPU for inference.\n",
      "INFO:mira.topic_model.base:Moving model to device: cpu\n",
      "/liulab/alynch/projects/batcheffect-env/lib/python3.7/site-packages/sklearn/base.py:334: UserWarning: Trying to unpickle estimator StandardScaler from version 0.24.2 when using version 0.23.2. This might lead to breaking code or invalid results. Use at your own risk.\n",
      "  UserWarning)\n",
      "/liulab/alynch/projects/batcheffect-env/lib/python3.7/site-packages/sklearn/base.py:334: UserWarning: Trying to unpickle estimator OneHotEncoder from version 0.24.2 when using version 0.23.2. This might lead to breaking code or invalid results. Use at your own risk.\n",
      "  UserWarning)\n",
      "INFO:mira.topic_model.base:Moving model to CPU for inference.\n",
      "INFO:mira.topic_model.base:Moving model to device: cpu\n"
     ]
    },
    {
     "data": {
      "application/vnd.jupyter.widget-view+json": {
       "model_id": "09856a68fded4435a83ee8541f56b696",
       "version_major": 2,
       "version_minor": 0
      },
      "text/plain": [
       "Predicting latent vars:   0%|          | 0/263 [00:00<?, ?it/s]"
      ]
     },
     "metadata": {},
     "output_type": "display_data"
    },
    {
     "name": "stderr",
     "output_type": "stream",
     "text": [
      "INFO:mira.adata_interface.core:Added key to obsm: X_topic_compositions\n",
      "INFO:mira.adata_interface.topic_model:Added cols: topic_0, topic_1, topic_2, topic_3, topic_4, topic_5, topic_6, topic_7, topic_8, topic_9, topic_10, topic_11, topic_12, topic_13, topic_14, topic_15, topic_16, topic_17, topic_18, topic_19, topic_20, topic_21, topic_22, topic_23, topic_24\n",
      "INFO:mira.adata_interface.core:Added key to varm: topic_feature_compositions\n",
      "INFO:mira.adata_interface.core:Added key to varm: topic_feature_activations\n"
     ]
    },
    {
     "data": {
      "application/vnd.jupyter.widget-view+json": {
       "model_id": "debbcdafcceb4cc6b57e07bd21004af4",
       "version_major": 2,
       "version_minor": 0
      },
      "text/plain": [
       "Predicting latent vars:   0%|          | 0/247 [00:00<?, ?it/s]"
      ]
     },
     "metadata": {},
     "output_type": "display_data"
    },
    {
     "name": "stderr",
     "output_type": "stream",
     "text": [
      "INFO:mira.adata_interface.core:Added key to obsm: X_topic_compositions\n",
      "INFO:mira.adata_interface.topic_model:Added cols: topic_0, topic_1, topic_2, topic_3, topic_4, topic_5, topic_6, topic_7, topic_8, topic_9, topic_10, topic_11, topic_12, topic_13, topic_14, topic_15, topic_16, topic_17, topic_18, topic_19, topic_20, topic_21\n",
      "INFO:mira.adata_interface.core:Added key to varm: topic_feature_compositions\n",
      "INFO:mira.adata_interface.core:Added key to varm: topic_feature_activations\n"
     ]
    }
   ],
   "source": [
    "rna_model = mira.topics.load_model(dt.bonemarrow.config.MIRA_RNA + '2')\n",
    "atac_model = mira.topics.load_model(dt.bonemarrow.config.MIRA_ATAC)\n",
    "atac_model.predict(atac_data)\n",
    "rna_model.predict(rna_data)"
   ]
  },
  {
   "cell_type": "code",
   "execution_count": 4,
   "id": "23aaae31-aa60-44d0-b014-a0c6d3dbebac",
   "metadata": {},
   "outputs": [],
   "source": [
    "corrected_litemodel = mira.rp.LITE_Model.load_dir(\n",
    "    expr_model=rna_model,\n",
    "    accessibility_model=atac_model,\n",
    "    counts_layer='counts',\n",
    "    prefix = 'data/bonemarrow/rp/litemodels_adjusted//'\n",
    ")"
   ]
  },
  {
   "cell_type": "code",
   "execution_count": 5,
   "id": "4884241e-5be7-4bb9-a30d-124129fef31b",
   "metadata": {},
   "outputs": [],
   "source": [
    "from scipy import sparse"
   ]
  },
  {
   "cell_type": "code",
   "execution_count": 6,
   "id": "daada00b-a777-40a5-8aed-9422ee8a633f",
   "metadata": {},
   "outputs": [],
   "source": [
    "rna_data.layers['batch_effect'] = sparse.csc_matrix(rna_data.shape)"
   ]
  },
  {
   "cell_type": "code",
   "execution_count": 10,
   "id": "0fa938da-1322-4533-9934-03a3d8d6cb2d",
   "metadata": {},
   "outputs": [
    {
     "name": "stderr",
     "output_type": "stream",
     "text": [
      "INFO:mira.adata_interface.topic_model:Fetching key X_topic_compositions from obsm\n",
      "INFO:mira.adata_interface.core:Added key to obsm: X_umap_features\n",
      "INFO:mira.adata_interface.topic_model:Fetching key X_topic_compositions from obsm\n",
      "INFO:mira.adata_interface.core:Added key to obsm: X_umap_features\n",
      "WARNING:mira.adata_interface.utils:Some cells are not shared between views. Returned adatas will be subset copies\n",
      "INFO:mira.adata_interface.utils:61127 out of 69076 cells shared between datasets (88%).\n",
      "INFO:mira.adata_interface.utils:Key added to obsm: X_joint_umap_features\n"
     ]
    }
   ],
   "source": [
    "atac_model.get_umap_features(atac_data, box_cox=0.2)\n",
    "rna_model.get_umap_features(rna_data, box_cox=0.2)\n",
    "\n",
    "rna_data, atac_data = mira.utils.make_joint_representation(rna_data, atac_data)"
   ]
  },
  {
   "cell_type": "code",
   "execution_count": 11,
   "id": "6acfc4bb-c4de-41fd-bd64-a23b9705d9f3",
   "metadata": {},
   "outputs": [],
   "source": [
    "rp_args = dict(\n",
    "    expr_adata = rna_data,\n",
    "    atac_adata = atac_data,\n",
    ")"
   ]
  },
  {
   "cell_type": "code",
   "execution_count": 15,
   "id": "0cea5a2d-0443-49f2-95fe-7f3756f9d513",
   "metadata": {},
   "outputs": [
    {
     "name": "stderr",
     "output_type": "stream",
     "text": [
      "INFO:mira.adata_interface.core:Added cols to obs: model_read_scale\n",
      "INFO:mira.adata_interface.topic_model:Fetching key X_topic_compositions from obsm\n"
     ]
    },
    {
     "data": {
      "application/vnd.jupyter.widget-view+json": {
       "model_id": "e580057cf14b4a368edd0a5bfae32309",
       "version_major": 2,
       "version_minor": 0
      },
      "text/plain": [
       "Calculating softmax summary data:   0%|          | 0/239 [00:00<?, ?it/s]"
      ]
     },
     "metadata": {},
     "output_type": "display_data"
    },
    {
     "name": "stderr",
     "output_type": "stream",
     "text": [
      "INFO:mira.adata_interface.core:Added cols to obs: softmax_denom\n",
      "INFO:mira.adata_interface.topic_model:Fetching key X_topic_compositions from obsm\n"
     ]
    },
    {
     "data": {
      "application/vnd.jupyter.widget-view+json": {
       "model_id": "88f566da1d9d4ce9b543d75ef68a7251",
       "version_major": 2,
       "version_minor": 0
      },
      "text/plain": [
       "Calculating softmax summary data:   0%|          | 0/239 [00:00<?, ?it/s]"
      ]
     },
     "metadata": {},
     "output_type": "display_data"
    },
    {
     "name": "stderr",
     "output_type": "stream",
     "text": [
      "INFO:mira.adata_interface.core:Added cols to obs: softmax_denom\n"
     ]
    },
    {
     "data": {
      "application/vnd.jupyter.widget-view+json": {
       "model_id": "606fe85f0da842738b5bb6667675d6ab",
       "version_major": 2,
       "version_minor": 0
      },
      "text/plain": [
       "Predicting expression:   0%|          | 0/2841 [00:00<?, ?it/s]"
      ]
     },
     "metadata": {},
     "output_type": "display_data"
    },
    {
     "name": "stderr",
     "output_type": "stream",
     "text": [
      "INFO:mira.adata_interface.core:Added layer: LITE_prediction\n",
      "INFO:mira.adata_interface.core:Added layer: LITE_logp\n"
     ]
    }
   ],
   "source": [
    "corrected_litemodel.predict(**rp_args)"
   ]
  },
  {
   "cell_type": "code",
   "execution_count": null,
   "id": "77669d52-898b-4c59-ae77-5eb321046d2f",
   "metadata": {},
   "outputs": [],
   "source": []
  },
  {
   "cell_type": "code",
   "execution_count": null,
   "id": "69303ecf-26fb-4b0a-897c-d1b2a4bbe95f",
   "metadata": {},
   "outputs": [],
   "source": [
    "rna_data.write_h5ad('data/bonemarrow/rp/rna_rp_modeled_data.h5ad')"
   ]
  },
  {
   "cell_type": "markdown",
   "id": "ab21ea23-c21b-4a3d-82cd-a5fb5a049cc8",
   "metadata": {},
   "source": [
    "## Make graphics"
   ]
  },
  {
   "cell_type": "code",
   "execution_count": 229,
   "id": "9c0f187d-a50b-4adc-8e15-6b611a6d7aa9",
   "metadata": {},
   "outputs": [],
   "source": [
    "rna_data.var['corrected_logp'] = np.array(rna_data.layers['LITE_logp'].sum(0)).reshape(-1)/rna_data.var.n_cells_by_counts\n",
    "rna_data.var['not_corrected_logp'] = np.array(rna_data.layers['NOBATCH_LITE_logp'].sum(0)).reshape(-1)/rna_data.var.n_cells_by_counts\n",
    "rna_data.var['delta_logp'] = rna_data.var['corrected_logp'] - rna_data.var['not_corrected_logp']"
   ]
  },
  {
   "cell_type": "code",
   "execution_count": 231,
   "id": "93413f92-d4c9-4903-a8e5-0c143f08afdd",
   "metadata": {},
   "outputs": [
    {
     "data": {
      "image/png": "[encoded data removed]",
      "text/plain": [
       "<Figure size 72x360 with 1 Axes>"
      ]
     },
     "metadata": {
      "needs_background": "light"
     },
     "output_type": "display_data"
    }
   ],
   "source": [
    "fig, ax = plt.subplots(1,1,figsize=(1,5))\n",
    "sns.histplot(\n",
    "    y = rna_data.var.loc[litemodel.features].delta_logp,\n",
    "    ax = ax,\n",
    "    color = 'grey',\n",
    "    edgecolor = 'black',\n",
    "    fill='black',\n",
    "    linewidth = 0.1\n",
    ")\n",
    "ax.set(xticks = [], ylim = (-0.3, 0.3), yticks = [0.],\n",
    "      xlabel = '')\n",
    "for t in ['top','bottom','right']:\n",
    "    ax.spines[t].set_visible(False)\n",
    "    \n",
    "plt.savefig('figure1/RP_likelihood.svg')"
   ]
  },
  {
   "cell_type": "code",
   "execution_count": 18,
   "id": "a1516a6f-d500-4c2e-9133-3b013e357dda",
   "metadata": {},
   "outputs": [
    {
     "name": "stderr",
     "output_type": "stream",
     "text": [
      "INFO:mira.adata_interface.topic_model:Fetching key X_topic_compositions from obsm\n"
     ]
    },
    {
     "data": {
      "application/vnd.jupyter.widget-view+json": {
       "model_id": "fc374220cb604e23a1375ac3f2f7317f",
       "version_major": 2,
       "version_minor": 0
      },
      "text/plain": [
       "Imputing features:   0%|          | 0/239 [00:00<?, ?it/s]"
      ]
     },
     "metadata": {},
     "output_type": "display_data"
    },
    {
     "name": "stderr",
     "output_type": "stream",
     "text": [
      "INFO:mira.adata_interface.core:Added layer: batch_effect\n"
     ]
    }
   ],
   "source": [
    "rna_model.get_batch_effect(rna_data)"
   ]
  },
  {
   "cell_type": "code",
   "execution_count": 60,
   "id": "f4052cc9-b391-46a7-8dc8-e2753057b241",
   "metadata": {},
   "outputs": [],
   "source": [
    "from mira.plots import regulatory_dynamics_plot, rp_plots\n",
    "\n",
    "tss_data = pd.DataFrame(mira.utils.fetch_TSS_data(atac_data)).T\n",
    "\n",
    "def set_spines(ax, spines = ['left','bottom']):\n",
    "    for spine in ['left','right','top','bottom']:\n",
    "        if not spine in spines:\n",
    "            ax.spines[spine].set_visible(False)"
   ]
  },
  {
   "cell_type": "code",
   "execution_count": null,
   "id": "802235b1-d957-4e9e-8888-157b7cbd7cc8",
   "metadata": {},
   "outputs": [
    {
     "name": "stderr",
     "output_type": "stream",
     "text": [
      "Intersecting RP models with interval: 100%|████████████████████████████████████████████████████████████████████| 2841/2841 [00:00<00:00, 16712.23it/s]\n"
     ]
    },
    {
     "data": {
      "application/vnd.jupyter.widget-view+json": {
       "model_id": "d35326ec1bc04ba79c531c09112fc3fe",
       "version_major": 2,
       "version_minor": 0
      },
      "text/plain": [
       "Plotting fragments:   0%|          | 0/40535 [00:00<?, ?it/s]"
      ]
     },
     "metadata": {},
     "output_type": "display_data"
    }
   ],
   "source": [
    "fig = plt.figure(figsize=(10, 10))\n",
    "gs = fig.add_gridspec(3, 3,  width_ratios=(7, 2, 2), height_ratios=(1,0.5,7),\n",
    "                      left=0.1, right=0.9, bottom=0.1, top=0.9,\n",
    "                      wspace=0.05, hspace=0.05)\n",
    "\n",
    "panel = fig.add_subplot(gs[2, 0])\n",
    "rp_model = fig.add_subplot(gs[0, 0], sharex=panel)\n",
    "genetrack = fig.add_subplot(gs[1,0], sharex = panel)\n",
    "score = fig.add_subplot(gs[2, 1], sharey=panel)\n",
    "batcheffect = fig.add_subplot(gs[2, 2], sharey=panel)\n",
    "\n",
    "rp_plots._plot_rp_models(rp_model, \n",
    "                         interval_chrom='chr17',\n",
    "                         interval_start= 44199732,\n",
    "                         interval_end= 44656763,\n",
    "                         rp_models=corrected_litemodel,\n",
    "                         gene_id=tss_data.index.values,\n",
    "                         chrom=tss_data.gene_chrom.values,\n",
    "                         start = tss_data.gene_start.values,\n",
    "                         end = tss_data.gene_end.values,\n",
    "                         strand = tss_data.gene_strand.values)\n",
    "set_spines(rp_model, ['bottom'])\n",
    "rp_model.set(yticks = [0.,1.], xticks = [])\n",
    "\n",
    "regulatory_dynamics_plot.plot_fragment_heatmap(panel,\n",
    "    accessibility=atac_data[m].X, \n",
    "    chrom = 'chr17',\n",
    "    start = 44199732,\n",
    "    end = 44656763,\n",
    "    peaks = atac_data[m].var[['chr','start','end']].values,\n",
    "    time = -atac_data[m].obs_vector('GEX_pseudotime_order')\n",
    ")\n",
    "set_spines(panel, ['top'])\n",
    "\n",
    "set_spines(genetrack, [])\n",
    "genetrack.set(yticks = [])\n",
    "\n",
    "m = ~rna_data.obs.GEX_pseudotime_order.isna()\n",
    "sns.scatterplot(\n",
    "    ax = score,\n",
    "    y = (rna_data[m].obs_vector('GEX_pseudotime_order')).argsort().argsort(),\n",
    "    x = np.log(rna_data[m].obs_vector(g, layer='LITE_prediction')),\n",
    "    hue = rna_data[m].obs_vector(g),\n",
    "    palette=sns.color_palette('light:blue', as_cmap=True),\n",
    "    s = 2,\n",
    "    legend=False\n",
    ")\n",
    "set_spines(score, ['left', 'top'])\n",
    "score.set(xticks = [], yticks = [])\n",
    "\n",
    "\n",
    "sns.scatterplot(\n",
    "    ax = batcheffect,\n",
    "    y = (rna_data[m].obs_vector('GEX_pseudotime_order')).argsort().argsort(),\n",
    "    x = rna_data[m].obs_vector(g, layer='batch_effect'),\n",
    "    hue = rna_data[m].obs_vector('batch'),\n",
    "    palette=dt.bonemarrow.colors.BATCH_PALETTE.values(),\n",
    "    hue_order=dt.bonemarrow.colors.BATCH_PALETTE.keys(),\n",
    "    s = 2,\n",
    "    legend=False\n",
    ")\n",
    "batcheffect.set(xticks = [0], yticks = [])\n",
    "set_spines(batcheffect, ['left', 'top'])\n",
    "batcheffect.xaxis.set_tick_params(labeltop=True)\n",
    "batcheffect.xaxis.set_tick_params(labelbottom=False)\n",
    "\n",
    "plt.show()"
   ]
  },
  {
   "cell_type": "code",
   "execution_count": null,
   "id": "6ee08dc6-7020-416f-8095-8ad434410074",
   "metadata": {},
   "outputs": [],
   "source": []
  }
 ],
 "metadata": {
  "kernelspec": {
   "display_name": "batcheffect-env",
   "language": "python",
   "name": "batcheffect-env"
  },
  "language_info": {
   "codemirror_mode": {
    "name": "ipython",
    "version": 3
   },
   "file_extension": ".py",
   "mimetype": "text/x-python",
   "name": "python",
   "nbconvert_exporter": "python",
   "pygments_lexer": "ipython3",
   "version": "3.7.12"
  }
 },
 "nbformat": 4,
 "nbformat_minor": 5
}
